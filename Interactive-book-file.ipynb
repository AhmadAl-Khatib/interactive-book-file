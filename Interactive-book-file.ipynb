{
 "cells": [
  {
   "cell_type": "markdown",
   "id": "b97683f6-c7c1-4000-b45a-198b5afe1ed4",
   "metadata": {
    "deletable": false,
    "editable": false,
    "slideshow": {
     "slide_type": ""
    },
    "tags": []
   },
   "source": [
    "# -الفصل -1"
   ]
  },
  {
   "cell_type": "markdown",
   "id": "e952b7f2-d408-4a6f-be44-23d67e907ceb",
   "metadata": {
    "editable": false,
    "slideshow": {
     "slide_type": ""
    },
    "tags": []
   },
   "source": [
    "## print() (Function الفانكشن) n-1"
   ]
  },
  {
   "cell_type": "code",
   "execution_count": 52,
   "id": "bcd7d22b-2d37-4a9b-99dc-f09ffd6b18c8",
   "metadata": {},
   "outputs": [
    {
     "name": "stdout",
     "output_type": "stream",
     "text": [
      "I started programming!\n"
     ]
    }
   ],
   "source": [
    "print('I started programming!')"
   ]
  },
  {
   "cell_type": "code",
   "execution_count": 53,
   "id": "d6513484-d5db-4852-b62e-af6af2c2efe6",
   "metadata": {},
   "outputs": [
    {
     "name": "stdout",
     "output_type": "stream",
     "text": [
      "He says:\"Hello mom!\"\n"
     ]
    }
   ],
   "source": [
    "print('He says:\"Hello mom!\"')"
   ]
  },
  {
   "cell_type": "code",
   "execution_count": 56,
   "id": "f679aa7e-6060-471a-8d34-f16e0524b21c",
   "metadata": {},
   "outputs": [
    {
     "ename": "SyntaxError",
     "evalue": "invalid syntax. Perhaps you forgot a comma? (181778668.py, line 1)",
     "output_type": "error",
     "traceback": [
      "\u001b[1;36m  Cell \u001b[1;32mIn[56], line 1\u001b[1;36m\u001b[0m\n\u001b[1;33m    print(\"He says:\"Hello mom!\"\")\u001b[0m\n\u001b[1;37m          ^\u001b[0m\n\u001b[1;31mSyntaxError\u001b[0m\u001b[1;31m:\u001b[0m invalid syntax. Perhaps you forgot a comma?\n"
     ]
    }
   ],
   "source": [
    "print(\"He says:\"Hello mom!\"\")"
   ]
  },
  {
   "cell_type": "code",
   "execution_count": 57,
   "id": "ecece209-54ba-40f5-b9d8-68f720a7cc85",
   "metadata": {},
   "outputs": [
    {
     "name": "stdout",
     "output_type": "stream",
     "text": [
      "Bonjour c'est moi\n"
     ]
    }
   ],
   "source": [
    "print(\"Bonjour c'est moi\")"
   ]
  },
  {
   "cell_type": "code",
   "execution_count": 58,
   "id": "7bcb4298-fba5-479d-8c4b-c490285df5c4",
   "metadata": {},
   "outputs": [
    {
     "ename": "SyntaxError",
     "evalue": "unterminated string literal (detected at line 1) (4019301121.py, line 1)",
     "output_type": "error",
     "traceback": [
      "\u001b[1;36m  Cell \u001b[1;32mIn[58], line 1\u001b[1;36m\u001b[0m\n\u001b[1;33m    print('Bonjour c'est moi')\u001b[0m\n\u001b[1;37m                            ^\u001b[0m\n\u001b[1;31mSyntaxError\u001b[0m\u001b[1;31m:\u001b[0m unterminated string literal (detected at line 1)\n"
     ]
    }
   ],
   "source": [
    "print('Bonjour c'est moi')"
   ]
  },
  {
   "cell_type": "markdown",
   "id": "74fb55c4-637b-4bef-9002-0dc9758cf635",
   "metadata": {
    "editable": false,
    "slideshow": {
     "slide_type": ""
    },
    "tags": []
   },
   "source": [
    "## (Value الڤاليو) و (Variable الڤاريابل) n-2 \n"
   ]
  },
  {
   "cell_type": "code",
   "execution_count": 59,
   "id": "ba98eccc-0e6c-4e57-9c0d-fe49546ab861",
   "metadata": {},
   "outputs": [
    {
     "name": "stdout",
     "output_type": "stream",
     "text": [
      "Egypt\n"
     ]
    }
   ],
   "source": [
    "country_name = \"Egypt\"\n",
    "print(country_name)"
   ]
  },
  {
   "cell_type": "code",
   "execution_count": 60,
   "id": "ba9c55b3-65f5-4b72-bdc8-1a984e5601c0",
   "metadata": {},
   "outputs": [
    {
     "name": "stdout",
     "output_type": "stream",
     "text": [
      "country_name\n"
     ]
    }
   ],
   "source": [
    "country_name = \"Egypt\"\n",
    "print(\"country_name\")"
   ]
  },
  {
   "cell_type": "code",
   "execution_count": 61,
   "id": "6cc67ae6-6f79-48c1-a026-22e13bf9b624",
   "metadata": {},
   "outputs": [
    {
     "ename": "SyntaxError",
     "evalue": "invalid syntax (2147189351.py, line 1)",
     "output_type": "error",
     "traceback": [
      "\u001b[1;36m  Cell \u001b[1;32mIn[61], line 1\u001b[1;36m\u001b[0m\n\u001b[1;33m    country name = \"KSA\"\u001b[0m\n\u001b[1;37m            ^\u001b[0m\n\u001b[1;31mSyntaxError\u001b[0m\u001b[1;31m:\u001b[0m invalid syntax\n"
     ]
    }
   ],
   "source": [
    "country name = \"KSA\""
   ]
  },
  {
   "cell_type": "code",
   "execution_count": 62,
   "id": "e31a27d6-20c4-487d-b23f-c49fee52d67f",
   "metadata": {},
   "outputs": [
    {
     "ename": "SyntaxError",
     "evalue": "invalid decimal literal (2388632982.py, line 1)",
     "output_type": "error",
     "traceback": [
      "\u001b[1;36m  Cell \u001b[1;32mIn[62], line 1\u001b[1;36m\u001b[0m\n\u001b[1;33m    1country_name = \"KSA\"\u001b[0m\n\u001b[1;37m    ^\u001b[0m\n\u001b[1;31mSyntaxError\u001b[0m\u001b[1;31m:\u001b[0m invalid decimal literal\n"
     ]
    }
   ],
   "source": [
    "1country_name = \"KSA\""
   ]
  },
  {
   "cell_type": "code",
   "execution_count": 63,
   "id": "9dc96847-a73f-420a-8c7d-90fc75e53404",
   "metadata": {},
   "outputs": [
    {
     "name": "stdout",
     "output_type": "stream",
     "text": [
      "Hessa\n"
     ]
    }
   ],
   "source": [
    "name = 'Fahed'\n",
    "name = 'Hessa'\n",
    "print(name)"
   ]
  },
  {
   "cell_type": "markdown",
   "id": "3b81f7a6-25f7-49dd-ad1f-47714605d06e",
   "metadata": {
    "editable": false,
    "slideshow": {
     "slide_type": ""
    },
    "tags": []
   },
   "source": [
    "## .upper() و .lower() و .title() (Method الميثود) n-3"
   ]
  },
  {
   "cell_type": "code",
   "execution_count": 64,
   "id": "e0d7b71c-f4a8-49cc-88cf-10e24262117e",
   "metadata": {},
   "outputs": [
    {
     "name": "stdout",
     "output_type": "stream",
     "text": [
      "water\n",
      "WATER\n"
     ]
    }
   ],
   "source": [
    "drink = \"water\"\n",
    "print(drink)\n",
    "print(drink.upper())"
   ]
  },
  {
   "cell_type": "code",
   "execution_count": 65,
   "id": "9e60f514-acfa-4203-a70e-33f0bac1c531",
   "metadata": {
    "editable": true,
    "slideshow": {
     "slide_type": ""
    },
    "tags": []
   },
   "outputs": [
    {
     "name": "stdout",
     "output_type": "stream",
     "text": [
      "mohammed\n"
     ]
    }
   ],
   "source": [
    "name_1 = \"MOHAMMED\"\n",
    "name_2 = name_1.lower()\n",
    "print(name_2)"
   ]
  },
  {
   "cell_type": "code",
   "execution_count": 66,
   "id": "f53bed34-e1a1-44c0-b189-b4ac131de3c7",
   "metadata": {},
   "outputs": [
    {
     "name": "stdout",
     "output_type": "stream",
     "text": [
      "Joujou Samir, Salma Zahrani, Tarek Beiruti\n"
     ]
    }
   ],
   "source": [
    "participants = \"jOUjoU samiR, SAlma ZahrAni, TaRek BeiRuti\"\n",
    "print(participants.title())"
   ]
  },
  {
   "cell_type": "markdown",
   "id": "0c4b5b03-0790-48ad-b897-3985d39c1a3e",
   "metadata": {
    "editable": false,
    "slideshow": {
     "slide_type": ""
    },
    "tags": []
   },
   "source": [
    "# -الفصل -2"
   ]
  },
  {
   "cell_type": "markdown",
   "id": "da62a4e0-8e6e-4dd5-bda4-efd0dea2041b",
   "metadata": {},
   "source": [
    "## (نمبر Number) العدد n-1"
   ]
  },
  {
   "cell_type": "code",
   "execution_count": 67,
   "id": "4a799984-e94e-4d36-a36e-4931be139bef",
   "metadata": {},
   "outputs": [
    {
     "name": "stdout",
     "output_type": "stream",
     "text": [
      "8\n"
     ]
    }
   ],
   "source": [
    "apples = 8\n",
    "print(apples)"
   ]
  },
  {
   "cell_type": "code",
   "execution_count": 68,
   "id": "8d0ef659-3fe9-4897-bd08-2301a25790ad",
   "metadata": {},
   "outputs": [
    {
     "name": "stdout",
     "output_type": "stream",
     "text": [
      "8\n"
     ]
    }
   ],
   "source": [
    "apples = \"8\"\n",
    "print(apples)"
   ]
  },
  {
   "cell_type": "markdown",
   "id": "eeabb28c-c622-4548-98ff-0bdbfe6c466c",
   "metadata": {},
   "source": [
    "## حالات استخدام عامل الجمع + بين الأعداد/(نمبر)، وبين النصوص/(سترينچ) n-2"
   ]
  },
  {
   "cell_type": "code",
   "execution_count": 69,
   "id": "972bf6fa-b778-4a43-80a3-99c9bf20f2d9",
   "metadata": {},
   "outputs": [
    {
     "name": "stdout",
     "output_type": "stream",
     "text": [
      "8\n"
     ]
    }
   ],
   "source": [
    "eggs = 4 + 4\n",
    "print(eggs)"
   ]
  },
  {
   "cell_type": "code",
   "execution_count": 70,
   "id": "dd86722f-9b82-4b0f-a2ae-fdb02d129a59",
   "metadata": {},
   "outputs": [
    {
     "name": "stdout",
     "output_type": "stream",
     "text": [
      "Nadia Nado\n"
     ]
    }
   ],
   "source": [
    "first_name = \"Nadia\"\n",
    "nickname = \"Nado\"\n",
    "print(first_name + \" \" + nickname)"
   ]
  },
  {
   "cell_type": "code",
   "execution_count": 71,
   "id": "95cd87ba-06f8-490c-86b7-8113c43a6fd1",
   "metadata": {},
   "outputs": [
    {
     "ename": "TypeError",
     "evalue": "can only concatenate str (not \"int\") to str",
     "output_type": "error",
     "traceback": [
      "\u001b[1;31m---------------------------------------------------------------------------\u001b[0m",
      "\u001b[1;31mTypeError\u001b[0m                                 Traceback (most recent call last)",
      "Cell \u001b[1;32mIn[71], line 1\u001b[0m\n\u001b[1;32m----> 1\u001b[0m \u001b[38;5;28mprint\u001b[39m(\u001b[43mfirst_name\u001b[49m\u001b[43m \u001b[49m\u001b[38;5;241;43m+\u001b[39;49m\u001b[43m \u001b[49m\u001b[43meggs\u001b[49m)\n",
      "\u001b[1;31mTypeError\u001b[0m: can only concatenate str (not \"int\") to str"
     ]
    }
   ],
   "source": [
    "print(first_name + eggs)"
   ]
  },
  {
   "cell_type": "markdown",
   "id": "30ad4d2d-f81f-415e-a4f8-141f9551da6d",
   "metadata": {},
   "source": [
    "## str() و (الفانكشن) int() (الفانكشن) n-3"
   ]
  },
  {
   "cell_type": "code",
   "execution_count": 72,
   "id": "1a68960f-00eb-4c16-81c7-e621939650c6",
   "metadata": {},
   "outputs": [
    {
     "name": "stdout",
     "output_type": "stream",
     "text": [
      "I am 34 years old.\n"
     ]
    }
   ],
   "source": [
    "age = 34\n",
    "print('I am' + ' ' + str(age) + ' years old.')"
   ]
  },
  {
   "cell_type": "code",
   "execution_count": 73,
   "id": "0a3999e1-e57c-4ee5-bcda-566d7c38ab8e",
   "metadata": {},
   "outputs": [
    {
     "name": "stdout",
     "output_type": "stream",
     "text": [
      "15\n"
     ]
    }
   ],
   "source": [
    "price = \"10\"\n",
    "delivery = \"5\"\n",
    "total_cost = int(price) + int(delivery)\n",
    "print(total_cost)"
   ]
  },
  {
   "cell_type": "markdown",
   "id": "ea4436e0-ab26-48fa-b6e4-3303362caae6",
   "metadata": {},
   "source": [
    "## أنواع العدد في (پايثون) وبعض العمليات الحسابية الأساسية n-4"
   ]
  },
  {
   "cell_type": "code",
   "execution_count": 74,
   "id": "94a74749-9581-4ddd-96f7-0d910da770b8",
   "metadata": {},
   "outputs": [],
   "source": [
    "a = 2\n",
    "b = 5\n",
    "c = 0.5"
   ]
  },
  {
   "cell_type": "code",
   "execution_count": 75,
   "id": "4dfc3a80-7698-495e-99cf-e9447ba7d63f",
   "metadata": {},
   "outputs": [
    {
     "name": "stdout",
     "output_type": "stream",
     "text": [
      "7\n"
     ]
    }
   ],
   "source": [
    "print(a + b)"
   ]
  },
  {
   "cell_type": "code",
   "execution_count": 76,
   "id": "3d66475b-ca36-4d94-a238-e12c42074feb",
   "metadata": {},
   "outputs": [
    {
     "name": "stdout",
     "output_type": "stream",
     "text": [
      "3\n"
     ]
    }
   ],
   "source": [
    "print(b - a)"
   ]
  },
  {
   "cell_type": "code",
   "execution_count": 77,
   "id": "8637e32f-5fe3-4533-816a-33c242a441a7",
   "metadata": {},
   "outputs": [
    {
     "name": "stdout",
     "output_type": "stream",
     "text": [
      "4.0\n"
     ]
    }
   ],
   "source": [
    "print(a / c)"
   ]
  },
  {
   "cell_type": "code",
   "execution_count": 78,
   "id": "65d1cc67-bb49-41f5-a5ba-167fbeefe36d",
   "metadata": {},
   "outputs": [
    {
     "name": "stdout",
     "output_type": "stream",
     "text": [
      "25\n"
     ]
    }
   ],
   "source": [
    "print(b ** a)"
   ]
  },
  {
   "cell_type": "code",
   "execution_count": 79,
   "id": "70716c15-0635-474c-a51c-d34fa63ff3c3",
   "metadata": {},
   "outputs": [
    {
     "name": "stdout",
     "output_type": "stream",
     "text": [
      "35\n"
     ]
    }
   ],
   "source": [
    "print((a + b) * b)"
   ]
  },
  {
   "cell_type": "markdown",
   "id": "023be02e-9ce3-48d9-9223-050162839239",
   "metadata": {},
   "source": [
    "## أوامر تتعلق بالتعامل مع (السترينچ) n-5"
   ]
  },
  {
   "cell_type": "markdown",
   "id": "3463cf69-d258-4faf-9664-5af65e45ace3",
   "metadata": {},
   "source": [
    "### لجمع-النصوص/(كومباينينچ) والفصل بينها بفراغ print() استخدام رمز الفاصلة ( , ) بين هلالي (الفانكش) n-5.1"
   ]
  },
  {
   "cell_type": "code",
   "execution_count": 80,
   "id": "1abda30e-6a92-4852-851f-0b1683aea36f",
   "metadata": {},
   "outputs": [
    {
     "name": "stdout",
     "output_type": "stream",
     "text": [
      "Dwayne Johnson\n"
     ]
    }
   ],
   "source": [
    "first_name = \"Dwayne\"\n",
    "last_name = \"Johnson\"\n",
    "print(first_name, last_name)"
   ]
  },
  {
   "cell_type": "code",
   "execution_count": 81,
   "id": "33027a14-d0de-4c7f-831b-0ab6eede66e9",
   "metadata": {},
   "outputs": [
    {
     "name": "stdout",
     "output_type": "stream",
     "text": [
      "Qatar 2022 big event!\n"
     ]
    }
   ],
   "source": [
    "print('Qatar','2022','big event!')"
   ]
  },
  {
   "cell_type": "markdown",
   "id": "0e516b94-dfa2-4f87-9701-3d300d28fd41",
   "metadata": {},
   "source": [
    "### \\n والنزول إلى سطر جديد \\t مسافة البدء n-5.2"
   ]
  },
  {
   "cell_type": "code",
   "execution_count": 82,
   "id": "0e79d4d0-6497-44e5-a256-35ea33c12c50",
   "metadata": {},
   "outputs": [
    {
     "name": "stdout",
     "output_type": "stream",
     "text": [
      "Hello\n",
      "\tHello\n"
     ]
    }
   ],
   "source": [
    "print('Hello')\n",
    "print('\\tHello')"
   ]
  },
  {
   "cell_type": "code",
   "execution_count": 83,
   "id": "45064939-7ef5-4b11-ae74-1c43ae2e3ce1",
   "metadata": {},
   "outputs": [
    {
     "name": "stdout",
     "output_type": "stream",
     "text": [
      "Hello...\n",
      "Where are you?!\n",
      "Are you there?\n"
     ]
    }
   ],
   "source": [
    "print(\"Hello...\")\n",
    "print(\"Where are you?!\")\n",
    "print(\"Are you there?\")"
   ]
  },
  {
   "cell_type": "code",
   "execution_count": 84,
   "id": "f000530e-b89f-40a9-b297-2abe6d122ef0",
   "metadata": {},
   "outputs": [
    {
     "name": "stdout",
     "output_type": "stream",
     "text": [
      "Hello...\n",
      "Where are you?!\n",
      "Are you there?\n"
     ]
    }
   ],
   "source": [
    "print(\"Hello...\\nWhere are you?!\\nAre you there?\")"
   ]
  },
  {
   "cell_type": "code",
   "execution_count": 85,
   "id": "34a869c1-7531-4531-ab71-6a33de5b07dc",
   "metadata": {},
   "outputs": [
    {
     "name": "stdout",
     "output_type": "stream",
     "text": [
      "\tHello\n",
      "What is your name?\n"
     ]
    }
   ],
   "source": [
    "print('\\tHello\\nWhat is your name?')"
   ]
  },
  {
   "cell_type": "markdown",
   "id": "5efbf00e-c87d-43b0-b5bf-11a4a3c4287c",
   "metadata": {},
   "source": [
    "### \"\"\" \"\"\" تعريف (السترينچ) بالطريقة السداسية n-5.3"
   ]
  },
  {
   "cell_type": "code",
   "execution_count": 86,
   "id": "e587e5f7-a1ba-4aaa-b2dd-6d25d5338976",
   "metadata": {},
   "outputs": [
    {
     "name": "stdout",
     "output_type": "stream",
     "text": [
      "I'm not sure, is it for \"Bob\"?\n"
     ]
    }
   ],
   "source": [
    "print(\"\"\"I'm not sure, is it for \"Bob\"?\"\"\")"
   ]
  },
  {
   "cell_type": "code",
   "execution_count": 87,
   "id": "024d18a4-fdb2-4516-981b-a6a2b94749df",
   "metadata": {},
   "outputs": [
    {
     "ename": "SyntaxError",
     "evalue": "invalid syntax. Perhaps you forgot a comma? (3845445281.py, line 1)",
     "output_type": "error",
     "traceback": [
      "\u001b[1;36m  Cell \u001b[1;32mIn[87], line 1\u001b[1;36m\u001b[0m\n\u001b[1;33m    print(\"I'm not sure, is it for \"Bob\"?\")\u001b[0m\n\u001b[1;37m          ^\u001b[0m\n\u001b[1;31mSyntaxError\u001b[0m\u001b[1;31m:\u001b[0m invalid syntax. Perhaps you forgot a comma?\n"
     ]
    }
   ],
   "source": [
    "print(\"I'm not sure, is it for \"Bob\"?\")"
   ]
  },
  {
   "cell_type": "code",
   "execution_count": 88,
   "id": "07db7136-6ac0-4c4f-8578-196d07422ef7",
   "metadata": {},
   "outputs": [
    {
     "ename": "SyntaxError",
     "evalue": "unterminated string literal (detected at line 1) (3124690855.py, line 1)",
     "output_type": "error",
     "traceback": [
      "\u001b[1;36m  Cell \u001b[1;32mIn[88], line 1\u001b[1;36m\u001b[0m\n\u001b[1;33m    print('I'm not sure, is it for \"Bob\"?')\u001b[0m\n\u001b[1;37m                                         ^\u001b[0m\n\u001b[1;31mSyntaxError\u001b[0m\u001b[1;31m:\u001b[0m unterminated string literal (detected at line 1)\n"
     ]
    }
   ],
   "source": [
    "print('I'm not sure, is it for \"Bob\"?')"
   ]
  },
  {
   "cell_type": "code",
   "execution_count": 89,
   "id": "4d9d26f2-ec59-4310-b5b1-474c3dc600eb",
   "metadata": {},
   "outputs": [
    {
     "name": "stdout",
     "output_type": "stream",
     "text": [
      "Hello\n",
      "How are you?\n",
      "I miss you!\n"
     ]
    }
   ],
   "source": [
    "print(\"\"\"Hello\n",
    "How are you?\n",
    "I miss you!\"\"\")"
   ]
  },
  {
   "cell_type": "code",
   "execution_count": 90,
   "id": "76b84aa5-4b44-4901-a044-455707b9917f",
   "metadata": {},
   "outputs": [
    {
     "name": "stdout",
     "output_type": "stream",
     "text": [
      "Hello\n",
      "How are you?\n",
      "I miss you!\n"
     ]
    }
   ],
   "source": [
    "message = \"\"\"Hello\n",
    "How are you?\n",
    "I miss you!\"\"\"\n",
    "print(message)"
   ]
  },
  {
   "cell_type": "code",
   "execution_count": 91,
   "id": "505703fd-7a11-412f-acc1-c2a63128ec8c",
   "metadata": {},
   "outputs": [
    {
     "name": "stdout",
     "output_type": "stream",
     "text": [
      "C'est pour moi et c'est pour \"Bob\"\n"
     ]
    }
   ],
   "source": [
    "print('''C'est pour moi et c'est pour \"Bob\"''')"
   ]
  },
  {
   "cell_type": "code",
   "execution_count": 92,
   "id": "412f31c1-27db-4a0c-879c-52401d26ae35",
   "metadata": {},
   "outputs": [
    {
     "ename": "SyntaxError",
     "evalue": "unterminated string literal (detected at line 1) (153323664.py, line 1)",
     "output_type": "error",
     "traceback": [
      "\u001b[1;36m  Cell \u001b[1;32mIn[92], line 1\u001b[1;36m\u001b[0m\n\u001b[1;33m    print(\"\"\"C'est pour moi et c'est pour \"Bob\"\"\"\")\u001b[0m\n\u001b[1;37m                                                 ^\u001b[0m\n\u001b[1;31mSyntaxError\u001b[0m\u001b[1;31m:\u001b[0m unterminated string literal (detected at line 1)\n"
     ]
    }
   ],
   "source": [
    "print(\"\"\"C'est pour moi et c'est pour \"Bob\"\"\"\")"
   ]
  },
  {
   "cell_type": "markdown",
   "id": "7704d0f9-4129-487f-849c-a225822f94fb",
   "metadata": {},
   "source": [
    "### .lstrip() .rstrip() .strip() إزالة الفراغات عن أطراف (السترينچ) n-5.4"
   ]
  },
  {
   "cell_type": "code",
   "execution_count": 93,
   "id": "86da4427-18d9-43e8-8e5f-c02ddd0d8392",
   "metadata": {},
   "outputs": [
    {
     "name": "stdout",
     "output_type": "stream",
     "text": [
      "Amal Msakni\n"
     ]
    }
   ],
   "source": [
    "name_1 = \"  Amal Msakni \"\n",
    "print(name_1.strip())"
   ]
  },
  {
   "cell_type": "code",
   "execution_count": 94,
   "id": "3867d2d8-0e7b-4b79-bc50-a476521c52e9",
   "metadata": {},
   "outputs": [
    {
     "name": "stdout",
     "output_type": "stream",
     "text": [
      "     Marwan Al Hakami\n"
     ]
    }
   ],
   "source": [
    "name_2 = \"     Marwan Al Hakami     \"\n",
    "print(name_2.rstrip())"
   ]
  },
  {
   "cell_type": "code",
   "execution_count": 95,
   "id": "43be5e6f-4032-400e-9e7d-c331373545f0",
   "metadata": {},
   "outputs": [
    {
     "name": "stdout",
     "output_type": "stream",
     "text": [
      "Marwan Al Hakami     \n"
     ]
    }
   ],
   "source": [
    "name_3 = \"     Marwan Al Hakami     \"\n",
    "print(name_3.lstrip())"
   ]
  },
  {
   "cell_type": "markdown",
   "id": "25523d27-fdbe-4f4d-9ec5-94ed4e60ce5f",
   "metadata": {},
   "source": [
    "### استخدام رمز الشرطة العكسية (\\\\) لتجاوز الرموز الخاصة أو تجزئة أسطر (الكود) الطويلة إلى عدة أسطر n-5.5"
   ]
  },
  {
   "cell_type": "markdown",
   "id": "9bb14883-5883-45f2-bf45-640c5a840881",
   "metadata": {},
   "source": [
    "#### تجاوز الرموز الخاصة"
   ]
  },
  {
   "cell_type": "code",
   "execution_count": 96,
   "id": "9078e4e6-6873-4925-97e2-0a1d4db46276",
   "metadata": {},
   "outputs": [
    {
     "name": "stdout",
     "output_type": "stream",
     "text": [
      "C'est bon\n"
     ]
    }
   ],
   "source": [
    "print('C\\'est bon')"
   ]
  },
  {
   "cell_type": "code",
   "execution_count": 97,
   "id": "d48b3918-f4c7-44f5-811a-26b264712bbf",
   "metadata": {},
   "outputs": [
    {
     "name": "stdout",
     "output_type": "stream",
     "text": [
      "\\ backslash\n"
     ]
    }
   ],
   "source": [
    "print('\\\\ backslash')"
   ]
  },
  {
   "cell_type": "code",
   "execution_count": 98,
   "id": "2886f141-3285-482d-88a2-095c9b812f2d",
   "metadata": {},
   "outputs": [
    {
     "name": "stdout",
     "output_type": "stream",
     "text": [
      "\\t is a special character\n"
     ]
    }
   ],
   "source": [
    "print('\\\\t is a special character')"
   ]
  },
  {
   "cell_type": "markdown",
   "id": "73eb6642-ea8f-4f96-b1c7-e5b0cfea0320",
   "metadata": {},
   "source": [
    "#### تجزئة سطر (الكود) الطويل إلى عدة أسطر"
   ]
  },
  {
   "cell_type": "code",
   "execution_count": 99,
   "id": "e583c159-308c-499d-9569-634b3d85f415",
   "metadata": {},
   "outputs": [],
   "source": [
    "a = (\"Python has been an important part of Google since the beginning, \\\n",
    "and remains so as the system grows and evolves. Today dozens of Google \\\n",
    "engineers use Python, and we're looking for more people with skills in \\\n",
    "this language. Peter Norvig\")"
   ]
  },
  {
   "cell_type": "code",
   "execution_count": 100,
   "id": "fe7762e0-b2cb-47b6-8d1b-24ac91db5d5b",
   "metadata": {},
   "outputs": [
    {
     "name": "stdout",
     "output_type": "stream",
     "text": [
      "Python has been an important part of Google since the beginning, and remains so as the system grows and evolves. Today dozens of Google engineers use Python, and we're looking for more people with skills in this language. Peter Norvig\n"
     ]
    }
   ],
   "source": [
    "print(a)"
   ]
  },
  {
   "cell_type": "markdown",
   "id": "6f9a85eb-48f9-4d6e-a7a7-0b2fe3bb7c10",
   "metadata": {},
   "source": [
    "## (#) إضافة التعليقات إلى (الكود) n-6"
   ]
  },
  {
   "cell_type": "code",
   "execution_count": 101,
   "id": "39099981-70a7-49d6-be84-1ca0a5ea3998",
   "metadata": {},
   "outputs": [
    {
     "name": "stdout",
     "output_type": "stream",
     "text": [
      "1000 5\n"
     ]
    }
   ],
   "source": [
    "m = 1000 #weight is grams\n",
    "p = 5 #price in USD\n",
    "print(str(m), str(p)) #grams, USD"
   ]
  },
  {
   "cell_type": "markdown",
   "id": "76b9c756-e86e-4abc-9270-813636ed91b3",
   "metadata": {},
   "source": [
    "## تمرين الفصل الثاني"
   ]
  },
  {
   "cell_type": "code",
   "execution_count": 102,
   "id": "c19e5c2a-0027-4c0c-99b3-9164d44f5479",
   "metadata": {},
   "outputs": [
    {
     "name": "stdout",
     "output_type": "stream",
     "text": [
      "\tPython \"quotes\":\n",
      "Coding like poetry should be short and concise. - Santosh Kalwar\n",
      "First, solve the problem. Then, write the code. - John Johnson\n",
      "Make it work, make it right, make it fast. - Kent Beck\n",
      "\\t \\n\n",
      "Python\t\\\n",
      "Python.\n"
     ]
    }
   ],
   "source": [
    "print(\"\\tPython \\\"quotes\\\":\\n\\\n",
    "Coding like poetry should be short and concise. - Santosh Kalwar\\n\\\n",
    "First, solve the problem. Then, write the code. - John Johnson\\n\\\n",
    "Make it work, make it right, make it fast. - Kent Beck\\n\\\n",
    "\\\\t \\\\n\\n\\\n",
    "Python\\t\\\\\\n\\\n",
    "Python.\")"
   ]
  },
  {
   "cell_type": "markdown",
   "id": "54232dba-8b11-4957-800b-bbf16e90b81f",
   "metadata": {},
   "source": [
    "# -الفصل -3"
   ]
  },
  {
   "cell_type": "markdown",
   "id": "a355cbba-05ec-40ee-9fc4-b3c7b8b0932a",
   "metadata": {},
   "source": [
    "## مقدمة إلى اللوائح/تعريف اللائحة n-1"
   ]
  },
  {
   "cell_type": "code",
   "execution_count": 103,
   "id": "1a49391f-09fb-4749-9d22-7e5c9e1756a3",
   "metadata": {},
   "outputs": [],
   "source": [
    "food = [\"Bread\", \"Potato\", \"Tomato\", \"Cucumber\", \"Salt\", \"Olive oil\"]"
   ]
  },
  {
   "cell_type": "markdown",
   "id": "5779f93c-843a-4a10-89a7-e42ed80c2bc7",
   "metadata": {},
   "source": [
    "### تراتبية عناصر اللائحة و (كود) العنصر n-1.1"
   ]
  },
  {
   "cell_type": "code",
   "execution_count": 104,
   "id": "68b374a7-ac4b-4ddc-a9f3-9b814739325d",
   "metadata": {},
   "outputs": [
    {
     "name": "stdout",
     "output_type": "stream",
     "text": [
      "Potato\n"
     ]
    }
   ],
   "source": [
    "print(food[1])"
   ]
  },
  {
   "cell_type": "markdown",
   "id": "af6245f5-f4f9-48ff-a959-b8fceb888d15",
   "metadata": {},
   "source": [
    "#### الترقيم العكسي لعناصر اللائحة"
   ]
  },
  {
   "cell_type": "code",
   "execution_count": 105,
   "id": "e54ea1f6-b061-4fd3-9c43-97f0790e3595",
   "metadata": {},
   "outputs": [
    {
     "name": "stdout",
     "output_type": "stream",
     "text": [
      "BREAD salt\n"
     ]
    }
   ],
   "source": [
    "print(food[0].upper() + \" \" + food[-2].lower())"
   ]
  },
  {
   "cell_type": "markdown",
   "id": "e308e36b-ae73-460b-91a3-9503ef1c90c7",
   "metadata": {},
   "source": [
    "### تعديل اللوائح n-1.2"
   ]
  },
  {
   "cell_type": "markdown",
   "id": "1be49272-81b6-4dd6-96e5-7f54d5f444a4",
   "metadata": {},
   "source": [
    "#### إضافة العناصر إلى اللائحة n-1.2.i"
   ]
  },
  {
   "cell_type": "markdown",
   "id": "a542e6d9-14d5-4069-b69f-d4dbe5e310c6",
   "metadata": {},
   "source": [
    "##### .append() إضافة عنصر جديد في آخر اللائحة بواسطة (الميثود) n-1.2.i.a"
   ]
  },
  {
   "cell_type": "code",
   "execution_count": 106,
   "id": "1a025389-dfa6-43ca-9c4e-4292b7b9085b",
   "metadata": {},
   "outputs": [
    {
     "name": "stdout",
     "output_type": "stream",
     "text": [
      "['Ahmad', 'Sali', 'Dana', 'Morad']\n"
     ]
    }
   ],
   "source": [
    "hotel_guests = [\"Ahmad\", \"Sali\", \"Dana\"]\n",
    "hotel_guests.append(\"Morad\")\n",
    "print(hotel_guests)"
   ]
  },
  {
   "cell_type": "markdown",
   "id": "7b21e350-5ad3-4fe1-9efc-c560693e65c4",
   "metadata": {},
   "source": [
    "##### .insert() إضافة عنصر جديد في موضع محدد من اللائحة بواسطة (الميثود) n-1.2.i.b"
   ]
  },
  {
   "cell_type": "code",
   "execution_count": 107,
   "id": "d4413c45-4db3-4afd-83f0-ebf971f73cab",
   "metadata": {},
   "outputs": [
    {
     "name": "stdout",
     "output_type": "stream",
     "text": [
      "['Ahmad', 'Sali', 'Saud', 'Dana', 'Morad']\n"
     ]
    }
   ],
   "source": [
    "hotel_guests.insert(2, \"Saud\")\n",
    "print(hotel_guests)"
   ]
  },
  {
   "cell_type": "markdown",
   "id": "c0538f5d-c9c2-48d8-9330-f44a60246872",
   "metadata": {},
   "source": [
    "#### حذف العناصر من اللائحة n-1.2.ii"
   ]
  },
  {
   "cell_type": "markdown",
   "id": "c94397f3-66b6-4d04-82e5-aa30acfabe71",
   "metadata": {},
   "source": [
    "##### .remove() حذف عنصر محدد من اللائحة بحسب (الڤاليو) بواسطة (الميثود) n-1.2.ii.a"
   ]
  },
  {
   "cell_type": "code",
   "execution_count": 108,
   "id": "a0920ad7-1a31-474e-856c-5c0cc9177c0d",
   "metadata": {},
   "outputs": [
    {
     "name": "stdout",
     "output_type": "stream",
     "text": [
      "['Ahmad', 'Sali', 'Saud', 'Morad']\n"
     ]
    }
   ],
   "source": [
    "hotel_guests.remove(\"Dana\")\n",
    "print(hotel_guests)"
   ]
  },
  {
   "cell_type": "markdown",
   "id": "60118b9b-106b-4383-84ee-e302f1e80799",
   "metadata": {},
   "source": [
    "##### del حذف عنصر محدد من اللائحة بحسب رقم ترتيبه n-1.2.ii.b"
   ]
  },
  {
   "cell_type": "code",
   "execution_count": 109,
   "id": "9d095f61-bd58-4831-907f-4da999d1b8c1",
   "metadata": {},
   "outputs": [
    {
     "name": "stdout",
     "output_type": "stream",
     "text": [
      "['Sali', 'Saud', 'Morad']\n"
     ]
    }
   ],
   "source": [
    "del hotel_guests[0]\n",
    "print(hotel_guests)"
   ]
  },
  {
   "cell_type": "markdown",
   "id": "7b066bea-c066-42dc-84da-2a3bcc083663",
   "metadata": {},
   "source": [
    "##### .pop() حذف عنصر محدد من اللائحة مع امكانية تخزينه بواسطة (الميثود) n-1.2.ii.c"
   ]
  },
  {
   "cell_type": "markdown",
   "id": "b2002bb9-f687-401a-a8cf-276703cf1fbe",
   "metadata": {},
   "source": [
    "###### حذف العنصر الأخير من اللائحة"
   ]
  },
  {
   "cell_type": "code",
   "execution_count": 110,
   "id": "50f74265-4a28-41d3-8bf7-a61e5e1477bf",
   "metadata": {},
   "outputs": [
    {
     "name": "stdout",
     "output_type": "stream",
     "text": [
      "['Sali', 'Saud']\n",
      "Morad\n"
     ]
    }
   ],
   "source": [
    "guest = hotel_guests.pop()\n",
    "print(hotel_guests)\n",
    "print(guest)"
   ]
  },
  {
   "cell_type": "markdown",
   "id": "42bda254-756b-4738-bc69-15724cfd0aa6",
   "metadata": {},
   "source": [
    "###### حذف عنصر محدد من اللائحة"
   ]
  },
  {
   "cell_type": "code",
   "execution_count": 111,
   "id": "2febacd9-3b4b-4209-ac06-e6649165dd04",
   "metadata": {},
   "outputs": [
    {
     "name": "stdout",
     "output_type": "stream",
     "text": [
      "['Samir', 'Layla', 'Hassan']\n",
      "Hind\n"
     ]
    }
   ],
   "source": [
    "name_list = ['Samir', 'Layla', 'Hind', 'Hassan']\n",
    "name = name_list.pop(2)\n",
    "print(name_list)\n",
    "print(name)"
   ]
  },
  {
   "cell_type": "markdown",
   "id": "1098a4f8-4291-41d6-abea-623ce5e2714b",
   "metadata": {},
   "source": [
    "### تعديل عنصر محدد من اللائحة بواسطة (كود) العنصر n-1.3"
   ]
  },
  {
   "cell_type": "code",
   "execution_count": 112,
   "id": "c8fdec80-80b8-4c21-befc-604064ab86c7",
   "metadata": {},
   "outputs": [
    {
     "name": "stdout",
     "output_type": "stream",
     "text": [
      "['Mia', 'Eva', 'Anas']\n"
     ]
    }
   ],
   "source": [
    "name_list = ['Mia', 'Eva', 'Sam']\n",
    "name_list[2] = 'Anas'\n",
    "print(name_list)"
   ]
  },
  {
   "cell_type": "markdown",
   "id": "76a53e59-8724-4d2a-8dd7-1a5e99efe641",
   "metadata": {},
   "source": [
    "### إعادة ترتيب عناصر اللائحة n-1.4"
   ]
  },
  {
   "cell_type": "markdown",
   "id": "449e5652-1391-41cf-a192-cad39fd6d4e4",
   "metadata": {},
   "source": [
    "#### .sort() إعادة ترتيب عناصر اللائحة بشكل تصاعدي أو تنازلي بواسطة (الميثود) n-1.4.i"
   ]
  },
  {
   "cell_type": "markdown",
   "id": "b878fa04-052e-4549-b693-b03e2efe53e1",
   "metadata": {},
   "source": [
    "##### إعادة ترتيب عناصر اللائحة بشكل تصاعدي"
   ]
  },
  {
   "cell_type": "markdown",
   "id": "9782ed00-1d0f-45ab-b814-8d75916b1cf2",
   "metadata": {},
   "source": [
    "###### -مثال -1"
   ]
  },
  {
   "cell_type": "code",
   "execution_count": 113,
   "id": "6772551d-9e3b-46d2-b81d-333843317f31",
   "metadata": {},
   "outputs": [
    {
     "name": "stdout",
     "output_type": "stream",
     "text": [
      "['Basel Masalkhi', 'Khaled Hankir', 'Malek Younos', 'Nadia Al Khatib']\n"
     ]
    }
   ],
   "source": [
    "names = [\"Nadia Al Khatib\", \"Basel Masalkhi\", \"Malek Younos\", \"Khaled Hankir\"]\n",
    "names.sort()\n",
    "print(names)"
   ]
  },
  {
   "cell_type": "markdown",
   "id": "85aded0f-0132-4956-9e69-790eeda3e08a",
   "metadata": {},
   "source": [
    "###### -مثال -2"
   ]
  },
  {
   "cell_type": "code",
   "execution_count": 114,
   "id": "594b5730-7d42-4c59-8b04-87b3ce70bf25",
   "metadata": {},
   "outputs": [
    {
     "name": "stdout",
     "output_type": "stream",
     "text": [
      "[7, 20, 39, 52]\n"
     ]
    }
   ],
   "source": [
    "ages = [7, 39, 20, 52]\n",
    "ages.sort()\n",
    "print(ages)"
   ]
  },
  {
   "cell_type": "markdown",
   "id": "04597c6b-a8dd-4a9b-b3e5-2b2e85b27b90",
   "metadata": {},
   "source": [
    "##### إعادة ترتيب عناصر اللائحة بشكل تنازلي"
   ]
  },
  {
   "cell_type": "code",
   "execution_count": 115,
   "id": "b335909a-c47a-4102-b668-df056d26c1a8",
   "metadata": {},
   "outputs": [
    {
     "name": "stdout",
     "output_type": "stream",
     "text": [
      "['Nadia Al Khatib', 'Malek Younos', 'Khaled Hankir', 'Basel Masalkhi']\n",
      "[52, 39, 20, 7]\n"
     ]
    }
   ],
   "source": [
    "names = [\"Nadia Al Khatib\", \"Basel Masalkhi\", \"Malek Younos\", \"Khaled Hankir\"]\n",
    "ages = [7, 39, 20, 52]\n",
    "names.sort(reverse = True)\n",
    "ages.sort(reverse = True)\n",
    "print(names)\n",
    "print(ages)"
   ]
  },
  {
   "cell_type": "markdown",
   "id": "0e6be9f1-4f14-41ea-99da-6139d9eafc6a",
   "metadata": {},
   "source": [
    "#### sorted() انشاء نسخة عن اللائحة، وترتيبها بشكل تصاعدي أو تنازلي بواسطة (الفانكشن) n-1.4.ii"
   ]
  },
  {
   "cell_type": "markdown",
   "id": "42c357fc-1e52-4284-b7c7-3cedebb461c9",
   "metadata": {},
   "source": [
    "##### -مثال -1"
   ]
  },
  {
   "cell_type": "code",
   "execution_count": 116,
   "id": "06a948e8-1a4b-4267-bcf1-9e1481f11390",
   "metadata": {},
   "outputs": [
    {
     "name": "stdout",
     "output_type": "stream",
     "text": [
      "['Basel Masalkhi', 'Malek Younos', 'Nadia Al Khatib']\n",
      "['Nadia Al Khatib', 'Basel Masalkhi', 'Malek Younos']\n"
     ]
    }
   ],
   "source": [
    "names = [\"Nadia Al Khatib\", \"Basel Masalkhi\", \"Malek Younos\"]\n",
    "sorted_names = sorted(names)\n",
    "print(sorted_names)\n",
    "print(names)"
   ]
  },
  {
   "cell_type": "markdown",
   "id": "137613e7-fe0c-4aa7-b08d-07bbacce1345",
   "metadata": {},
   "source": [
    "##### -مثال -2"
   ]
  },
  {
   "cell_type": "code",
   "execution_count": 117,
   "id": "36069abf-7917-4833-a74a-f43d648fa783",
   "metadata": {},
   "outputs": [
    {
     "name": "stdout",
     "output_type": "stream",
     "text": [
      "[52, 39, 20, 7]\n",
      "[7, 39, 20, 52]\n"
     ]
    }
   ],
   "source": [
    "ages = [7, 39, 20, 52]\n",
    "sorted_ages = sorted(ages, reverse = True)\n",
    "print(sorted_ages)\n",
    "print(ages)"
   ]
  },
  {
   "cell_type": "markdown",
   "id": "9ffdbce8-63d6-4905-9ccb-4ba3b7c3a1ca",
   "metadata": {},
   "source": [
    "#### .reverse() عكس ترتيب عناصر اللائحة بواسطة (الميثود) n-1.4.iii"
   ]
  },
  {
   "cell_type": "code",
   "execution_count": 118,
   "id": "7dc45343-fc42-425c-8216-53ca2d70e23b",
   "metadata": {},
   "outputs": [
    {
     "name": "stdout",
     "output_type": "stream",
     "text": [
      "['Hayfa', 'Khodor', 'Alanoud', 'Majed']\n"
     ]
    }
   ],
   "source": [
    "absence_list = [\"Majed\", \"Alanoud\", \"Khodor\", \"Hayfa\"]\n",
    "absence_list.reverse()\n",
    "print(absence_list)"
   ]
  },
  {
   "cell_type": "markdown",
   "id": "ca8e6e1c-5cc4-4b0c-ae98-5847438f9e37",
   "metadata": {},
   "source": [
    "#### معايير تتعلق بالترتيب n-1.4.iv"
   ]
  },
  {
   "cell_type": "markdown",
   "id": "8d121fb1-7ed0-44c1-bffd-d260a4f2aa45",
   "metadata": {},
   "source": [
    "##### تأخير الحرف الكبير عن الحرف الصغير في الترتيب"
   ]
  },
  {
   "cell_type": "code",
   "execution_count": 119,
   "id": "cce74301-da6a-4c56-970c-ec11fffe20fc",
   "metadata": {},
   "outputs": [
    {
     "name": "stdout",
     "output_type": "stream",
     "text": [
      "['Dany', 'Karim', 'Soha', 'Xavi', 'ahmad', 'hani']\n"
     ]
    }
   ],
   "source": [
    "names = ['ahmad', 'hani', 'Karim', 'Dany', 'Xavi', 'Soha']\n",
    "names.sort()\n",
    "print(names)"
   ]
  },
  {
   "cell_type": "markdown",
   "id": "f030a7a1-fcea-48df-bf64-b87e7179d827",
   "metadata": {},
   "source": [
    "## (فور لوپ for loop) for أمر التكرار n-2"
   ]
  },
  {
   "cell_type": "code",
   "execution_count": 120,
   "id": "76d63021-753b-4f89-a9fe-7a31d8176e00",
   "metadata": {},
   "outputs": [
    {
     "name": "stdout",
     "output_type": "stream",
     "text": [
      "David Beckham\n",
      "Ronaldinho\n",
      "Miroslav Klose\n"
     ]
    }
   ],
   "source": [
    "ticket_holders = [\"David Beckham\", \"Ronaldinho\", \"Miroslav Klose\"]\n",
    "for each_holder in ticket_holders:\n",
    "    print(each_holder)"
   ]
  },
  {
   "cell_type": "markdown",
   "id": "6e90ff9d-3d42-43a6-b945-fba1eba96728",
   "metadata": {},
   "source": [
    "### مثال آخر"
   ]
  },
  {
   "cell_type": "code",
   "execution_count": 121,
   "id": "a04b5659-fea5-45db-b490-b256b252af01",
   "metadata": {},
   "outputs": [
    {
     "name": "stdout",
     "output_type": "stream",
     "text": [
      "Dear Antoine, this is to confirm that your recent ticket has been resolved.\n",
      "Dear Richard, this is to confirm that your recent ticket has been resolved.\n",
      "Dear Ramzi, this is to confirm that your recent ticket has been resolved.\n"
     ]
    }
   ],
   "source": [
    "clients = [\"Antoine\", \"Richard\", \"Ramzi\"]\n",
    "message = \", this is to confirm that your recent ticket has been resolved.\"\n",
    "for client in clients:\n",
    "    print(\"Dear \" + client + message)"
   ]
  },
  {
   "cell_type": "markdown",
   "id": "74f6fcc9-094a-434a-bb00-417a2ed60669",
   "metadata": {},
   "source": [
    "## range() (الفانكشن) و list() (الفانكشن) n-3"
   ]
  },
  {
   "cell_type": "markdown",
   "id": "119be81c-9f47-4f03-953a-07492bc35a58",
   "metadata": {},
   "source": [
    "### -مثال -1"
   ]
  },
  {
   "cell_type": "code",
   "execution_count": 122,
   "id": "0ae6d81c-d401-43f4-8300-e499375abb18",
   "metadata": {},
   "outputs": [
    {
     "name": "stdout",
     "output_type": "stream",
     "text": [
      "[1, 2, 3]\n"
     ]
    }
   ],
   "source": [
    "print(list(range(1,4)))"
   ]
  },
  {
   "cell_type": "markdown",
   "id": "80872fc1-18fa-4bcb-b86f-3db10ef4d10a",
   "metadata": {},
   "source": [
    "### -مثال -2"
   ]
  },
  {
   "cell_type": "code",
   "execution_count": 123,
   "id": "5c87d333-5a15-471f-817b-96dfa6eade92",
   "metadata": {},
   "outputs": [
    {
     "name": "stdout",
     "output_type": "stream",
     "text": [
      "1\n",
      "2\n",
      "3\n"
     ]
    }
   ],
   "source": [
    "for each_number in list(range(1, 4)):\n",
    "    print(each_number)"
   ]
  },
  {
   "cell_type": "markdown",
   "id": "a66849b1-ecde-42d8-9fd6-61c17508412b",
   "metadata": {},
   "source": [
    "### -مثال -3"
   ]
  },
  {
   "cell_type": "code",
   "execution_count": 124,
   "id": "d9603012-9d72-4643-ae69-24b9077a0029",
   "metadata": {},
   "outputs": [
    {
     "name": "stdout",
     "output_type": "stream",
     "text": [
      "1\n",
      "2\n",
      "3\n"
     ]
    }
   ],
   "source": [
    "for each_number in range(1, 4):\n",
    "    print(each_number)"
   ]
  },
  {
   "cell_type": "markdown",
   "id": "d69f883d-bac3-43e7-9df3-ec0f1a5b7063",
   "metadata": {},
   "source": [
    "### -مثال -4"
   ]
  },
  {
   "cell_type": "code",
   "execution_count": 125,
   "id": "dd82ae2b-f140-4a7c-bc89-171c5f952852",
   "metadata": {},
   "outputs": [
    {
     "name": "stdout",
     "output_type": "stream",
     "text": [
      "1\n",
      "3\n",
      "5\n",
      "7\n",
      "9\n",
      "11\n",
      "13\n",
      "15\n"
     ]
    }
   ],
   "source": [
    "for each_number in range(1, 16, 2):\n",
    "    print(each_number)"
   ]
  },
  {
   "cell_type": "markdown",
   "id": "3a263db2-76f3-469a-af08-c98ccf3ba4f3",
   "metadata": {},
   "source": [
    "### -مثال -5"
   ]
  },
  {
   "cell_type": "code",
   "execution_count": 126,
   "id": "ec2847e5-4b8c-436e-b0d4-5d0745e21a5a",
   "metadata": {},
   "outputs": [
    {
     "name": "stdout",
     "output_type": "stream",
     "text": [
      "5\n",
      "0\n",
      "-5\n"
     ]
    }
   ],
   "source": [
    "for number in range(5,-10,-5):\n",
    "    print(number)"
   ]
  },
  {
   "cell_type": "markdown",
   "id": "fd343358-933d-4d70-92ea-807842b433e1",
   "metadata": {},
   "source": [
    "## دينامية اللوائح في (پايثون) n-4"
   ]
  },
  {
   "cell_type": "markdown",
   "id": "3d409c82-2c4a-4c67-beca-c1e65c218ced",
   "metadata": {},
   "source": [
    "### استخدام الأسلوب الدينامي لانشاء لائحة بنتائج الأس 10 للأعداد من 0 إلى 10"
   ]
  },
  {
   "cell_type": "code",
   "execution_count": 127,
   "id": "11a8e27c-4621-4ac2-b9a1-807a5648add7",
   "metadata": {},
   "outputs": [
    {
     "name": "stdout",
     "output_type": "stream",
     "text": [
      "[0, 1, 1024, 59049, 1048576, 9765625, 60466176, 282475249, 1073741824, 3486784401, 10000000000]\n"
     ]
    }
   ],
   "source": [
    "exponent_table = []\n",
    "for each_number in range(0, 11):\n",
    "    exponent_table.append(each_number ** 10)\n",
    "print(exponent_table)"
   ]
  },
  {
   "cell_type": "markdown",
   "id": "46980314-b5fd-4864-ba8d-fb63ed9c3969",
   "metadata": {},
   "source": [
    "## sum() و max() و min() و len() فانكشن) الاحصاء) n-5"
   ]
  },
  {
   "cell_type": "markdown",
   "id": "4eaa1d90-616e-4c2a-8efd-64595738001b",
   "metadata": {},
   "source": [
    "### -مثال -1"
   ]
  },
  {
   "cell_type": "code",
   "execution_count": 128,
   "id": "a4bf4c96-c3a6-4141-9050-ce19cc34c901",
   "metadata": {},
   "outputs": [
    {
     "name": "stdout",
     "output_type": "stream",
     "text": [
      "5\n",
      "10\n",
      "0\n",
      "20\n"
     ]
    }
   ],
   "source": [
    "eg1 = [78, \"fish\", \"duck\", 404, \"pencil\"]\n",
    "eg2 = [5, 0, 10, 2, 3]\n",
    "print(len(eg1))\n",
    "print(max(eg2))\n",
    "print(min(eg2))\n",
    "print(sum(eg2))"
   ]
  },
  {
   "cell_type": "markdown",
   "id": "17df8d63-a1d8-4749-95d9-490b8f833955",
   "metadata": {},
   "source": [
    "### -مثال -2"
   ]
  },
  {
   "cell_type": "code",
   "execution_count": 129,
   "id": "414cfe5c-6c59-4434-8584-7f4fc31734f6",
   "metadata": {},
   "outputs": [
    {
     "name": "stdout",
     "output_type": "stream",
     "text": [
      "apple\n",
      "SAMSUNG\n"
     ]
    }
   ],
   "source": [
    "brands = ['Xiaomi', 'apple', 'SAMSUNG']\n",
    "print(max(brands))\n",
    "print(min(brands))"
   ]
  },
  {
   "cell_type": "markdown",
   "id": "fde898ab-d0e1-476b-bf5c-02787a6db566",
   "metadata": {},
   "source": [
    "### -مثال -3"
   ]
  },
  {
   "cell_type": "code",
   "execution_count": 130,
   "id": "220d5e8a-3ae5-46bc-b74b-c9b0db1e8d17",
   "metadata": {},
   "outputs": [
    {
     "name": "stdout",
     "output_type": "stream",
     "text": [
      "v\n",
      "J\n",
      "9\n"
     ]
    }
   ],
   "source": [
    "name = \"SteveJobs\"\n",
    "print(max(name))\n",
    "print(min(name))\n",
    "print(len(name))"
   ]
  },
  {
   "cell_type": "markdown",
   "id": "e10af2f0-5036-4b9e-b1b2-59a8764b47c9",
   "metadata": {},
   "source": [
    "## (سلايس Slice) تقسيم اللائحة إلى أجزاء n-6 "
   ]
  },
  {
   "cell_type": "markdown",
   "id": "9d1f01e2-9637-4764-bb4d-f290a49562f2",
   "metadata": {},
   "source": [
    "### (كود السلايس) n-6.1"
   ]
  },
  {
   "cell_type": "code",
   "execution_count": 131,
   "id": "99b04b31-1592-4124-a9f2-ddbb9e80994c",
   "metadata": {},
   "outputs": [
    {
     "name": "stdout",
     "output_type": "stream",
     "text": [
      "['Fajitas', 'Burger', 'Mexican']\n",
      "['Fajitas', 'Burger', 'Mexican', 'Kebab', 'Shawarma']\n",
      "['Kebab', 'Shawarma', 'Shrimp']\n"
     ]
    }
   ],
   "source": [
    "sandwiches = [\"Fajitas\", \"Burger\", \"Mexican\", \"Kebab\", \"Shawarma\", \"Shrimp\"]\n",
    "sandwiches_slice = sandwiches[0:3]\n",
    "print(sandwiches_slice)\n",
    "print(sandwiches[:5])\n",
    "print(sandwiches[-3:])"
   ]
  },
  {
   "cell_type": "markdown",
   "id": "36312f40-70d2-45b0-adc2-5e8030a3af21",
   "metadata": {},
   "source": [
    "### .copy() نسخ اللوائح باستخدام (كود السلايس)، أو (الميثود) n-6.2"
   ]
  },
  {
   "cell_type": "markdown",
   "id": "68ab4eef-568b-4bb1-93ed-4a7db2552da3",
   "metadata": {},
   "source": [
    "#### نسخ اللائحة باستخدام (كود السلايس)"
   ]
  },
  {
   "cell_type": "code",
   "execution_count": 132,
   "id": "0538778d-1d43-4cb8-84bc-a52124162971",
   "metadata": {},
   "outputs": [
    {
     "name": "stdout",
     "output_type": "stream",
     "text": [
      "['bread', 'meat', 'eggs', 'vegetables', 'fruits']\n",
      "['bread', 'meat', 'eggs', 'vegetables']\n"
     ]
    }
   ],
   "source": [
    "shop = [\"bread\", \"meat\", \"eggs\", \"vegetables\"]\n",
    "shop_copy = shop[:]\n",
    "shop_copy.append(\"fruits\")\n",
    "print(shop_copy)\n",
    "print(shop)"
   ]
  },
  {
   "cell_type": "markdown",
   "id": "f824bd55-a4c5-455f-93cf-ceeeb30a78fa",
   "metadata": {},
   "source": [
    "#### .copy() نسخ اللائحة بواسطة (الميثود)"
   ]
  },
  {
   "cell_type": "code",
   "execution_count": 133,
   "id": "cbd3547a-35b6-437a-a6b4-13801232d040",
   "metadata": {},
   "outputs": [
    {
     "name": "stdout",
     "output_type": "stream",
     "text": [
      "['bread', 'meat', 'eggs', 'vegetables', 'fruits']\n",
      "['bread', 'meat', 'eggs', 'vegetables']\n"
     ]
    }
   ],
   "source": [
    "shop = [\"bread\", \"meat\", \"eggs\", \"vegetables\"]\n",
    "shop_copy = shop.copy()\n",
    "shop_copy.append(\"fruits\")\n",
    "print(shop_copy)\n",
    "print(shop)"
   ]
  },
  {
   "cell_type": "markdown",
   "id": "5537c495-d3dd-45b0-9c01-79c22369953b",
   "metadata": {},
   "source": [
    "## تعريف اللوائح بالأسلوب الفهمي n-7"
   ]
  },
  {
   "cell_type": "markdown",
   "id": "34b979c5-26bb-4134-9cf3-a69954b6f1c0",
   "metadata": {},
   "source": [
    "### استخدام الأسلوب الفهمي لانشاء لائحة بنتائج الأس 10 للأعداد من 0 إلى 10"
   ]
  },
  {
   "cell_type": "code",
   "execution_count": 134,
   "id": "7246b299-067e-4051-a8c2-4bf55edca0e9",
   "metadata": {},
   "outputs": [
    {
     "name": "stdout",
     "output_type": "stream",
     "text": [
      "[0, 1, 1024, 59049, 1048576, 9765625, 60466176, 282475249, 1073741824, 3486784401, 10000000000]\n"
     ]
    }
   ],
   "source": [
    "exponent_table = [x**10 for x in range(0,11)]\n",
    "print(exponent_table)"
   ]
  },
  {
   "cell_type": "markdown",
   "id": "20c6111a-c20d-4733-b23a-e751568dc37c",
   "metadata": {},
   "source": [
    "### مثال -1- استخدام الأسلوب الفهمي لتحويل حروف عناصر اللائحة إلى حروف كبيرة"
   ]
  },
  {
   "cell_type": "code",
   "execution_count": 135,
   "id": "f11b84bb-a219-4847-96d5-7d495dd271a9",
   "metadata": {},
   "outputs": [
    {
     "name": "stdout",
     "output_type": "stream",
     "text": [
      "['BREAD', 'MEAT', 'EGGS', 'VEGETABLES']\n"
     ]
    }
   ],
   "source": [
    "shop_1 = [\"bread\", \"meat\", \"eggs\", \"vegetables\"]\n",
    "shop_2 = [name.upper() for name in shop_1]\n",
    "print(shop_2)"
   ]
  },
  {
   "cell_type": "markdown",
   "id": "7de58088-1957-473f-bd05-340abcbea6ec",
   "metadata": {},
   "source": [
    "### مثال -2- استخدام الأسلوب الفهمي لانشاء لائحة بنتائج تربيع الأعداد من 0 إلى 10"
   ]
  },
  {
   "cell_type": "code",
   "execution_count": 136,
   "id": "341760d1-c607-4546-b0b2-eaa5f0ac0b8c",
   "metadata": {},
   "outputs": [
    {
     "name": "stdout",
     "output_type": "stream",
     "text": [
      "[0, 1, 4, 9, 16, 25, 36, 49, 64, 81, 100]\n"
     ]
    }
   ],
   "source": [
    "power_of_2 = [number**2 for number in range(0, 11)]\n",
    "print(power_of_2)"
   ]
  },
  {
   "cell_type": "markdown",
   "id": "61d521ec-9850-4296-be69-513e620f823c",
   "metadata": {},
   "source": [
    "### مثال -3- استخدام الأسلوب الفهمي لانشاء لائحة بنتائج جدول الضرب للعدد 3"
   ]
  },
  {
   "cell_type": "code",
   "execution_count": 137,
   "id": "1f2e2541-a9f9-42d0-aec3-90b0ff2b6fc3",
   "metadata": {},
   "outputs": [
    {
     "name": "stdout",
     "output_type": "stream",
     "text": [
      "[0, 3, 6, 9, 12, 15, 18, 21, 24, 27, 30]\n"
     ]
    }
   ],
   "source": [
    "three_times = [number*3 for number in range(0, 11)]\n",
    "print(three_times)"
   ]
  },
  {
   "cell_type": "markdown",
   "id": "a9ef0b89-bad2-4347-af85-8f1eed27d637",
   "metadata": {},
   "source": [
    "## تمرين الفصل الثالث"
   ]
  },
  {
   "cell_type": "markdown",
   "id": "8eef2f46-e9f1-41fd-b114-4ea1b1cad1cf",
   "metadata": {},
   "source": [
    "### 1"
   ]
  },
  {
   "cell_type": "code",
   "execution_count": 138,
   "id": "df0bf089-bddb-44f6-86bf-65714c516d7a",
   "metadata": {},
   "outputs": [],
   "source": [
    "dream_cars = [\"Rolls Royce\", \"Bentley\", \"Mercedes Maybach\", \"Lamborghini\", \"Ferrari\"]"
   ]
  },
  {
   "cell_type": "markdown",
   "id": "381d5dbf-289d-47f8-a5d7-46edb21252f3",
   "metadata": {},
   "source": [
    "#### 1.1"
   ]
  },
  {
   "cell_type": "code",
   "execution_count": 139,
   "id": "0be27352-2f47-4a61-b6a8-456b10e54b9b",
   "metadata": {},
   "outputs": [
    {
     "name": "stdout",
     "output_type": "stream",
     "text": [
      "Rolls Royce\n"
     ]
    }
   ],
   "source": [
    "print(dream_cars[0])"
   ]
  },
  {
   "cell_type": "markdown",
   "id": "fae77800-1522-495a-9896-4fc8d7a0bc42",
   "metadata": {},
   "source": [
    "#### 1.2"
   ]
  },
  {
   "cell_type": "code",
   "execution_count": 140,
   "id": "4bc70a8c-7044-43b0-8cfc-68db1d6c0991",
   "metadata": {},
   "outputs": [
    {
     "name": "stdout",
     "output_type": "stream",
     "text": [
      "The second car i wish to own is Bentley\n"
     ]
    }
   ],
   "source": [
    "print(\"The second car i wish to own is\" + \" \" + dream_cars[1])"
   ]
  },
  {
   "cell_type": "markdown",
   "id": "7769d1cb-30b6-4719-a169-01755b9176d6",
   "metadata": {},
   "source": [
    "#### 1.3"
   ]
  },
  {
   "cell_type": "code",
   "execution_count": 141,
   "id": "769e80e8-456f-4b9f-ac68-d701bae169f8",
   "metadata": {},
   "outputs": [
    {
     "name": "stdout",
     "output_type": "stream",
     "text": [
      "The price of Lamborghini is around 200,000.00 USD\n"
     ]
    }
   ],
   "source": [
    "print(\"The price of \" + dream_cars[3] + \" is around 200,000.00 USD\")"
   ]
  },
  {
   "cell_type": "markdown",
   "id": "4b05dfdd-4499-4700-8c25-a943e3967e37",
   "metadata": {},
   "source": [
    "#### 1.4"
   ]
  },
  {
   "cell_type": "code",
   "execution_count": 142,
   "id": "74ad4b90-8f18-421f-b396-2a4ef8f09b39",
   "metadata": {},
   "outputs": [
    {
     "name": "stdout",
     "output_type": "stream",
     "text": [
      "Ferrari\n"
     ]
    }
   ],
   "source": [
    "car5 = dream_cars.pop()\n",
    "print(car5)"
   ]
  },
  {
   "cell_type": "markdown",
   "id": "4bc5b45a-f617-4c06-9d20-4cc9f739d709",
   "metadata": {},
   "source": [
    "#### 1.5"
   ]
  },
  {
   "cell_type": "code",
   "execution_count": 143,
   "id": "684ab1e3-2a8d-47cb-ba53-46705cd2a529",
   "metadata": {},
   "outputs": [],
   "source": [
    "del dream_cars[3]\n",
    "dream_cars.remove(\"Mercedes Maybach\")"
   ]
  },
  {
   "cell_type": "markdown",
   "id": "68c72723-2368-4f49-95b6-d671ec5c7607",
   "metadata": {},
   "source": [
    "#### 1.6"
   ]
  },
  {
   "cell_type": "code",
   "execution_count": 144,
   "id": "84311e0e-0a4a-45f5-8a4f-8fd4e222b859",
   "metadata": {},
   "outputs": [],
   "source": [
    "dream = dream_cars"
   ]
  },
  {
   "cell_type": "markdown",
   "id": "69c311d7-4e94-4eb9-9ba2-cd73e7e38428",
   "metadata": {},
   "source": [
    "#### 1.7"
   ]
  },
  {
   "cell_type": "code",
   "execution_count": 145,
   "id": "a3e3cad5-942a-447e-9ade-a099689d8942",
   "metadata": {},
   "outputs": [],
   "source": [
    "dream[1] = \"iphone\""
   ]
  },
  {
   "cell_type": "markdown",
   "id": "0944890f-1e78-447a-969c-045d0bd5a7e1",
   "metadata": {},
   "source": [
    "#### 1.8"
   ]
  },
  {
   "cell_type": "code",
   "execution_count": 146,
   "id": "21d05460-8171-4d83-ba1f-dea925d1a9ff",
   "metadata": {},
   "outputs": [],
   "source": [
    "dream.insert(0, \"Social activist\")"
   ]
  },
  {
   "cell_type": "markdown",
   "id": "6d1a9660-daa7-4825-af87-4308151791e3",
   "metadata": {},
   "source": [
    "#### 1.9"
   ]
  },
  {
   "cell_type": "code",
   "execution_count": 147,
   "id": "9b2cae4d-4719-40f8-9247-b596131c11c4",
   "metadata": {},
   "outputs": [],
   "source": [
    "costs = dream[:]"
   ]
  },
  {
   "cell_type": "markdown",
   "id": "4355e419-2b2d-4cdb-b84f-956a53fe28da",
   "metadata": {},
   "source": [
    "#### 1.10"
   ]
  },
  {
   "cell_type": "code",
   "execution_count": 148,
   "id": "811f9cd2-a1d2-4ef6-a44f-faa58a28f5bd",
   "metadata": {},
   "outputs": [],
   "source": [
    "costs[0] = 0 #استخدمت الرقم صفر لأن هذا العمل الإنساني هو عمل تطوعي نبيل\n",
    "costs[1] = 340000\n",
    "costs[2] = 1200"
   ]
  },
  {
   "cell_type": "markdown",
   "id": "34a6e9dc-5afa-459e-870b-07f13c37d6df",
   "metadata": {},
   "source": [
    "#### 1.11"
   ]
  },
  {
   "cell_type": "code",
   "execution_count": 149,
   "id": "256069a6-57df-4a75-b967-91f099741ef5",
   "metadata": {},
   "outputs": [
    {
     "name": "stdout",
     "output_type": "stream",
     "text": [
      "The highest numerical value in the 'costs' list is 340000, the lowest number in this list is 0, and the sum of the elements of this list is 341200\n"
     ]
    }
   ],
   "source": [
    "print(\"The highest numerical value in the 'costs' list is \" + str(max(costs)) + \", the lowest number in this list is \" + str(min(costs)) + \", and the sum of the elements of this list is \" + str(sum(costs)))"
   ]
  },
  {
   "cell_type": "markdown",
   "id": "001d899c-db57-4946-89cd-48451d244002",
   "metadata": {},
   "source": [
    "#### 1.12"
   ]
  },
  {
   "cell_type": "code",
   "execution_count": 150,
   "id": "49853c9d-8072-4dab-b17d-fdb413867dfa",
   "metadata": {},
   "outputs": [
    {
     "name": "stdout",
     "output_type": "stream",
     "text": [
      "0$\n",
      "340000$\n",
      "1200$\n"
     ]
    }
   ],
   "source": [
    "for cost in costs:\n",
    "    print(str(cost) + \"$\")"
   ]
  },
  {
   "cell_type": "markdown",
   "id": "022dcfbf-dab0-48cf-8c40-f787f68ab7eb",
   "metadata": {},
   "source": [
    "#### 1.13"
   ]
  },
  {
   "cell_type": "code",
   "execution_count": 151,
   "id": "ee6a4138-b3f9-4b6e-85a5-343a89fef903",
   "metadata": {},
   "outputs": [
    {
     "name": "stdout",
     "output_type": "stream",
     "text": [
      "[0, 1200, 340000]\n",
      "[340000, 1200, 0]\n",
      "[0, 340000, 1200]\n"
     ]
    }
   ],
   "source": [
    "print(sorted(costs))\n",
    "print(sorted(costs, reverse = True))\n",
    "print(costs)"
   ]
  },
  {
   "cell_type": "markdown",
   "id": "8c7acb21-8402-49b7-8c34-80b82e1e9b63",
   "metadata": {},
   "source": [
    "### 2"
   ]
  },
  {
   "cell_type": "code",
   "execution_count": 152,
   "id": "4c01d602-f6f7-49a8-8d6d-1c7148dbe00c",
   "metadata": {},
   "outputs": [
    {
     "name": "stdout",
     "output_type": "stream",
     "text": [
      "1000\n"
     ]
    }
   ],
   "source": [
    "number_list = list(range(1,1001))\n",
    "print(len(number_list))"
   ]
  },
  {
   "cell_type": "markdown",
   "id": "aeb48e9b-0f19-45eb-9c6e-e3aaada3ae11",
   "metadata": {},
   "source": [
    "### 3"
   ]
  },
  {
   "cell_type": "code",
   "execution_count": 153,
   "id": "3f720dfe-c82f-4c97-bd78-24bfa6299043",
   "metadata": {},
   "outputs": [],
   "source": [
    "teams = [\"KSA\", \"Qatar\", \"Morocco\",\"Tunisia\"]\n",
    "#لقد رتبت اللائحة على هذا النحو، ولكنها جميعاً بلدان غالية على قلبي كثيرا"
   ]
  },
  {
   "cell_type": "markdown",
   "id": "f6f7190c-e43f-4fab-904d-4a3960da02f7",
   "metadata": {},
   "source": [
    "#### 3.1"
   ]
  },
  {
   "cell_type": "code",
   "execution_count": 154,
   "id": "9b30522a-89d9-4f3a-b7ef-89db15857fde",
   "metadata": {},
   "outputs": [
    {
     "name": "stdout",
     "output_type": "stream",
     "text": [
      "['Tunisia', 'Morocco', 'Qatar', 'KSA']\n"
     ]
    }
   ],
   "source": [
    "teams.reverse()\n",
    "print(teams)"
   ]
  },
  {
   "cell_type": "markdown",
   "id": "ec460eed-02f1-47c0-a9f0-5c328aaaa6a1",
   "metadata": {},
   "source": [
    "#### 3.2"
   ]
  },
  {
   "cell_type": "code",
   "execution_count": 155,
   "id": "88e3a031-8f31-4675-8605-6cb18913facd",
   "metadata": {},
   "outputs": [
    {
     "name": "stdout",
     "output_type": "stream",
     "text": [
      "['KSA', 'Qatar', 'Morocco', 'Tunisia']\n"
     ]
    }
   ],
   "source": [
    "teams.reverse()\n",
    "print(teams)"
   ]
  },
  {
   "cell_type": "markdown",
   "id": "e9672b7d-fa30-4b69-b5a5-44d0b98ec846",
   "metadata": {},
   "source": [
    "### 4"
   ]
  },
  {
   "cell_type": "code",
   "execution_count": 156,
   "id": "c975568f-9de3-40c1-ba88-957352d267d2",
   "metadata": {},
   "outputs": [
    {
     "name": "stdout",
     "output_type": "stream",
     "text": [
      "[1, 8, 27, 64, 125]\n"
     ]
    }
   ],
   "source": [
    "cube = []\n",
    "for digit in range(1, 6):\n",
    "    cube.append(digit**3)\n",
    "print(cube)"
   ]
  },
  {
   "cell_type": "markdown",
   "id": "02ab27ea-de63-4cdc-b98e-d828c9a0ca20",
   "metadata": {},
   "source": [
    "### 5"
   ]
  },
  {
   "cell_type": "code",
   "execution_count": 157,
   "id": "073f1e60-7b62-4900-993e-1879cf6e58ea",
   "metadata": {},
   "outputs": [
    {
     "name": "stdout",
     "output_type": "stream",
     "text": [
      "[0, 10, 20, 30, 40, 50, 60, 70, 80, 90, 100]\n"
     ]
    }
   ],
   "source": [
    "ten_times = list(range(0, 101, 10))\n",
    "print(ten_times)"
   ]
  },
  {
   "cell_type": "markdown",
   "id": "78a98386-fe95-498d-82e2-ed1ed5bf8fef",
   "metadata": {},
   "source": [
    "### 6"
   ]
  },
  {
   "cell_type": "code",
   "execution_count": 158,
   "id": "a0cf86b1-18c2-4241-b40d-ea01eafcc993",
   "metadata": {},
   "outputs": [
    {
     "name": "stdout",
     "output_type": "stream",
     "text": [
      "[0.25, 0.5, 0.75, 1.0, 1.25, 1.5, 1.75, 2.0, 2.25, 2.5]\n"
     ]
    }
   ],
   "source": [
    "quarters = [a/4 for a in range(1, 11)]\n",
    "print(quarters)"
   ]
  },
  {
   "cell_type": "markdown",
   "id": "10a1b577-db37-4eca-b08d-733bdbf60e58",
   "metadata": {},
   "source": [
    "#### 6.1"
   ]
  },
  {
   "cell_type": "code",
   "execution_count": 159,
   "id": "3981c2c2-6229-4d62-94ce-8af1006830ad",
   "metadata": {},
   "outputs": [
    {
     "name": "stdout",
     "output_type": "stream",
     "text": [
      "[2.25, 2.5]\n"
     ]
    }
   ],
   "source": [
    "print(quarters[-2:])"
   ]
  },
  {
   "cell_type": "markdown",
   "id": "835786e0-d363-4ab1-b241-6be7b9cdddd1",
   "metadata": {},
   "source": [
    "# -الفصل -4"
   ]
  },
  {
   "cell_type": "markdown",
   "id": "46bd315a-d230-434f-bad1-f4dd33580517",
   "metadata": {},
   "source": [
    "## (if !=) وإذا كان يختلف ،(if ==) إذا كان يساوي n-1"
   ]
  },
  {
   "cell_type": "markdown",
   "id": "1323f345-4bbb-460c-acb0-642dc98948fa",
   "metadata": {},
   "source": [
    "#### مثال -1.1- استخدام عامل التساوي (==) في الشرط✔"
   ]
  },
  {
   "cell_type": "code",
   "execution_count": 160,
   "id": "28294e29-c316-44df-abc6-d3ba44cb0c76",
   "metadata": {},
   "outputs": [
    {
     "name": "stdout",
     "output_type": "stream",
     "text": [
      "I did it\n"
     ]
    }
   ],
   "source": [
    "car = \"Ferrari\"\n",
    "if car == \"Ferrari\":\n",
    "    print(\"I did it\")"
   ]
  },
  {
   "cell_type": "markdown",
   "id": "221ae05a-c4fd-4855-9801-d41e058a77df",
   "metadata": {},
   "source": [
    "#### مثال -1.2- استخدام عامل التساوي (==) في الشرط❌"
   ]
  },
  {
   "cell_type": "code",
   "execution_count": 161,
   "id": "0d32918c-9a06-4798-80fa-f73c5c4e036c",
   "metadata": {},
   "outputs": [],
   "source": [
    "car = \"Ferrari\"\n",
    "if car == \"ferrari\":\n",
    "    print(\"I did it\")"
   ]
  },
  {
   "cell_type": "markdown",
   "id": "e76da472-255a-40e2-92c0-13c2685e91c2",
   "metadata": {},
   "source": [
    "#### مثال -2.1- استخدام عامل الاختلاف (!=) في الشرط✔"
   ]
  },
  {
   "cell_type": "code",
   "execution_count": 162,
   "id": "66257eb7-9d9a-40cf-b344-241b2452b324",
   "metadata": {},
   "outputs": [
    {
     "name": "stdout",
     "output_type": "stream",
     "text": [
      "I did it\n"
     ]
    }
   ],
   "source": [
    "car = \"Ferrari\"\n",
    "if car != \"ferrari\":\n",
    "    print(\"I did it\")"
   ]
  },
  {
   "cell_type": "markdown",
   "id": "debe726c-b9ed-4ade-8d4f-977ddfcc36b3",
   "metadata": {},
   "source": [
    "#### مثال -2.2- استخدام عامل الاختلاف (!=) في الشرط❌"
   ]
  },
  {
   "cell_type": "code",
   "execution_count": 163,
   "id": "48fb14b5-85c4-4062-965d-d59a6edc2670",
   "metadata": {},
   "outputs": [],
   "source": [
    "car = \"Ferrari\"\n",
    "if car != \"Ferrari\":\n",
    "    print(\"I did it\")"
   ]
  },
  {
   "cell_type": "markdown",
   "id": "c97fcf93-f891-4df4-ba3a-8705f5c5fff9",
   "metadata": {},
   "source": [
    "### تجاهل حالة الحروف في الشرط n-1.1"
   ]
  },
  {
   "cell_type": "code",
   "execution_count": 164,
   "id": "65de9c36-898e-4bdf-9aa3-ab01482d2477",
   "metadata": {},
   "outputs": [
    {
     "name": "stdout",
     "output_type": "stream",
     "text": [
      "Done\n"
     ]
    }
   ],
   "source": [
    "name = \"AHMAD\"\n",
    "if name.lower() == \"ahmad\":\n",
    "    print(\"Done\")"
   ]
  },
  {
   "cell_type": "markdown",
   "id": "e7216fa9-fb98-4340-8a9a-ed9fdec0d454",
   "metadata": {},
   "source": [
    "## (if not in) وإذا لم يكن في ،(if in) إذا كان في n-2"
   ]
  },
  {
   "cell_type": "markdown",
   "id": "182d3d77-796f-40b0-8f13-70747dfde988",
   "metadata": {},
   "source": [
    "#### (if in) مثال -1- إذا كان في✔"
   ]
  },
  {
   "cell_type": "code",
   "execution_count": 165,
   "id": "60b200bf-c05b-4c03-ab31-4a8ab8a986b8",
   "metadata": {},
   "outputs": [
    {
     "name": "stdout",
     "output_type": "stream",
     "text": [
      "Done\n"
     ]
    }
   ],
   "source": [
    "names = [\"Hanin\", \"Rama\", \"Hadil\"]\n",
    "if \"Hadil\" in names:\n",
    "    print(\"Done\")\n"
   ]
  },
  {
   "cell_type": "markdown",
   "id": "1ee78a20-6e78-49c7-8dbe-0315fe84094b",
   "metadata": {},
   "source": [
    "#### (if not in) مثال -2- إذا لم يكن في❌"
   ]
  },
  {
   "cell_type": "code",
   "execution_count": 166,
   "id": "a7332bf6-122b-4502-bb39-ed0d1a570401",
   "metadata": {},
   "outputs": [],
   "source": [
    "names = [\"Hanin\", \"Rama\", \"Hadil\"]\n",
    "if \"Hadil\" not in names:\n",
    "    print(\"Done\")"
   ]
  },
  {
   "cell_type": "markdown",
   "id": "c57d6b16-dad6-424a-a3f9-68e10a838a09",
   "metadata": {},
   "source": [
    "## (if <) وإذا كان أصغر من ،(if >) إذا كان أكبر من n-3"
   ]
  },
  {
   "cell_type": "markdown",
   "id": "b49a1bd8-c359-48c1-b111-1e339eeafbaf",
   "metadata": {},
   "source": [
    "#### (if >) مثال -1- إذا كان أكبر من✔"
   ]
  },
  {
   "cell_type": "code",
   "execution_count": 167,
   "id": "37ec4574-9438-4a28-8817-ba7c4c0c9d1c",
   "metadata": {},
   "outputs": [
    {
     "name": "stdout",
     "output_type": "stream",
     "text": [
      "Done\n"
     ]
    }
   ],
   "source": [
    "num = [5, 2, 2, 2]\n",
    "if sum(num) > 10:\n",
    "    print(\"Done\")"
   ]
  },
  {
   "cell_type": "markdown",
   "id": "b306f646-6df4-4826-b76b-2ee48a9b7637",
   "metadata": {},
   "source": [
    "#### (if <) مثال -2- إذا كان أصغر من❌"
   ]
  },
  {
   "cell_type": "code",
   "execution_count": 168,
   "id": "d3332b1f-98a6-4d56-884b-b1940cb0faa4",
   "metadata": {},
   "outputs": [],
   "source": [
    "num = [5, 2, 2, 2]\n",
    "if sum(num) < 10:\n",
    "    print(\"Done\")"
   ]
  },
  {
   "cell_type": "markdown",
   "id": "a23667e9-02a9-4fc5-8b31-1b6529ed4390",
   "metadata": {},
   "source": [
    "#### (if >=) مثال -3- إذا كان أكبر من أو يساوي❌"
   ]
  },
  {
   "cell_type": "code",
   "execution_count": 169,
   "id": "6100e4e7-5a1f-416d-ab78-2a7418cb468e",
   "metadata": {},
   "outputs": [],
   "source": [
    "num = [5, 1, 1, 1]\n",
    "if sum(num) >= 10:\n",
    "    print(\"Done\")"
   ]
  },
  {
   "cell_type": "markdown",
   "id": "d1c83194-897c-49c7-bf52-1dead99342f3",
   "metadata": {},
   "source": [
    "#### (if <=) مثال -4- إذا كان أصغر من أو يساوي✔"
   ]
  },
  {
   "cell_type": "code",
   "execution_count": 170,
   "id": "b62f5950-f9d5-45f9-bde0-214051913e1c",
   "metadata": {},
   "outputs": [
    {
     "name": "stdout",
     "output_type": "stream",
     "text": [
      "Done\n"
     ]
    }
   ],
   "source": [
    "num = [5, 1, 1, 1]\n",
    "if sum(num) <= 8:\n",
    "    print(\"Done\")"
   ]
  },
  {
   "cell_type": "markdown",
   "id": "a234b715-aef2-4532-9443-a10d1f66071e",
   "metadata": {},
   "source": [
    "## or (و (الكيوورد and صياغة الشرط المركّب باستخدام (الكيوورد) n-4"
   ]
  },
  {
   "cell_type": "markdown",
   "id": "8b327da2-7ce3-466c-b964-4ee6f71cf379",
   "metadata": {},
   "source": [
    "#### (if x and y) -1- مثال✔"
   ]
  },
  {
   "cell_type": "code",
   "execution_count": 171,
   "id": "38c1bc01-789f-4f60-8e76-72b9e6f3ccb8",
   "metadata": {},
   "outputs": [
    {
     "name": "stdout",
     "output_type": "stream",
     "text": [
      "Done\n"
     ]
    }
   ],
   "source": [
    "num = [5, 2, 2, 1]\n",
    "if sum(num) >= 10 and num[0] == 5:\n",
    "    print(\"Done\")"
   ]
  },
  {
   "cell_type": "markdown",
   "id": "b47c9a60-4b1e-42cd-9262-78c3ea9a7277",
   "metadata": {},
   "source": [
    "#### (if x or y) -2- مثال✔"
   ]
  },
  {
   "cell_type": "code",
   "execution_count": 172,
   "id": "9609eeb9-dfd6-40a5-85cd-82ef686caa6b",
   "metadata": {},
   "outputs": [
    {
     "name": "stdout",
     "output_type": "stream",
     "text": [
      "Done\n"
     ]
    }
   ],
   "source": [
    "num = [5, 2, 2, 1]\n",
    "if sum(num) >= 15 or num[0] == 5:\n",
    "    print(\"Done\")"
   ]
  },
  {
   "cell_type": "markdown",
   "id": "06275167-b1f7-4993-8f33-f7841f918415",
   "metadata": {},
   "source": [
    "#### if (x and y) or (z) -3- مثال✔"
   ]
  },
  {
   "cell_type": "code",
   "execution_count": 173,
   "id": "c20de9aa-80cf-45b8-b642-acd416b228e5",
   "metadata": {},
   "outputs": [
    {
     "name": "stdout",
     "output_type": "stream",
     "text": [
      "Done\n"
     ]
    }
   ],
   "source": [
    "num = [5, 2, 2, 1, \"Ahmad\"]\n",
    "if (sum(num[0: 4]) >= 10 and num[0] == 5) or (num[0] == \"Ahmad\"):\n",
    "    print(\"Done\")"
   ]
  },
  {
   "cell_type": "markdown",
   "id": "4cba3ba6-80d8-4a3b-9c7a-19907a199cc4",
   "metadata": {},
   "source": [
    "## if-elif-elif…-else السلسلة n-5"
   ]
  },
  {
   "cell_type": "markdown",
   "id": "adde0a59-52bc-4ca3-ad36-a2a28e875d63",
   "metadata": {},
   "source": [
    "### if-else السلسلة n-5.1"
   ]
  },
  {
   "cell_type": "markdown",
   "id": "346764ae-2425-4b3f-91eb-06cd94bb221f",
   "metadata": {},
   "source": [
    "#### (if-else) -1- مثال"
   ]
  },
  {
   "cell_type": "code",
   "execution_count": 174,
   "id": "68b822f3-2479-4772-abe8-3f278b663bf7",
   "metadata": {},
   "outputs": [
    {
     "name": "stdout",
     "output_type": "stream",
     "text": [
      "No, the red color was not found\n"
     ]
    }
   ],
   "source": [
    "colors = ['tef', 'green', 'blue', 'white']\n",
    "if \"red\" in colors:\n",
    "    print(\"The red color was found\")\n",
    "else: \n",
    "    print(\"No, the red color was not found\")"
   ]
  },
  {
   "cell_type": "markdown",
   "id": "af4b5ad9-4a4e-4c99-9872-3c80431a78aa",
   "metadata": {},
   "source": [
    "#### (if-else) -2- مثال"
   ]
  },
  {
   "cell_type": "code",
   "execution_count": 175,
   "id": "ab3f83ae-c921-425b-8833-a713c54f3ff4",
   "metadata": {},
   "outputs": [
    {
     "name": "stdout",
     "output_type": "stream",
     "text": [
      "The cyan color was found\n"
     ]
    }
   ],
   "source": [
    "colors = ['cyan', 'magenta', 'yellow', 'black'] \n",
    "if \"cyan\" in colors and len(colors) == 4:\n",
    "    print(\"The cyan color was found\")\n",
    "else:\n",
    "    print(\"No, the cyan color was not found\")"
   ]
  },
  {
   "cell_type": "markdown",
   "id": "8fb76e54-d054-4a9b-a0ba-e0767ca7033b",
   "metadata": {},
   "source": [
    "### if-elif-else السلسلة n-5.2"
   ]
  },
  {
   "cell_type": "markdown",
   "id": "85942e24-b491-4b11-90bb-504c73f9ed4c",
   "metadata": {},
   "source": [
    "#### (if-elif-else) -1- مثال"
   ]
  },
  {
   "cell_type": "code",
   "execution_count": 176,
   "id": "4b1b7652-2265-4bdc-a70a-6cab43bb73bd",
   "metadata": {},
   "outputs": [
    {
     "name": "stdout",
     "output_type": "stream",
     "text": [
      "Retake the exam for another chance\n"
     ]
    }
   ],
   "source": [
    "grade = 5.5\n",
    "if grade > 6: \n",
    "    print(\"Exam passed!\")\n",
    "elif grade >= 5 and grade <= 6:\n",
    "    print(\"Retake the exam for another chance\")\n",
    "else: \n",
    "    print(\"Exam not passed!\")"
   ]
  },
  {
   "cell_type": "markdown",
   "id": "09b3b97e-36eb-47d8-a8e4-fbb51ddae201",
   "metadata": {},
   "source": [
    "#### (if-elif-else) -2- مثال"
   ]
  },
  {
   "cell_type": "code",
   "execution_count": 177,
   "id": "8ed18435-f379-49db-aefc-9ceb19bd6c72",
   "metadata": {},
   "outputs": [
    {
     "name": "stdout",
     "output_type": "stream",
     "text": [
      "Exam passed!\n",
      "Visit us soon.\n",
      "Or register the new course via email.\n"
     ]
    }
   ],
   "source": [
    "grade = 8\n",
    "if grade > 6 and grade < 9:\n",
    "    print(\"Exam passed!\")\n",
    "    print(\"Visit us soon.\")\n",
    "    print(\"Or register the new course via email.\")\n",
    "elif grade >= 9: \n",
    "    print(\"Excellent! Exam passed!\") \n",
    "    print(\"Visit us soon to celebrate.\") \n",
    "else: \n",
    "    print(\"Exam not passed!\")\n",
    "    print(\"Visit us soon to reregister the course.\")"
   ]
  },
  {
   "cell_type": "markdown",
   "id": "b8b84dc2-273d-4376-b4d8-73fcf5a0e61e",
   "metadata": {},
   "source": [
    "#### (if-elif-elif-else) مثال"
   ]
  },
  {
   "cell_type": "code",
   "execution_count": 178,
   "id": "febde2a6-66ac-4691-9dc8-5b198f6881de",
   "metadata": {},
   "outputs": [
    {
     "name": "stdout",
     "output_type": "stream",
     "text": [
      "Done\n"
     ]
    }
   ],
   "source": [
    "num = [5, 2, 2, 1]\n",
    "if sum(num) == 9:\n",
    "    print(\"Ok\")\n",
    "elif num[1] == 5:\n",
    "    print(\"Yes\")\n",
    "elif max(num) == 5:\n",
    "    print(\"Done\")\n",
    "else:\n",
    "    print(\"Failed\")"
   ]
  },
  {
   "cell_type": "markdown",
   "id": "0d6df324-475c-4d4b-9542-c7c481480b2d",
   "metadata": {},
   "source": [
    "#### (if-elif-elif-else) مثال"
   ]
  },
  {
   "cell_type": "code",
   "execution_count": 179,
   "id": "ca43e365-4471-47dd-a6c1-ce174b2aa7e4",
   "metadata": {},
   "outputs": [
    {
     "name": "stdout",
     "output_type": "stream",
     "text": [
      "Failed\n"
     ]
    }
   ],
   "source": [
    "num = [5, 2, 2, 1]\n",
    "if sum(num) == 9:\n",
    "    print(\"Ok\")\n",
    "elif num[1] == 5:\n",
    "    print(\"Yes\")\n",
    "elif min(num) == 2:\n",
    "    print(\"Done\")\n",
    "else:\n",
    "    print(\"Failed\")"
   ]
  },
  {
   "cell_type": "markdown",
   "id": "1e5d9487-da45-4330-8199-905f143ceffe",
   "metadata": {},
   "source": [
    "#### (if-elif-elif-elif) مثال"
   ]
  },
  {
   "cell_type": "code",
   "execution_count": 180,
   "id": "3e81c7c3-f7fb-40c1-b49e-9ea178380a19",
   "metadata": {},
   "outputs": [
    {
     "name": "stdout",
     "output_type": "stream",
     "text": [
      "Yes\n"
     ]
    }
   ],
   "source": [
    "num = [5, 2, 2, 1]\n",
    "if sum(num) == 9:\n",
    "    print(\"Ok\")\n",
    "elif num[-1] == 1:\n",
    "    print(\"Yes\")\n",
    "elif min(num) == 2:\n",
    "    print(\"Done\")\n",
    "elif max(num) == 5:\n",
    "   print(\"Failed\")"
   ]
  },
  {
   "cell_type": "markdown",
   "id": "3251a67b-79cf-49ea-9d0e-8862767738e7",
   "metadata": {},
   "source": [
    "## تمرين الفصل الرابع"
   ]
  },
  {
   "cell_type": "markdown",
   "id": "e2ff6f46-9d0f-4bf1-9083-34338965d5e3",
   "metadata": {},
   "source": [
    "### 1"
   ]
  },
  {
   "cell_type": "markdown",
   "id": "e9f2d300-83c1-4896-8d10-a9b6e17fdcdb",
   "metadata": {},
   "source": [
    "#### 1.1 / 1.2"
   ]
  },
  {
   "cell_type": "code",
   "execution_count": 181,
   "id": "79ff244a-e494-4148-8faa-36e79fda2311",
   "metadata": {},
   "outputs": [
    {
     "name": "stdout",
     "output_type": "stream",
     "text": [
      "Free of charge.\n"
     ]
    }
   ],
   "source": [
    "amount = 0 #قم بتعديل هذا السطر لاحقاً أثناء التمرين\n",
    "if amount == 0:\n",
    "    print(\"Free of charge.\")\n",
    "else:\n",
    "    print(\"Get exciting deals, don't miss our sale!\")"
   ]
  },
  {
   "cell_type": "markdown",
   "id": "0e0d09ab-52e7-4415-8eda-bf18e407c9a7",
   "metadata": {},
   "source": [
    "### 1.3 / 1.4 / 1.5"
   ]
  },
  {
   "cell_type": "code",
   "execution_count": 182,
   "id": "5b33d333-d48d-4c2e-b590-47f6c347686b",
   "metadata": {},
   "outputs": [
    {
     "name": "stdout",
     "output_type": "stream",
     "text": [
      "Discount not available for this amount.\n"
     ]
    }
   ],
   "source": [
    "if amount < 10:\n",
    "    print(\"Discount not available for this amount.\")\n",
    "elif amount >= 10 and amount < 30:\n",
    "    print(\"Discount 20%\")\n",
    "else:\n",
    "    print(\"Discount 40%\")"
   ]
  },
  {
   "cell_type": "markdown",
   "id": "64cf873e-111b-429d-b952-b9411fb84ef2",
   "metadata": {},
   "source": [
    "### 2"
   ]
  },
  {
   "cell_type": "code",
   "execution_count": 183,
   "id": "f76a43ac-bd6f-48c2-8774-eec21fc7953d",
   "metadata": {},
   "outputs": [
    {
     "name": "stdout",
     "output_type": "stream",
     "text": [
      "samar\n",
      "SAMAR\n"
     ]
    }
   ],
   "source": [
    "names = [\"samar\", \"SAMAR\", \"Ahmad\", \"Sahar\", \"Amal\"]\n",
    "for name in names:\n",
    "   if name.lower() == \"samar\":\n",
    "       print(name)"
   ]
  },
  {
   "cell_type": "markdown",
   "id": "2201b60a-5a2c-47f9-8e65-e6e39f23520a",
   "metadata": {},
   "source": [
    "### 3"
   ]
  },
  {
   "cell_type": "markdown",
   "id": "6b3d4f05-7f38-4846-96df-82aa76496cf2",
   "metadata": {},
   "source": [
    "#### 3.1"
   ]
  },
  {
   "cell_type": "code",
   "execution_count": 184,
   "id": "abc48046-847f-4739-984f-ba78d268123b",
   "metadata": {},
   "outputs": [
    {
     "name": "stdout",
     "output_type": "stream",
     "text": [
      "List is empty.\n"
     ]
    }
   ],
   "source": [
    "members = [ ]\n",
    "if len(members) == 0:\n",
    "    print(\"List is empty.\")"
   ]
  },
  {
   "cell_type": "markdown",
   "id": "e72d57fc-56d9-4f38-b2b7-358edd421cbf",
   "metadata": {},
   "source": [
    "#### 3.2"
   ]
  },
  {
   "cell_type": "code",
   "execution_count": 185,
   "id": "03efed02-2a4a-457b-bd63-c3a49040793e",
   "metadata": {},
   "outputs": [
    {
     "name": "stdout",
     "output_type": "stream",
     "text": [
      "My name is Ahmad Al-Khatib\n",
      "My friend name is Prof. Khaled Hankir\n",
      "My friend name is Prof. Ahmed Al-Emadi\n",
      "My friend name is Dr. Khalid Al-Rajhi\n"
     ]
    }
   ],
   "source": [
    "members = [\"Ahmad Al-Khatib\", \"Prof. Khaled Hankir\", \"Prof. Ahmed Al-Emadi\", \"Dr. Khalid Al-Rajhi\"]\n",
    "for member in members:\n",
    "   if member == \"Ahmad Al-Khatib\":\n",
    "       print(\"My name is \" + member)\n",
    "   else:\n",
    "       print(\"My friend name is \" + member)"
   ]
  },
  {
   "cell_type": "markdown",
   "id": "9a71d524-c8ac-4274-a4c8-7fe928c39dc8",
   "metadata": {},
   "source": [
    "# -الفصل -5"
   ]
  },
  {
   "cell_type": "markdown",
   "id": "834b4b3d-df79-4ea9-88e0-160c7071d391",
   "metadata": {},
   "source": [
    "## (التپل Tuple) n-1"
   ]
  },
  {
   "cell_type": "code",
   "execution_count": 186,
   "id": "7c136448-df52-4432-a7ee-8e95e26280e1",
   "metadata": {},
   "outputs": [],
   "source": [
    "rgb_colors = (\"red\", \"green\", \"blue\")"
   ]
  },
  {
   "cell_type": "code",
   "execution_count": 187,
   "id": "2e2cdf16-8edb-43b6-9f48-67c9e0e3da18",
   "metadata": {},
   "outputs": [
    {
     "name": "stdout",
     "output_type": "stream",
     "text": [
      "red\n"
     ]
    }
   ],
   "source": [
    "print(rgb_colors[0])"
   ]
  },
  {
   "cell_type": "code",
   "execution_count": 188,
   "id": "407789aa-dd25-40eb-bf6b-374ffaa3ae37",
   "metadata": {},
   "outputs": [
    {
     "name": "stdout",
     "output_type": "stream",
     "text": [
      "('red', 'green')\n"
     ]
    }
   ],
   "source": [
    "print(rgb_colors[0:2])"
   ]
  },
  {
   "cell_type": "code",
   "execution_count": 189,
   "id": "298a6a28-165f-41dc-81b9-a46d9e0fed6c",
   "metadata": {},
   "outputs": [
    {
     "name": "stdout",
     "output_type": "stream",
     "text": [
      "['blue', 'green', 'red']\n"
     ]
    }
   ],
   "source": [
    "print(sorted(rgb_colors))"
   ]
  },
  {
   "cell_type": "code",
   "execution_count": 190,
   "id": "1b533f29-0e3d-44ad-a39b-1190a321bced",
   "metadata": {},
   "outputs": [
    {
     "ename": "TypeError",
     "evalue": "'tuple' object doesn't support item deletion",
     "output_type": "error",
     "traceback": [
      "\u001b[1;31m---------------------------------------------------------------------------\u001b[0m",
      "\u001b[1;31mTypeError\u001b[0m                                 Traceback (most recent call last)",
      "Cell \u001b[1;32mIn[190], line 1\u001b[0m\n\u001b[1;32m----> 1\u001b[0m \u001b[38;5;28;01mdel\u001b[39;00m \u001b[43mrgb_colors\u001b[49m\u001b[43m[\u001b[49m\u001b[38;5;241;43m0\u001b[39;49m\u001b[43m]\u001b[49m\n",
      "\u001b[1;31mTypeError\u001b[0m: 'tuple' object doesn't support item deletion"
     ]
    }
   ],
   "source": [
    "del rgb_colors[0]"
   ]
  },
  {
   "cell_type": "code",
   "execution_count": 191,
   "id": "a9fba6aa-2318-478d-b8a9-285922deb8c3",
   "metadata": {},
   "outputs": [
    {
     "ename": "AttributeError",
     "evalue": "'tuple' object has no attribute 'sort'",
     "output_type": "error",
     "traceback": [
      "\u001b[1;31m---------------------------------------------------------------------------\u001b[0m",
      "\u001b[1;31mAttributeError\u001b[0m                            Traceback (most recent call last)",
      "Cell \u001b[1;32mIn[191], line 1\u001b[0m\n\u001b[1;32m----> 1\u001b[0m \u001b[43mrgb_colors\u001b[49m\u001b[38;5;241;43m.\u001b[39;49m\u001b[43msort\u001b[49m()\n",
      "\u001b[1;31mAttributeError\u001b[0m: 'tuple' object has no attribute 'sort'"
     ]
    }
   ],
   "source": [
    "rgb_colors.sort()"
   ]
  },
  {
   "cell_type": "markdown",
   "id": "6296be9d-2ae7-4a85-81f0-0041541316ec",
   "metadata": {},
   "source": [
    "## (Dictionary دكشنري) القاموس n-2"
   ]
  },
  {
   "cell_type": "code",
   "execution_count": 192,
   "id": "2cc08be4-d700-4516-a942-272b15341a0b",
   "metadata": {},
   "outputs": [],
   "source": [
    "team = {'Michael Jordan': 1.98, 'Shaquille ONeal': 2.16, 'Kobe Bryant': 1.98}"
   ]
  },
  {
   "cell_type": "markdown",
   "id": "ee42da2b-8654-4f8f-ac61-27379e1c34e9",
   "metadata": {},
   "source": [
    "### كود ڤاليو) القاموس) n-2.1"
   ]
  },
  {
   "cell_type": "code",
   "execution_count": 193,
   "id": "35d0189a-82fa-4216-b661-fd68ad093a65",
   "metadata": {},
   "outputs": [
    {
     "name": "stdout",
     "output_type": "stream",
     "text": [
      "1.98\n"
     ]
    }
   ],
   "source": [
    "team = {'Michael Jordan': 1.98, 'Shaquille ONeal': 2.16, 'Kobe Bryant': 1.98}\n",
    "kobe_height = team['Kobe Bryant']\n",
    "print(kobe_height)"
   ]
  },
  {
   "cell_type": "markdown",
   "id": "b9838cdc-9f96-42a4-a83e-ea9b4478c7e2",
   "metadata": {},
   "source": [
    "### تعديل القاموس n-2.2"
   ]
  },
  {
   "cell_type": "markdown",
   "id": "bb7a58ba-0500-4998-a2da-f98120c94ffe",
   "metadata": {},
   "source": [
    "#### اضافة الأزواج إلى القاموس بواسطة (كود الڤاليو) n-2.2.i"
   ]
  },
  {
   "cell_type": "code",
   "execution_count": 194,
   "id": "34e07010-8091-4ca3-9160-1777059723d0",
   "metadata": {},
   "outputs": [
    {
     "name": "stdout",
     "output_type": "stream",
     "text": [
      "{'Michael Jordan': 1.98, 'Shaquille ONeal': 2.16, 'Kobe Bryant': 1.98, 'Dennis Rodman': 2.01}\n"
     ]
    }
   ],
   "source": [
    "team = {'Michael Jordan': 1.98, 'Shaquille ONeal': 2.16, 'Kobe Bryant': 1.98}\n",
    "team['Dennis Rodman'] = 2.01\n",
    "print(team) "
   ]
  },
  {
   "cell_type": "markdown",
   "id": "b0ab3005-0660-4d99-86d0-aed27fec86df",
   "metadata": {},
   "source": [
    "#### del حذف الأزواج من القاموس بواسطة (الكيوورد) n-2.2.ii"
   ]
  },
  {
   "cell_type": "code",
   "execution_count": 195,
   "id": "55eeb5ef-b0fa-461d-89bc-d6dde4316eeb",
   "metadata": {},
   "outputs": [
    {
     "name": "stdout",
     "output_type": "stream",
     "text": [
      "{'Michael Jordan': 1.98, 'Kobe Bryant': 1.98}\n"
     ]
    }
   ],
   "source": [
    "team = {'Michael Jordan': 1.98, 'Shaquille ONeal': 2.16, 'Kobe Bryant': 1.98}\n",
    "del team['Shaquille ONeal']\n",
    "print(team) "
   ]
  },
  {
   "cell_type": "markdown",
   "id": "7fe86a85-a0ee-4caa-b468-0dc1fed67e1a",
   "metadata": {},
   "source": [
    "#### تعديل (ڤاليو) محدد من القاموس بواسطة (كود الڤاليو) n-2.2.iii"
   ]
  },
  {
   "cell_type": "code",
   "execution_count": 196,
   "id": "98915c4e-b8fa-414f-9046-d4af11d7bfeb",
   "metadata": {},
   "outputs": [
    {
     "name": "stdout",
     "output_type": "stream",
     "text": [
      "{'Michael Jordan': '1.98 m', 'Shaquille ONeal': 2.16, 'Kobe Bryant': 1.98}\n"
     ]
    }
   ],
   "source": [
    "team = {'Michael Jordan': 1.98, 'Shaquille ONeal': 2.16, 'Kobe Bryant': 1.98}\n",
    "team['Michael Jordan'] = '1.98 m'\n",
    "print(team) "
   ]
  },
  {
   "cell_type": "markdown",
   "id": "9747354d-443d-495e-a531-1716acc38c25",
   "metadata": {},
   "source": [
    "### .items() .values() .keys() (الميثود) n-2.3"
   ]
  },
  {
   "cell_type": "markdown",
   "id": "4b92d111-11cb-4432-b377-be70a4b11c71",
   "metadata": {},
   "source": [
    "#### .items() عرض لائحة أزواج القاموس بواسطة (الميثود) "
   ]
  },
  {
   "cell_type": "code",
   "execution_count": 197,
   "id": "cceba02b-6b71-4f88-a82c-7e886cb77863",
   "metadata": {},
   "outputs": [
    {
     "name": "stdout",
     "output_type": "stream",
     "text": [
      "dict_items([('Michael Jordan', 1.98), ('Shaquille ONeal', 2.16), ('Kobe Bryant', 1.98)])\n"
     ]
    }
   ],
   "source": [
    "team = {'Michael Jordan': 1.98, 'Shaquille ONeal': 2.16, 'Kobe Bryant': 1.98}\n",
    "print(team.items())"
   ]
  },
  {
   "cell_type": "markdown",
   "id": "bdcabeeb-1a69-4a8c-903d-914725a2bc68",
   "metadata": {},
   "source": [
    "#### .keys() عرض لائحة مفاتيح القاموس بواسطة (الميثود) "
   ]
  },
  {
   "cell_type": "code",
   "execution_count": 198,
   "id": "bc2ef43b-78fc-4190-b01d-859f21697ac0",
   "metadata": {},
   "outputs": [
    {
     "name": "stdout",
     "output_type": "stream",
     "text": [
      "dict_keys(['Michael Jordan', 'Shaquille ONeal', 'Kobe Bryant'])\n"
     ]
    }
   ],
   "source": [
    "team = {'Michael Jordan': 1.98, 'Shaquille ONeal': 2.16, 'Kobe Bryant': 1.98}\n",
    "print(team.keys())"
   ]
  },
  {
   "cell_type": "markdown",
   "id": "18ad6d09-43f9-4c1f-8021-324ba9ce1c23",
   "metadata": {},
   "source": [
    "#### .values() عرض لائحة (ڤاليو) القاموس بواسطة (الميثود) "
   ]
  },
  {
   "cell_type": "code",
   "execution_count": 199,
   "id": "25cca730-13a5-4ab9-95e9-8d611f1b2f17",
   "metadata": {},
   "outputs": [
    {
     "name": "stdout",
     "output_type": "stream",
     "text": [
      "dict_values([1.98, 2.16, 1.98])\n"
     ]
    }
   ],
   "source": [
    "team = {'Michael Jordan': 1.98, 'Shaquille ONeal': 2.16, 'Kobe Bryant': 1.98}\n",
    "print(team.values())"
   ]
  },
  {
   "cell_type": "markdown",
   "id": "6511e185-d882-4c6e-b658-78144c596395",
   "metadata": {},
   "source": [
    "### على القاموس for تنفيذ (اللوپ) n-2.4"
   ]
  },
  {
   "cell_type": "markdown",
   "id": "0e780a43-6559-46f4-b2cb-774dee867098",
   "metadata": {},
   "source": [
    "#### على مفاتيح القاموس for تنفيذ (اللوپ) n-2.4.i"
   ]
  },
  {
   "cell_type": "markdown",
   "id": "d3894f44-02ec-4d3e-9639-fdedff711a3d",
   "metadata": {},
   "source": [
    "##### على مفاتيح القاموس عبر تنفيذها على القاموس مباشرة for تنفيذ (اللوپ)"
   ]
  },
  {
   "cell_type": "code",
   "execution_count": 200,
   "id": "7b9b6ddf-b7da-42ba-91e1-1e2bdb8ca468",
   "metadata": {},
   "outputs": [
    {
     "name": "stdout",
     "output_type": "stream",
     "text": [
      "Michael Jordan\n",
      "Shaquille ONeal\n",
      "Kobe Bryant\n"
     ]
    }
   ],
   "source": [
    "team = {'Michael Jordan': 1.98, 'Shaquille ONeal': 2.16, 'Kobe Bryant': 1.98}\n",
    "for player in team:\n",
    "    print(player) "
   ]
  },
  {
   "cell_type": "markdown",
   "id": "e510c8a2-775d-4096-b7f7-1e07531ffd56",
   "metadata": {},
   "source": [
    "##### .keys() على مفاتيح القاموس عبر استخدام (الميثود) for تنفيذ (اللوپ)"
   ]
  },
  {
   "cell_type": "code",
   "execution_count": 201,
   "id": "5f4d188a-54f9-48bf-8141-57c0074f3bff",
   "metadata": {},
   "outputs": [
    {
     "name": "stdout",
     "output_type": "stream",
     "text": [
      "Michael Jordan\n",
      "Shaquille ONeal\n",
      "Kobe Bryant\n"
     ]
    }
   ],
   "source": [
    "team = {'Michael Jordan': 1.98, 'Shaquille ONeal': 2.16, 'Kobe Bryant': 1.98}\n",
    "for player in team.keys():\n",
    "    print(player) "
   ]
  },
  {
   "cell_type": "markdown",
   "id": "8d6c7e8c-3370-4853-b538-a4480b129715",
   "metadata": {},
   "source": [
    "#### .values() على مجموعة (ڤاليو) القاموس عبر استخدام (الميثود) for تنفيذ (اللوپ) n-2.4.ii"
   ]
  },
  {
   "cell_type": "code",
   "execution_count": 202,
   "id": "46035163-f0c0-4ca0-89bb-76dc1c5c8d80",
   "metadata": {},
   "outputs": [
    {
     "name": "stdout",
     "output_type": "stream",
     "text": [
      "1.98\n",
      "2.16\n",
      "1.98\n"
     ]
    }
   ],
   "source": [
    "team = {'Michael Jordan': 1.98, 'Shaquille ONeal': 2.16, 'Kobe Bryant': 1.98}\n",
    "for player_height in team.values():\n",
    "    print(player_height)"
   ]
  },
  {
   "cell_type": "markdown",
   "id": "18038900-81a6-4ecd-b0a4-4963ae6b9279",
   "metadata": {},
   "source": [
    "#### .items() على أزواح القاموس عبر استخدام (الميثود) for تنفيذ (اللوپ) n-2.4.iii"
   ]
  },
  {
   "cell_type": "code",
   "execution_count": 203,
   "id": "e0b5f16c-405a-4ec9-ae55-0a1be975e738",
   "metadata": {},
   "outputs": [
    {
     "name": "stdout",
     "output_type": "stream",
     "text": [
      "Michael Jordan\n",
      "1.98\n",
      "Shaquille ONeal\n",
      "2.16\n",
      "Kobe Bryant\n",
      "1.98\n"
     ]
    }
   ],
   "source": [
    "team = {'Michael Jordan': 1.98, 'Shaquille ONeal': 2.16, 'Kobe Bryant': 1.98}\n",
    "for player, player_height in team.items():\n",
    "    print(player)\n",
    "    print(player_height)"
   ]
  },
  {
   "cell_type": "markdown",
   "id": "940dca7b-3bba-4df2-b9c8-cfee73a87aa9",
   "metadata": {},
   "source": [
    "#### مثال آخر"
   ]
  },
  {
   "cell_type": "markdown",
   "id": "5dbdc692-342d-42a1-819b-40038186c33b",
   "metadata": {},
   "source": [
    "##### على مفاتيح القاموس بحسب ترتيبها التصاعدي for تنفيذ (اللوپ)"
   ]
  },
  {
   "cell_type": "code",
   "execution_count": 204,
   "id": "d569ad3b-521e-4596-b313-87fc6ffa3deb",
   "metadata": {},
   "outputs": [
    {
     "name": "stdout",
     "output_type": "stream",
     "text": [
      "de\n",
      "hu\n",
      "no\n",
      "sk\n",
      "us\n"
     ]
    }
   ],
   "source": [
    "domains = {\"de\": \"Germany\", \"sk\": \"Slovakia\", \"hu\": \"Hungary\", \"us\": \"United States\", \"no\": \"Norway\"}\n",
    "for domain in sorted(domains.keys()):\n",
    "    print(domain)"
   ]
  },
  {
   "cell_type": "markdown",
   "id": "581e249f-9203-43b5-b90d-ae37f3e48ce6",
   "metadata": {},
   "source": [
    "##### على مجموعة (ڤاليو) القاموس بحسب ترتيبها التصاعدي for تنفيذ (اللوپ)"
   ]
  },
  {
   "cell_type": "code",
   "execution_count": 205,
   "id": "b4503249-3cbf-4bd2-9881-e516ddce2e2d",
   "metadata": {},
   "outputs": [
    {
     "name": "stdout",
     "output_type": "stream",
     "text": [
      "Germany\n",
      "Hungary\n",
      "Norway\n",
      "Slovakia\n",
      "United States\n"
     ]
    }
   ],
   "source": [
    "domains = {\"de\": \"Germany\", \"sk\": \"Slovakia\", \"hu\": \"Hungary\", \"us\": \"United States\", \"no\": \"Norway\"}\n",
    "for country in sorted(domains.values()):\n",
    "    print(country)"
   ]
  },
  {
   "cell_type": "markdown",
   "id": "207ca6fb-fd06-417f-b80b-958cecc6c3b0",
   "metadata": {},
   "source": [
    "##### على مفاتيح القاموس بحسب ترتيبها التنازلي for تنفيذ (اللوپ)"
   ]
  },
  {
   "cell_type": "code",
   "execution_count": 206,
   "id": "3e5253a7-1964-4519-9437-8a6b146a35d8",
   "metadata": {},
   "outputs": [
    {
     "name": "stdout",
     "output_type": "stream",
     "text": [
      "us\n",
      "sk\n",
      "no\n",
      "hu\n",
      "de\n"
     ]
    }
   ],
   "source": [
    "domains = {\"de\": \"Germany\", \"sk\": \"Slovakia\", \"hu\": \"Hungary\", \"us\": \"United States\", \"no\": \"Norway\"}\n",
    "for domain in sorted(domains.keys(), reverse = True):\n",
    "    print(domain) "
   ]
  },
  {
   "cell_type": "markdown",
   "id": "998280e6-af64-4aa3-b5ee-e5220f5bed79",
   "metadata": {},
   "source": [
    "##### على مجموعة (ڤاليو) القاموس بحسب ترتيبها التنازلي for تنفيذ (اللوپ)"
   ]
  },
  {
   "cell_type": "code",
   "execution_count": 207,
   "id": "91cfc0c2-861c-4a37-94e5-ae321668a669",
   "metadata": {},
   "outputs": [
    {
     "name": "stdout",
     "output_type": "stream",
     "text": [
      "United States\n",
      "Slovakia\n",
      "Norway\n",
      "Hungary\n",
      "Germany\n"
     ]
    }
   ],
   "source": [
    "domains = {\"de\": \"Germany\", \"sk\": \"Slovakia\", \"hu\": \"Hungary\", \"us\": \"United States\", \"no\": \"Norway\"}\n",
    "for country in sorted(domains.values(), reverse = True):\n",
    "    print(country)"
   ]
  },
  {
   "cell_type": "markdown",
   "id": "57d51663-f3c7-4201-970d-648ab6bea35c",
   "metadata": {},
   "source": [
    "##### على أزواح القاموس بحسب ترتيبها التصاعدي for تنفيذ (اللوپ)"
   ]
  },
  {
   "cell_type": "code",
   "execution_count": 208,
   "id": "2dce9fd6-7ea0-4a46-9dbe-76d7ecf0fcb7",
   "metadata": {},
   "outputs": [
    {
     "name": "stdout",
     "output_type": "stream",
     "text": [
      "four 4\n",
      "one 1\n",
      "three 3\n",
      "two 2\n"
     ]
    }
   ],
   "source": [
    "numbers = {\"one\": 1, \"two\": 2, \"three\": 3, \"four\": 4}\n",
    "for x, y in sorted(numbers.items()):\n",
    "    print(x + \" \" + str(y))"
   ]
  },
  {
   "cell_type": "markdown",
   "id": "5edef36c-bc30-48bd-ad29-d4016943527b",
   "metadata": {},
   "source": [
    "##### على أزواح القاموس بحسب ترتيبها التنازلي for تنفيذ (اللوپ)"
   ]
  },
  {
   "cell_type": "code",
   "execution_count": 209,
   "id": "de1ce077-4cdb-4dec-aa45-54f80c69f68d",
   "metadata": {},
   "outputs": [
    {
     "name": "stdout",
     "output_type": "stream",
     "text": [
      "two 2\n",
      "three 3\n",
      "one 1\n",
      "four 4\n"
     ]
    }
   ],
   "source": [
    "numbers = {\"one\": 1, \"two\": 2, \"three\": 3, \"four\": 4}\n",
    "for x, y in sorted(numbers.items(), reverse = True):\n",
    "    print(x + \" \" + str(y))"
   ]
  },
  {
   "cell_type": "markdown",
   "id": "ddec01b4-7fa1-4646-9f34-d288a2444479",
   "metadata": {},
   "source": [
    "## (Set الست) n-3"
   ]
  },
  {
   "cell_type": "code",
   "execution_count": 210,
   "id": "69b2e80e-9b91-4d9e-a311-e32ad5e21c71",
   "metadata": {},
   "outputs": [],
   "source": [
    "rgb_colors = {\"red\", \"green\", \"blue\", \"red\"}"
   ]
  },
  {
   "cell_type": "code",
   "execution_count": 211,
   "id": "baf73ff2-2750-46fa-a0db-bbb74bc0eeb2",
   "metadata": {},
   "outputs": [
    {
     "name": "stdout",
     "output_type": "stream",
     "text": [
      "{'red', 'blue', 'green'}\n"
     ]
    }
   ],
   "source": [
    "print(rgb_colors)"
   ]
  },
  {
   "cell_type": "code",
   "execution_count": 212,
   "id": "221929e4-a7c5-4bec-a4bf-32555a233428",
   "metadata": {},
   "outputs": [
    {
     "ename": "TypeError",
     "evalue": "'set' object doesn't support item deletion",
     "output_type": "error",
     "traceback": [
      "\u001b[1;31m---------------------------------------------------------------------------\u001b[0m",
      "\u001b[1;31mTypeError\u001b[0m                                 Traceback (most recent call last)",
      "Cell \u001b[1;32mIn[212], line 2\u001b[0m\n\u001b[0;32m      1\u001b[0m rgb_colors \u001b[38;5;241m=\u001b[39m {\u001b[38;5;124m\"\u001b[39m\u001b[38;5;124mred\u001b[39m\u001b[38;5;124m\"\u001b[39m, \u001b[38;5;124m\"\u001b[39m\u001b[38;5;124mgreen\u001b[39m\u001b[38;5;124m\"\u001b[39m, \u001b[38;5;124m\"\u001b[39m\u001b[38;5;124mblue\u001b[39m\u001b[38;5;124m\"\u001b[39m, \u001b[38;5;124m\"\u001b[39m\u001b[38;5;124mred\u001b[39m\u001b[38;5;124m\"\u001b[39m}\n\u001b[1;32m----> 2\u001b[0m \u001b[38;5;28;01mdel\u001b[39;00m \u001b[43mrgb_colors\u001b[49m\u001b[43m[\u001b[49m\u001b[38;5;241;43m0\u001b[39;49m\u001b[43m]\u001b[49m\n",
      "\u001b[1;31mTypeError\u001b[0m: 'set' object doesn't support item deletion"
     ]
    }
   ],
   "source": [
    "rgb_colors = {\"red\", \"green\", \"blue\", \"red\"}\n",
    "del rgb_colors[0]"
   ]
  },
  {
   "cell_type": "code",
   "execution_count": 213,
   "id": "1a8b31aa-2167-48e1-80fd-cde90b7e1561",
   "metadata": {},
   "outputs": [
    {
     "ename": "AttributeError",
     "evalue": "'set' object has no attribute 'sort'",
     "output_type": "error",
     "traceback": [
      "\u001b[1;31m---------------------------------------------------------------------------\u001b[0m",
      "\u001b[1;31mAttributeError\u001b[0m                            Traceback (most recent call last)",
      "Cell \u001b[1;32mIn[213], line 2\u001b[0m\n\u001b[0;32m      1\u001b[0m rgb_colors \u001b[38;5;241m=\u001b[39m {\u001b[38;5;124m\"\u001b[39m\u001b[38;5;124mred\u001b[39m\u001b[38;5;124m\"\u001b[39m, \u001b[38;5;124m\"\u001b[39m\u001b[38;5;124mgreen\u001b[39m\u001b[38;5;124m\"\u001b[39m, \u001b[38;5;124m\"\u001b[39m\u001b[38;5;124mblue\u001b[39m\u001b[38;5;124m\"\u001b[39m, \u001b[38;5;124m\"\u001b[39m\u001b[38;5;124mred\u001b[39m\u001b[38;5;124m\"\u001b[39m}\n\u001b[1;32m----> 2\u001b[0m \u001b[43mrgb_colors\u001b[49m\u001b[38;5;241;43m.\u001b[39;49m\u001b[43msort\u001b[49m()\n",
      "\u001b[1;31mAttributeError\u001b[0m: 'set' object has no attribute 'sort'"
     ]
    }
   ],
   "source": [
    "rgb_colors = {\"red\", \"green\", \"blue\", \"red\"}\n",
    "rgb_colors.sort()"
   ]
  },
  {
   "cell_type": "code",
   "execution_count": 214,
   "id": "ce80759e-abaf-4894-ae8f-8327c8d6a827",
   "metadata": {},
   "outputs": [
    {
     "ename": "AttributeError",
     "evalue": "'set' object has no attribute 'sort'",
     "output_type": "error",
     "traceback": [
      "\u001b[1;31m---------------------------------------------------------------------------\u001b[0m",
      "\u001b[1;31mAttributeError\u001b[0m                            Traceback (most recent call last)",
      "Cell \u001b[1;32mIn[214], line 2\u001b[0m\n\u001b[0;32m      1\u001b[0m rgb_colors \u001b[38;5;241m=\u001b[39m {\u001b[38;5;124m\"\u001b[39m\u001b[38;5;124mred\u001b[39m\u001b[38;5;124m\"\u001b[39m, \u001b[38;5;124m\"\u001b[39m\u001b[38;5;124mgreen\u001b[39m\u001b[38;5;124m\"\u001b[39m, \u001b[38;5;124m\"\u001b[39m\u001b[38;5;124mblue\u001b[39m\u001b[38;5;124m\"\u001b[39m, \u001b[38;5;124m\"\u001b[39m\u001b[38;5;124mred\u001b[39m\u001b[38;5;124m\"\u001b[39m}\n\u001b[1;32m----> 2\u001b[0m \u001b[43mrgb_colors\u001b[49m\u001b[38;5;241;43m.\u001b[39;49m\u001b[43msort\u001b[49m(reverse \u001b[38;5;241m=\u001b[39m \u001b[38;5;28;01mTrue\u001b[39;00m)\n",
      "\u001b[1;31mAttributeError\u001b[0m: 'set' object has no attribute 'sort'"
     ]
    }
   ],
   "source": [
    "rgb_colors = {\"red\", \"green\", \"blue\", \"red\"}\n",
    "rgb_colors.sort(reverse = True)"
   ]
  },
  {
   "cell_type": "code",
   "execution_count": 215,
   "id": "ab6b0a60-6219-41e2-9c5f-efda3d2f0697",
   "metadata": {},
   "outputs": [
    {
     "ename": "AttributeError",
     "evalue": "'set' object has no attribute 'insert'",
     "output_type": "error",
     "traceback": [
      "\u001b[1;31m---------------------------------------------------------------------------\u001b[0m",
      "\u001b[1;31mAttributeError\u001b[0m                            Traceback (most recent call last)",
      "Cell \u001b[1;32mIn[215], line 2\u001b[0m\n\u001b[0;32m      1\u001b[0m rgb_colors \u001b[38;5;241m=\u001b[39m {\u001b[38;5;124m\"\u001b[39m\u001b[38;5;124mred\u001b[39m\u001b[38;5;124m\"\u001b[39m, \u001b[38;5;124m\"\u001b[39m\u001b[38;5;124mgreen\u001b[39m\u001b[38;5;124m\"\u001b[39m, \u001b[38;5;124m\"\u001b[39m\u001b[38;5;124mblue\u001b[39m\u001b[38;5;124m\"\u001b[39m, \u001b[38;5;124m\"\u001b[39m\u001b[38;5;124mred\u001b[39m\u001b[38;5;124m\"\u001b[39m}\n\u001b[1;32m----> 2\u001b[0m \u001b[43mrgb_colors\u001b[49m\u001b[38;5;241;43m.\u001b[39;49m\u001b[43minsert\u001b[49m(\u001b[38;5;241m0\u001b[39m, \u001b[38;5;124m\"\u001b[39m\u001b[38;5;124mblack\u001b[39m\u001b[38;5;124m\"\u001b[39m)\n",
      "\u001b[1;31mAttributeError\u001b[0m: 'set' object has no attribute 'insert'"
     ]
    }
   ],
   "source": [
    "rgb_colors = {\"red\", \"green\", \"blue\", \"red\"}\n",
    "rgb_colors.insert(0, \"black\")"
   ]
  },
  {
   "cell_type": "code",
   "execution_count": 216,
   "id": "66558a29-428c-4707-ab14-30c2c731948c",
   "metadata": {},
   "outputs": [
    {
     "name": "stdout",
     "output_type": "stream",
     "text": [
      "['blue', 'green', 'red']\n"
     ]
    }
   ],
   "source": [
    "rgb_colors = {\"red\", \"green\", \"blue\", \"red\"}\n",
    "print(sorted(rgb_colors))"
   ]
  },
  {
   "cell_type": "code",
   "execution_count": 217,
   "id": "82aa6545-abe3-4ab0-81ab-9904161c7dad",
   "metadata": {},
   "outputs": [
    {
     "name": "stdout",
     "output_type": "stream",
     "text": [
      "{'red', 'blue'}\n"
     ]
    }
   ],
   "source": [
    "rgb_colors = {\"red\", \"green\", \"blue\", \"red\"}\n",
    "rgb_colors.remove(\"green\")\n",
    "print(rgb_colors)"
   ]
  },
  {
   "cell_type": "markdown",
   "id": "997ab946-733c-46f4-9de5-1783c817c889",
   "metadata": {},
   "source": [
    "### .update() و .add() (الميثود) و ،set() و tuple() (الفانكشن) n-3.1"
   ]
  },
  {
   "cell_type": "code",
   "execution_count": 218,
   "id": "30bd41b8-3eac-4471-a139-1cc10f30a339",
   "metadata": {},
   "outputs": [
    {
     "name": "stdout",
     "output_type": "stream",
     "text": [
      "('Celina', 'Nour', 'Farah', 'Lama')\n"
     ]
    }
   ],
   "source": [
    "names_1 = ['Celina', 'Nour', 'Farah', 'Lama']\n",
    "print(tuple(names_1))"
   ]
  },
  {
   "cell_type": "code",
   "execution_count": 219,
   "id": "85f927c5-d8bb-4723-ac64-283753799204",
   "metadata": {},
   "outputs": [
    {
     "name": "stdout",
     "output_type": "stream",
     "text": [
      "{'Celina', 'Farah', 'Nour', 'Lama'}\n"
     ]
    }
   ],
   "source": [
    "names_2 = set(names_1)\n",
    "print(names_2)"
   ]
  },
  {
   "cell_type": "code",
   "execution_count": 220,
   "id": "5080dddb-0fea-4267-bee6-f96ecd20dfef",
   "metadata": {},
   "outputs": [
    {
     "name": "stdout",
     "output_type": "stream",
     "text": [
      "{'Rasha', 'Nour', 'Lama', 'Celina', 'Farah'}\n"
     ]
    }
   ],
   "source": [
    "names_2.add('Rasha') \n",
    "print(names_2)"
   ]
  },
  {
   "cell_type": "code",
   "execution_count": 221,
   "id": "513ecc30-ed8b-46f1-9f82-0cfe9dfbd92e",
   "metadata": {},
   "outputs": [
    {
     "name": "stdout",
     "output_type": "stream",
     "text": [
      "{'Celine', 'Rasha', 'Nour', 'Lama', 'Celina', 'Lamia', 'Layal', 'Farah'}\n"
     ]
    }
   ],
   "source": [
    "names_2.update(['Layal', 'Lamia', 'Celina', 'Celine'])\n",
    "print(names_2)"
   ]
  },
  {
   "cell_type": "code",
   "execution_count": 222,
   "id": "2dd04b76-ef82-40de-ad8e-c71ff8c44f52",
   "metadata": {},
   "outputs": [
    {
     "name": "stdout",
     "output_type": "stream",
     "text": [
      "{480, 460, 430, 400, 470, 410}\n"
     ]
    }
   ],
   "source": [
    "prices = [400, 460, 470, 400, 480, 460, 430, 410, 400, 410]\n",
    "print(set(prices))"
   ]
  },
  {
   "cell_type": "markdown",
   "id": "3aa9ad22-c375-4154-b666-7082d1bde3d0",
   "metadata": {},
   "source": [
    "## تمرين الفصل الخامس"
   ]
  },
  {
   "cell_type": "markdown",
   "id": "5ab72a73-08d6-4a89-b4c4-ec3f1aa26811",
   "metadata": {},
   "source": [
    "### 1"
   ]
  },
  {
   "cell_type": "code",
   "execution_count": 223,
   "id": "ac4e4e97-57da-4723-b0f9-dcda5d33ec96",
   "metadata": {},
   "outputs": [],
   "source": [
    "nadia = {\"last name\": \"Khatib\", \"age\": \"seven\", \"address\": \"Mazboud\"}"
   ]
  },
  {
   "cell_type": "markdown",
   "id": "5c6fd747-8a1f-43e6-8cb0-ebd379e73ea1",
   "metadata": {},
   "source": [
    "#### 1.1"
   ]
  },
  {
   "cell_type": "code",
   "execution_count": 224,
   "id": "ed49bf4a-e042-41b3-b00d-5283b475562c",
   "metadata": {},
   "outputs": [],
   "source": [
    "friends_addresses = {\"Jassem\": \"Jeddah\", \"Ibrahim\": \"Doha\", \"Yasser\": \"Paris\"}"
   ]
  },
  {
   "cell_type": "markdown",
   "id": "94177aa9-9c53-4353-ac51-836a74d95256",
   "metadata": {},
   "source": [
    "#### 1.2"
   ]
  },
  {
   "cell_type": "code",
   "execution_count": 225,
   "id": "9a84f223-c03b-4c13-8183-bfb41d56d1c6",
   "metadata": {},
   "outputs": [
    {
     "name": "stdout",
     "output_type": "stream",
     "text": [
      "['Khatib', 'Mazboud', 'seven']\n",
      "['Yasser', 'Jassem', 'Ibrahim']\n"
     ]
    }
   ],
   "source": [
    "print(sorted(nadia.values()))\n",
    "print(sorted(friends_addresses.keys(), reverse = True))"
   ]
  },
  {
   "cell_type": "markdown",
   "id": "365f908e-a6a5-48a8-9bca-19dfddf88dba",
   "metadata": {},
   "source": [
    "### 2"
   ]
  },
  {
   "cell_type": "code",
   "execution_count": 226,
   "id": "062957ba-411d-431e-937e-c6983efb6458",
   "metadata": {},
   "outputs": [],
   "source": [
    "expected_salaries = {\"Khaled\": 20000, \"Jassem\": 50000, \"Mohammad\": 30000}"
   ]
  },
  {
   "cell_type": "markdown",
   "id": "793178d6-8725-4bd2-b584-72f2b03b0f7b",
   "metadata": {},
   "source": [
    "#### 2.1"
   ]
  },
  {
   "cell_type": "code",
   "execution_count": 227,
   "id": "5120d27f-89c7-40b5-8183-237f305da73d",
   "metadata": {},
   "outputs": [
    {
     "name": "stdout",
     "output_type": "stream",
     "text": [
      "100000\n"
     ]
    }
   ],
   "source": [
    "print(sum(expected_salaries.values()))"
   ]
  },
  {
   "cell_type": "markdown",
   "id": "cf93fbbb-d5b0-44b4-b288-7121c8c138e7",
   "metadata": {},
   "source": [
    "#### 2.2"
   ]
  },
  {
   "cell_type": "code",
   "execution_count": 228,
   "id": "3012bfa2-b85c-4b8e-b426-e1a3f0930f00",
   "metadata": {},
   "outputs": [
    {
     "name": "stdout",
     "output_type": "stream",
     "text": [
      "I think that Khaled salary is around 20000\n",
      "I think that Jassem salary is around 50000\n",
      "I think that Mohammad salary is around 30000\n"
     ]
    }
   ],
   "source": [
    "for friend, salary in expected_salaries.items():\n",
    "    print(\"I think that \" + friend + \" salary is around \" + str(salary))"
   ]
  },
  {
   "cell_type": "markdown",
   "id": "53ec2b47-12fc-4f4d-94b4-67413e1532f3",
   "metadata": {},
   "source": [
    "#### 2.3"
   ]
  },
  {
   "cell_type": "code",
   "execution_count": 229,
   "id": "c00857f1-695c-47e6-9aeb-ad91201783aa",
   "metadata": {},
   "outputs": [],
   "source": [
    "expected_salaries[\"Ahmad\"] = 0"
   ]
  },
  {
   "cell_type": "markdown",
   "id": "6ded915f-fc74-49b1-bf1e-823d35cac704",
   "metadata": {},
   "source": [
    "#### 2.4"
   ]
  },
  {
   "cell_type": "code",
   "execution_count": 230,
   "id": "442077e6-cf3e-422a-b307-c6dc8da12b55",
   "metadata": {},
   "outputs": [
    {
     "name": "stdout",
     "output_type": "stream",
     "text": [
      "Name: Ahmad, salary: 0\n"
     ]
    }
   ],
   "source": [
    "for friend, salary in expected_salaries.items():\n",
    "    if friend == \"Ahmad\":\n",
    "        print(\"Name: \" + friend + \", salary: \" + str(salary))"
   ]
  },
  {
   "cell_type": "markdown",
   "id": "b6880332-b364-4346-b5cf-97762d5fcd0d",
   "metadata": {},
   "source": [
    "#### 2.5"
   ]
  },
  {
   "cell_type": "code",
   "execution_count": 231,
   "id": "27de84df-c0ce-4099-a4c0-9c689fd942b6",
   "metadata": {},
   "outputs": [],
   "source": [
    "new_dict = {\"Ahmad\": 0, \"Noufa\": 20000, \"Aisha\": 10000}"
   ]
  },
  {
   "cell_type": "markdown",
   "id": "b99fc5df-6cd8-461f-9b82-c880e37270a1",
   "metadata": {},
   "source": [
    "#### 2.6"
   ]
  },
  {
   "cell_type": "code",
   "execution_count": 232,
   "id": "2d46290d-3661-4def-9c77-961f637e7c86",
   "metadata": {},
   "outputs": [
    {
     "name": "stdout",
     "output_type": "stream",
     "text": [
      "I think that Noufa salary is around 20000\n",
      "I think that Aisha salary is around 10000\n"
     ]
    }
   ],
   "source": [
    "for name, salary in new_dict.items():\n",
    "    if name not in expected_salaries.keys():\n",
    "        print(\"I think that \" + name + \" salary is around \" + str(salary))"
   ]
  },
  {
   "cell_type": "markdown",
   "id": "6be505d9-ddb4-4331-abc2-367fd6bbe18a",
   "metadata": {},
   "source": [
    "#### 2.7"
   ]
  },
  {
   "cell_type": "code",
   "execution_count": 233,
   "id": "608cc720-3aab-48d3-ba42-0958bc63c3eb",
   "metadata": {},
   "outputs": [
    {
     "name": "stdout",
     "output_type": "stream",
     "text": [
      "{20000, 0, 30000, 50000, 10000}\n"
     ]
    }
   ],
   "source": [
    "set_1 = set(expected_salaries.values())\n",
    "set_2 = set(new_dict.values())\n",
    "set_1.update(set_2)\n",
    "print(set_1)"
   ]
  },
  {
   "cell_type": "markdown",
   "id": "68e0459f-976b-460e-a517-aad7f15c3d0b",
   "metadata": {},
   "source": [
    "# -6- الفصل"
   ]
  },
  {
   "cell_type": "markdown",
   "id": "64f11fe6-0779-4774-8f47-109b5c04d0c8",
   "metadata": {},
   "source": [
    "## input() (الفانكشن) n-1"
   ]
  },
  {
   "cell_type": "code",
   "execution_count": 235,
   "id": "29b912b4-210d-4406-918d-ded17b98783a",
   "metadata": {},
   "outputs": [
    {
     "name": "stdout",
     "output_type": "stream",
     "text": [
      "حول حروف اسمك إلى حالة حروف كبيرة\n"
     ]
    },
    {
     "name": "stdin",
     "output_type": "stream",
     "text": [
      ":ادخل اسمك هنا ahmad\n"
     ]
    },
    {
     "name": "stdout",
     "output_type": "stream",
     "text": [
      "AHMAD\n"
     ]
    }
   ],
   "source": [
    "print(\"حول حروف اسمك إلى حالة حروف كبيرة\")\n",
    "user_data = input(\":ادخل اسمك هنا\")\n",
    "print(user_data.upper())"
   ]
  },
  {
   "cell_type": "markdown",
   "id": "5b4168f6-4ef2-489d-8dce-f3e4e48b09c7",
   "metadata": {},
   "source": [
    "### الرقمية input() التعامل مع مُدخلات (الفانكشن) n-1.1"
   ]
  },
  {
   "cell_type": "code",
   "execution_count": 237,
   "id": "512c7740-a161-4026-899d-2beee3a48fa1",
   "metadata": {},
   "outputs": [
    {
     "name": "stdin",
     "output_type": "stream",
     "text": [
      " :ادخل الوزن بوحدة الباوند لتحويله إلى وحدة الكيلوغرام 1\n"
     ]
    },
    {
     "name": "stdout",
     "output_type": "stream",
     "text": [
      "0.45359237 الوزن بالكيلوغرام:\n"
     ]
    }
   ],
   "source": [
    "weight_lb = input(\" :ادخل الوزن بوحدة الباوند لتحويله إلى وحدة الكيلوغرام\")\n",
    "weight_kg = int(weight_lb) * 0.45359237\n",
    "print(str(weight_kg) + \" الوزن بالكيلوغرام:\")"
   ]
  },
  {
   "cell_type": "markdown",
   "id": "c65a14f8-8d03-4c62-8009-d0d726b42d74",
   "metadata": {},
   "source": [
    "## while أمر التكرار المشروط n-2"
   ]
  },
  {
   "cell_type": "code",
   "execution_count": 238,
   "id": "afb242ac-5ebb-497c-b657-c4bef9a3fba0",
   "metadata": {},
   "outputs": [],
   "source": [
    "#reference = \"ON\"\n",
    "#while reference == \"ON\":\n",
    "#    print(\"running\")"
   ]
  },
  {
   "cell_type": "markdown",
   "id": "161e84af-a8e2-4483-9f58-a1b21bae4cf2",
   "metadata": {},
   "source": [
    "### while استخدامات عملية (للّوپ)"
   ]
  },
  {
   "cell_type": "markdown",
   "id": "5be705d3-3a60-4b7d-8cc7-4c5608351a7b",
   "metadata": {},
   "source": [
    "#### تكرار تنفيذ (الكود) المسؤول عن تشغيل البرنامج، لجعله يستمر بعمله، ولا يتوقف مباشرة بعد تنفيذ أسطر (الكود) لمرة واحدة فقط"
   ]
  },
  {
   "cell_type": "code",
   "execution_count": 241,
   "id": "686d5df5-da26-4904-beba-934cd5f3108e",
   "metadata": {},
   "outputs": [
    {
     "ename": "KeyboardInterrupt",
     "evalue": "Interrupted by user",
     "output_type": "error",
     "traceback": [
      "\u001b[1;31m---------------------------------------------------------------------------\u001b[0m",
      "\u001b[1;31mKeyboardInterrupt\u001b[0m                         Traceback (most recent call last)",
      "Cell \u001b[1;32mIn[241], line 3\u001b[0m\n\u001b[0;32m      1\u001b[0m prog \u001b[38;5;241m=\u001b[39m \u001b[38;5;124m\"\u001b[39m\u001b[38;5;124mrun\u001b[39m\u001b[38;5;124m\"\u001b[39m\n\u001b[0;32m      2\u001b[0m \u001b[38;5;28;01mwhile\u001b[39;00m prog \u001b[38;5;241m==\u001b[39m \u001b[38;5;124m\"\u001b[39m\u001b[38;5;124mrun\u001b[39m\u001b[38;5;124m\"\u001b[39m:\n\u001b[1;32m----> 3\u001b[0m     user_text \u001b[38;5;241m=\u001b[39m \u001b[38;5;28;43minput\u001b[39;49m\u001b[43m(\u001b[49m\u001b[38;5;124;43m\"\u001b[39;49m\u001b[38;5;124;43m :Title ادخل النص لتحويله إلى صيغة\u001b[39;49m\u001b[38;5;124;43m\"\u001b[39;49m\u001b[43m)\u001b[49m\n\u001b[0;32m      4\u001b[0m     \u001b[38;5;28mprint\u001b[39m(user_text\u001b[38;5;241m.\u001b[39mtitle())\n",
      "File \u001b[1;32m~\\AppData\\Local\\Programs\\Python\\Python311\\Lib\\site-packages\\ipykernel\\kernelbase.py:1251\u001b[0m, in \u001b[0;36mKernel.raw_input\u001b[1;34m(self, prompt)\u001b[0m\n\u001b[0;32m   1249\u001b[0m     msg \u001b[38;5;241m=\u001b[39m \u001b[38;5;124m\"\u001b[39m\u001b[38;5;124mraw_input was called, but this frontend does not support input requests.\u001b[39m\u001b[38;5;124m\"\u001b[39m\n\u001b[0;32m   1250\u001b[0m     \u001b[38;5;28;01mraise\u001b[39;00m StdinNotImplementedError(msg)\n\u001b[1;32m-> 1251\u001b[0m \u001b[38;5;28;01mreturn\u001b[39;00m \u001b[38;5;28;43mself\u001b[39;49m\u001b[38;5;241;43m.\u001b[39;49m\u001b[43m_input_request\u001b[49m\u001b[43m(\u001b[49m\n\u001b[0;32m   1252\u001b[0m \u001b[43m    \u001b[49m\u001b[38;5;28;43mstr\u001b[39;49m\u001b[43m(\u001b[49m\u001b[43mprompt\u001b[49m\u001b[43m)\u001b[49m\u001b[43m,\u001b[49m\n\u001b[0;32m   1253\u001b[0m \u001b[43m    \u001b[49m\u001b[38;5;28;43mself\u001b[39;49m\u001b[38;5;241;43m.\u001b[39;49m\u001b[43m_parent_ident\u001b[49m\u001b[43m[\u001b[49m\u001b[38;5;124;43m\"\u001b[39;49m\u001b[38;5;124;43mshell\u001b[39;49m\u001b[38;5;124;43m\"\u001b[39;49m\u001b[43m]\u001b[49m\u001b[43m,\u001b[49m\n\u001b[0;32m   1254\u001b[0m \u001b[43m    \u001b[49m\u001b[38;5;28;43mself\u001b[39;49m\u001b[38;5;241;43m.\u001b[39;49m\u001b[43mget_parent\u001b[49m\u001b[43m(\u001b[49m\u001b[38;5;124;43m\"\u001b[39;49m\u001b[38;5;124;43mshell\u001b[39;49m\u001b[38;5;124;43m\"\u001b[39;49m\u001b[43m)\u001b[49m\u001b[43m,\u001b[49m\n\u001b[0;32m   1255\u001b[0m \u001b[43m    \u001b[49m\u001b[43mpassword\u001b[49m\u001b[38;5;241;43m=\u001b[39;49m\u001b[38;5;28;43;01mFalse\u001b[39;49;00m\u001b[43m,\u001b[49m\n\u001b[0;32m   1256\u001b[0m \u001b[43m\u001b[49m\u001b[43m)\u001b[49m\n",
      "File \u001b[1;32m~\\AppData\\Local\\Programs\\Python\\Python311\\Lib\\site-packages\\ipykernel\\kernelbase.py:1295\u001b[0m, in \u001b[0;36mKernel._input_request\u001b[1;34m(self, prompt, ident, parent, password)\u001b[0m\n\u001b[0;32m   1292\u001b[0m \u001b[38;5;28;01mexcept\u001b[39;00m \u001b[38;5;167;01mKeyboardInterrupt\u001b[39;00m:\n\u001b[0;32m   1293\u001b[0m     \u001b[38;5;66;03m# re-raise KeyboardInterrupt, to truncate traceback\u001b[39;00m\n\u001b[0;32m   1294\u001b[0m     msg \u001b[38;5;241m=\u001b[39m \u001b[38;5;124m\"\u001b[39m\u001b[38;5;124mInterrupted by user\u001b[39m\u001b[38;5;124m\"\u001b[39m\n\u001b[1;32m-> 1295\u001b[0m     \u001b[38;5;28;01mraise\u001b[39;00m \u001b[38;5;167;01mKeyboardInterrupt\u001b[39;00m(msg) \u001b[38;5;28;01mfrom\u001b[39;00m \u001b[38;5;28;01mNone\u001b[39;00m\n\u001b[0;32m   1296\u001b[0m \u001b[38;5;28;01mexcept\u001b[39;00m \u001b[38;5;167;01mException\u001b[39;00m:\n\u001b[0;32m   1297\u001b[0m     \u001b[38;5;28mself\u001b[39m\u001b[38;5;241m.\u001b[39mlog\u001b[38;5;241m.\u001b[39mwarning(\u001b[38;5;124m\"\u001b[39m\u001b[38;5;124mInvalid Message:\u001b[39m\u001b[38;5;124m\"\u001b[39m, exc_info\u001b[38;5;241m=\u001b[39m\u001b[38;5;28;01mTrue\u001b[39;00m)\n",
      "\u001b[1;31mKeyboardInterrupt\u001b[0m: Interrupted by user"
     ]
    }
   ],
   "source": [
    "prog = \"run\"\n",
    "while prog == \"run\":\n",
    "    user_text = input(\" :Title ادخل النص لتحويله إلى صيغة\")\n",
    "    print(user_text.title())"
   ]
  },
  {
   "cell_type": "markdown",
   "id": "f7ee55e0-e82b-4be0-92a7-3e77b269bf36",
   "metadata": {},
   "source": [
    "#### مثال - استخدام (اللوپ) لحساب وطباعة نتائج الأس 10 للأعداد من 0 إلى 10 "
   ]
  },
  {
   "cell_type": "code",
   "execution_count": 242,
   "id": "66714369-b0cb-457a-a062-410a50a3792d",
   "metadata": {},
   "outputs": [
    {
     "name": "stdout",
     "output_type": "stream",
     "text": [
      "0\n",
      "1\n",
      "1024\n",
      "59049\n",
      "1048576\n",
      "9765625\n",
      "60466176\n",
      "282475249\n",
      "1073741824\n",
      "3486784401\n",
      "10000000000\n"
     ]
    }
   ],
   "source": [
    "x = 0\n",
    "while x < 11:\n",
    "    print(x ** 10)\n",
    "    x = x + 1"
   ]
  },
  {
   "cell_type": "markdown",
   "id": "b1400432-0995-4909-8438-79d5384b0012",
   "metadata": {},
   "source": [
    "### while إيقاف (اللوپ) n-2.1"
   ]
  },
  {
   "cell_type": "markdown",
   "id": "06949385-9cac-463b-a263-dfb7d114e7a6",
   "metadata": {},
   "source": [
    "#### (!=) بواسطة استثناء while إيقاف (اللوپ) n-2.1.i"
   ]
  },
  {
   "cell_type": "code",
   "execution_count": 243,
   "id": "0d2cba40-04dc-49a8-ad2a-4a92ab2a5818",
   "metadata": {},
   "outputs": [
    {
     "name": "stdout",
     "output_type": "stream",
     "text": [
      "Titleادخل النص لتحويله إلى صيغة \n"
     ]
    },
    {
     "name": "stdin",
     "output_type": "stream",
     "text": [
      " :ادخل النص هنا ahmad\n"
     ]
    },
    {
     "name": "stdout",
     "output_type": "stream",
     "text": [
      "Ahmad\n"
     ]
    },
    {
     "name": "stdin",
     "output_type": "stream",
     "text": [
      " :ادخل النص هنا exit\n"
     ]
    }
   ],
   "source": [
    "user_text = \"Titleادخل النص لتحويله إلى صيغة \"\n",
    "while user_text != \"exit\":\n",
    "    print(user_text.title())\n",
    "    user_text = input(\" :ادخل النص هنا\")"
   ]
  },
  {
   "cell_type": "markdown",
   "id": "408c1735-d7b3-43d9-8fb7-8af80f8b8375",
   "metadata": {},
   "source": [
    "#### بواسطة مرجع (فلاچ) while إيقاف (اللوپ) n-2.1.ii"
   ]
  },
  {
   "cell_type": "code",
   "execution_count": 244,
   "id": "e5ed9da3-7aad-4cfe-9f0b-ec99d7eaef95",
   "metadata": {},
   "outputs": [
    {
     "name": "stdin",
     "output_type": "stream",
     "text": [
      "insert text here:  ahmad\n"
     ]
    },
    {
     "name": "stdout",
     "output_type": "stream",
     "text": [
      "AHMAD\n"
     ]
    },
    {
     "name": "stdin",
     "output_type": "stream",
     "text": [
      "insert text here:  quit\n"
     ]
    }
   ],
   "source": [
    "running = True\n",
    "while running:\n",
    "    message = input(\"insert text here: \")\n",
    "    if message == \"exit\":\n",
    "        running = False\n",
    "    elif message == \"quit\":\n",
    "        running = False\n",
    "    else:\n",
    "        print(message.upper())"
   ]
  },
  {
   "cell_type": "markdown",
   "id": "0bd4bce4-5f3e-4810-b4e0-1aba164fe7fc",
   "metadata": {},
   "source": [
    "#### break (الكيوورد) بواسطة while إيقاف (اللوپ) n-2.1.iii"
   ]
  },
  {
   "cell_type": "markdown",
   "id": "66d5c368-b25e-470c-ac79-7887e5ace888",
   "metadata": {},
   "source": [
    "##### break (الكيوورد) بواسطة while مثال -1- إيقاف (اللوپ) "
   ]
  },
  {
   "cell_type": "code",
   "execution_count": 245,
   "id": "8c2dc4a3-1021-4c9e-a666-f177d6afaff2",
   "metadata": {},
   "outputs": [
    {
     "name": "stdin",
     "output_type": "stream",
     "text": [
      "Input message:  ahmad\n"
     ]
    },
    {
     "name": "stdout",
     "output_type": "stream",
     "text": [
      "Message received.\n"
     ]
    },
    {
     "name": "stdin",
     "output_type": "stream",
     "text": [
      "Input message:  exit\n"
     ]
    }
   ],
   "source": [
    "while True:\n",
    "    message = input(\"Input message: \")\n",
    "    if message == \"exit\":\n",
    "        break\n",
    "    else:\n",
    "        print(\"Message received.\")"
   ]
  },
  {
   "cell_type": "markdown",
   "id": "f8903630-4077-4b4c-8e09-1164820ff529",
   "metadata": {},
   "source": [
    "##### break (الكيوورد) بواسطة for مثال -2- إيقاف (اللوپ) "
   ]
  },
  {
   "cell_type": "code",
   "execution_count": 246,
   "id": "b3d90338-96e6-4a81-9e76-327a42e78ab1",
   "metadata": {},
   "outputs": [
    {
     "name": "stdout",
     "output_type": "stream",
     "text": [
      "Found\n"
     ]
    }
   ],
   "source": [
    "letters = ['a', 'b', 'c', 'd', 'e', 'f', 'g', 'h', 'i', 'j', 'k', 'l', 'm', 'n']\n",
    "for letter in letters: \n",
    "    if letter == 'd':\n",
    "        print(\"Found\")\n",
    "        break"
   ]
  },
  {
   "cell_type": "markdown",
   "id": "b52c0ccc-eb24-4486-917e-21369648acdb",
   "metadata": {},
   "source": [
    "### continue تخطي جولة تكرار معيّنة بواسطة (الكيوورد) n-2.2"
   ]
  },
  {
   "cell_type": "markdown",
   "id": "4b176fa0-ea2a-405f-85be-5698f6981e71",
   "metadata": {},
   "source": [
    "#### while مثال -1- تجاوز جولة تكرار محددة من (اللوپ)"
   ]
  },
  {
   "cell_type": "code",
   "execution_count": 247,
   "id": "141c874c-0e25-45d0-ab85-3337cce37560",
   "metadata": {},
   "outputs": [
    {
     "name": "stdout",
     "output_type": "stream",
     "text": [
      "2\n",
      "4\n",
      "5\n"
     ]
    }
   ],
   "source": [
    "base_number = 1\n",
    "while base_number <= 4:\n",
    "    base_number = base_number + 1\n",
    "    if base_number == 3:\n",
    "        continue\n",
    "    print(base_number)"
   ]
  },
  {
   "cell_type": "markdown",
   "id": "98172b15-f5a9-4464-9bbc-c705c4101e8f",
   "metadata": {},
   "source": [
    "#### for مثال -2- تجاوز جولة تكرار محددة من (اللوپ)"
   ]
  },
  {
   "cell_type": "code",
   "execution_count": 248,
   "id": "a3b028a7-9e1a-4a5c-b441-aa46ac5c28c4",
   "metadata": {},
   "outputs": [
    {
     "name": "stdout",
     "output_type": "stream",
     "text": [
      "green\n",
      "blue\n"
     ]
    }
   ],
   "source": [
    "colors = [\"red\", \"green\", \"blue\"]\n",
    "for color in colors:\n",
    "    if color == \"red\":\n",
    "        continue\n",
    "    print(color)"
   ]
  },
  {
   "cell_type": "markdown",
   "id": "b410dea0-bf5f-477c-8b19-f9a4ffd03e25",
   "metadata": {},
   "source": [
    "### while نماذج عملية لاستخدام (اللوپ) n-2.3"
   ]
  },
  {
   "cell_type": "markdown",
   "id": "471ef314-4b06-43ae-b54b-daa8fa1ea0da",
   "metadata": {},
   "source": [
    "#### نقل العناصر من حاوية بيانات إلى أخرى n-2.3.i"
   ]
  },
  {
   "cell_type": "code",
   "execution_count": 249,
   "id": "1d0569a0-99b8-4fb2-b0fb-6ab5e90b4a1b",
   "metadata": {},
   "outputs": [
    {
     "name": "stdout",
     "output_type": "stream",
     "text": [
      "['Man City', 'Man Utd', 'Arsenal', 'Newcastle']\n"
     ]
    }
   ],
   "source": [
    "list_1 = [\"Newcastle\", \"Arsenal\", \"Man Utd\", \"Man City\"]\n",
    "list_2 = []\n",
    "while list_1:\n",
    "    item = list_1.pop()\n",
    "    list_2.append(item)\n",
    "print(list_2)"
   ]
  },
  {
   "cell_type": "markdown",
   "id": "b1d6a6c9-3941-4e5d-8fb0-5091cb1309bc",
   "metadata": {},
   "source": [
    "#### حذف عناصر متكررة من اللائحة n-2.3.ii"
   ]
  },
  {
   "cell_type": "code",
   "execution_count": 250,
   "id": "5c093dbf-0ef5-4785-9125-ebfbc3274f03",
   "metadata": {},
   "outputs": [
    {
     "name": "stdout",
     "output_type": "stream",
     "text": [
      "['PS5', 'PS4', 'Apple TV', 'NVIDIA SHIELD']\n"
     ]
    }
   ],
   "source": [
    "available_devices = [\"PC\", \"PS5\", \"PS4\", \"PC\", \"Apple TV\", \"NVIDIA SHIELD\"]\n",
    "while \"PC\" in available_devices:\n",
    "    available_devices.remove(\"PC\")\n",
    "print(available_devices)"
   ]
  },
  {
   "cell_type": "markdown",
   "id": "b4486792-7254-41b7-9bc2-23fd5c3770dc",
   "metadata": {},
   "source": [
    "## تمرين الفصل السادس"
   ]
  },
  {
   "cell_type": "code",
   "execution_count": 252,
   "id": "3adee873-9665-4916-be59-de4a0e92320a",
   "metadata": {},
   "outputs": [
    {
     "name": "stdout",
     "output_type": "stream",
     "text": [
      "لتصفح الأفلام أدخل كلمة: أفلام\n",
      "لتصفح المسلسلات أدخل كلمة: مسلسلات\n",
      "أو أدخل اسم الفيلم أو المسلسل لمزيد من المعلومات\n",
      "أو أدخل كلمة طاقم يليها اسم الفيلم أو المسلسل لطاقم الممثلين\n"
     ]
    },
    {
     "name": "stdin",
     "output_type": "stream",
     "text": [
      " :أدخل الاسم هنا بين\n"
     ]
    },
    {
     "name": "stdout",
     "output_type": "stream",
     "text": [
      "{'السنة': 1990, 'المخرج': 'جون هاورد ديفيس', 'النوع': 'كوميدي'}\n"
     ]
    },
    {
     "name": "stdin",
     "output_type": "stream",
     "text": [
      " :أدخل الاسم هنا خروج\n"
     ]
    }
   ],
   "source": [
    "print(\"\"\"لتصفح الأفلام أدخل كلمة: أفلام\n",
    "لتصفح المسلسلات أدخل كلمة: مسلسلات\n",
    "أو أدخل اسم الفيلم أو المسلسل لمزيد من المعلومات\n",
    "أو أدخل كلمة طاقم يليها اسم الفيلم أو المسلسل لطاقم الممثلين\"\"\")\n",
    "أفلام = [\"قلب شجاع\", \"المجالد\"]\n",
    "مسلسلات = [\"لعبة العروش\", \"بين\"]\n",
    "الاعمال = {\"قلب شجاع\": {\"السنة\": 1995, \"المخرج\": \"ميل جيبسون\", \"النوع\": \"دراما تاريخية\"}, \"المجالد\": {\"السنة\": 2000, \"المخرج\": \"ردلي سكوت\", \"النوع\": \"طابع تاريخي خيالي\"}, \"لعبة العروش\": {\"السنة\": 2011, \"المخرج\": \"آلن تيلور\", \"النوع\": \"أكشن خيالي\"}, \"بين\": {\"السنة\": 1990, \"المخرج\": \"جون هاورد ديفيس\", \"النوع\": \"كوميدي\"}}\n",
    "الممثلون = {\"قلب شجاع\": [\"ميل جيبسون\", \"كاثرين ماكورماك\", \"براندن جليسون\"], \"المجالد\": [\"راسل كراو\", \"جواكين فينكس\", \"كوني نلسن\"], \"لعبة العروش\": [\"إيميليا كلارك\", \"سوفي ترنر\", \"كيت هارنجتون\"], \"بين\": [\"روان أتكنسون\", \"روبن دريسكول\", \"ماتيلدا زيجلر\"]}\n",
    "while True:\n",
    "    message = input(\" :أدخل الاسم هنا\")\n",
    "    if message == \"أفلام\":\n",
    "        print(أفلام)\n",
    "    elif message == \"مسلسلات\":\n",
    "        print(مسلسلات)\n",
    "    elif message in الاعمال.keys():\n",
    "        print(الاعمال[message])\n",
    "    elif message == \"خروج\":\n",
    "        break\n",
    "    for عمل in الممثلون.keys():\n",
    "        if عمل in message and \"طاقم\" in message:\n",
    "            print(الممثلون[عمل])"
   ]
  },
  {
   "cell_type": "markdown",
   "id": "c249254a-832f-40bc-a690-55ee51e9f4ab",
   "metadata": {},
   "source": [
    "# -7- الفصل"
   ]
  },
  {
   "cell_type": "markdown",
   "id": "2799490c-47fe-4e6e-a2d9-8841f2643172",
   "metadata": {},
   "source": [
    "## (كود تعريف (الفانكشن n-1"
   ]
  },
  {
   "cell_type": "markdown",
   "id": "888a8d89-3409-4aea-a672-ed144f851172",
   "metadata": {},
   "source": [
    "#### Done تعريف (فانكشن) تؤدي إلى طباعة كلمة "
   ]
  },
  {
   "cell_type": "code",
   "execution_count": 253,
   "id": "e0c9033e-6e3f-44cc-b638-3c1e94708a21",
   "metadata": {},
   "outputs": [],
   "source": [
    "def function_name():\n",
    "    \"\"\"Function docstring\"\"\"\n",
    "    print(\"Done\")"
   ]
  },
  {
   "cell_type": "code",
   "execution_count": 254,
   "id": "50388154-ca2e-4abb-ae25-a20c6ae367ec",
   "metadata": {},
   "outputs": [
    {
     "name": "stdout",
     "output_type": "stream",
     "text": [
      "Done\n"
     ]
    }
   ],
   "source": [
    "function_name()"
   ]
  },
  {
   "cell_type": "markdown",
   "id": "ace38de4-53f6-4f49-b8ec-f2bf52d3d4e9",
   "metadata": {},
   "source": [
    "#### تعريف (فانكشن) تؤدي إلى طباعة العدد صفر  "
   ]
  },
  {
   "cell_type": "code",
   "execution_count": 255,
   "id": "69906670-b949-44b5-aec6-456d5bd84366",
   "metadata": {},
   "outputs": [],
   "source": [
    "def zero():\n",
    "    \"\"\"This function prints the number zero when called\"\"\"\n",
    "    print(0)"
   ]
  },
  {
   "cell_type": "code",
   "execution_count": 256,
   "id": "2cd08776-6a64-4993-8e40-15ff229aa665",
   "metadata": {},
   "outputs": [
    {
     "name": "stdout",
     "output_type": "stream",
     "text": [
      "0\n"
     ]
    }
   ],
   "source": [
    "zero()"
   ]
  },
  {
   "cell_type": "markdown",
   "id": "dd9445d4-6da2-47de-aa48-3273f3db2113",
   "metadata": {},
   "source": [
    "### تعريف (فانكشن) تستقبل (ارچومنت) n-1.1"
   ]
  },
  {
   "cell_type": "code",
   "execution_count": 257,
   "id": "8c883f54-0354-4203-a8ea-e340b913085e",
   "metadata": {},
   "outputs": [],
   "source": [
    "def upper_text(text):\n",
    "    \"\"\"This function converts text to uppercase\"\"\"\n",
    "    print(text.upper())"
   ]
  },
  {
   "cell_type": "code",
   "execution_count": 258,
   "id": "60d4baf1-7e2d-4a34-8f44-6744f827361b",
   "metadata": {},
   "outputs": [
    {
     "name": "stdout",
     "output_type": "stream",
     "text": [
      "HELLO FRIENDS\n"
     ]
    }
   ],
   "source": [
    "upper_text(\"hello friends\")"
   ]
  },
  {
   "cell_type": "markdown",
   "id": "b0201024-7768-4b62-981a-9528f2f8efce",
   "metadata": {},
   "source": [
    "### تعريف (فانكشن) تستقبل أكثر من (ارچومنت) واحد n-1.2"
   ]
  },
  {
   "cell_type": "code",
   "execution_count": 259,
   "id": "130bc7c7-82e3-4cf0-9d01-21d486ebe2b6",
   "metadata": {},
   "outputs": [],
   "source": [
    "def message_function(الاسم, الوظيفة):\n",
    "    \"\"\"طباعة رسالة مشتركة لمستخدمي تطبيق الويب\"\"\"\n",
    "    print(\".حضرة \" + الوظيفة + \" \" + الاسم + \"، إذا واجهت أي مشكلة، تواصل مع الطاقم الفني\")\n",
    "    print(\".طاقم المنصة الفني\")"
   ]
  },
  {
   "cell_type": "code",
   "execution_count": 260,
   "id": "068a70b1-2c03-483e-b80f-fec620fc8010",
   "metadata": {},
   "outputs": [
    {
     "name": "stdout",
     "output_type": "stream",
     "text": [
      ".حضرة الاعلامي حسن جمول، إذا واجهت أي مشكلة، تواصل مع الطاقم الفني\n",
      ".طاقم المنصة الفني\n"
     ]
    }
   ],
   "source": [
    "message_function(\"حسن جمول\", \"الاعلامي\")"
   ]
  },
  {
   "cell_type": "code",
   "execution_count": 261,
   "id": "7c4cdc38-3fb2-443d-b893-5e15b53420e6",
   "metadata": {},
   "outputs": [
    {
     "name": "stdout",
     "output_type": "stream",
     "text": [
      ".حضرة الدكتور أنس الخطيب، إذا واجهت أي مشكلة، تواصل مع الطاقم الفني\n",
      ".طاقم المنصة الفني\n",
      ".حضرة الدكتور أنس الخطيب، إذا واجهت أي مشكلة، تواصل مع الطاقم الفني\n",
      ".طاقم المنصة الفني\n"
     ]
    }
   ],
   "source": [
    "message_function(الوظيفة = \"الدكتور\", الاسم = \"أنس الخطيب\")\n",
    "message_function(الاسم = \"أنس الخطيب\", الوظيفة = \"الدكتور\")"
   ]
  },
  {
   "cell_type": "markdown",
   "id": "089e9e15-8899-47e1-b5c7-ce54e675c310",
   "metadata": {},
   "source": [
    "### تحديد قيمة أساسية (للپرميتر) n-1.3"
   ]
  },
  {
   "cell_type": "code",
   "execution_count": 262,
   "id": "c022e6f4-3d76-41a4-aceb-7742121d68c3",
   "metadata": {},
   "outputs": [],
   "source": [
    "def summation(a, b, c = 5):\n",
    "   \"\"\"This simple function performs the operation: a+b+c\"\"\"\n",
    "   print(a + b + c)"
   ]
  },
  {
   "cell_type": "code",
   "execution_count": 263,
   "id": "3ee9841f-aeff-48c0-a2d5-a06bcf389597",
   "metadata": {},
   "outputs": [
    {
     "name": "stdout",
     "output_type": "stream",
     "text": [
      "20\n"
     ]
    }
   ],
   "source": [
    "summation(10, 5)"
   ]
  },
  {
   "cell_type": "code",
   "execution_count": 264,
   "id": "acb2ed23-8619-4e85-9a58-7c743cedf455",
   "metadata": {},
   "outputs": [
    {
     "name": "stdout",
     "output_type": "stream",
     "text": [
      "50\n"
     ]
    }
   ],
   "source": [
    "summation(10, 10, 30)"
   ]
  },
  {
   "cell_type": "markdown",
   "id": "1a033a26-a690-4234-b17c-7b8bb5298a8a",
   "metadata": {},
   "source": [
    "### return (الكيوورد) n-1.4"
   ]
  },
  {
   "cell_type": "code",
   "execution_count": 265,
   "id": "57192e5a-6998-4c67-b1b8-5ab850d1d8e5",
   "metadata": {},
   "outputs": [],
   "source": [
    "def greeting_message(name):\n",
    "    \"\"\"The purpose of this function is to return a greeting message\"\"\"\n",
    "    return \"Dear \" + name + \" it was a pleasure to meet with you again.\""
   ]
  },
  {
   "cell_type": "code",
   "execution_count": 266,
   "id": "26be8ee6-8fa0-42f8-857f-2e3749b78c4d",
   "metadata": {},
   "outputs": [
    {
     "name": "stdout",
     "output_type": "stream",
     "text": [
      "Dear Sheikha Noufa it was a pleasure to meet with you again.\n"
     ]
    }
   ],
   "source": [
    "phrase = greeting_message(\"Sheikha Noufa\")\n",
    "print(phrase)"
   ]
  },
  {
   "cell_type": "markdown",
   "id": "39c514c8-6f92-4ef1-9ad2-6392a4f13feb",
   "metadata": {},
   "source": [
    "### ادراج (اللوپ) في وظيفة (الفانكشن) n-1.5"
   ]
  },
  {
   "cell_type": "markdown",
   "id": "8e3407d1-52ae-4e39-bebc-a78749fb3bca",
   "metadata": {},
   "source": [
    "#### (في وظيفة (الفانكشن for مثال -1- ادراج (اللوپ)"
   ]
  },
  {
   "cell_type": "code",
   "execution_count": 267,
   "id": "edd3c10b-80f9-4a0a-8fb6-533863694b8f",
   "metadata": {},
   "outputs": [],
   "source": [
    "def loop_function(elements):\n",
    "    \"\"\"A simple function to iterate through a given iterable\"\"\"\n",
    "    for element in elements:\n",
    "        print(\"Take care, \" + element + \". Come back and visit us soon!\")"
   ]
  },
  {
   "cell_type": "code",
   "execution_count": 268,
   "id": "75972f60-bc0d-4fc4-8eca-d051d8488f54",
   "metadata": {},
   "outputs": [
    {
     "name": "stdout",
     "output_type": "stream",
     "text": [
      "Take care, Faten. Come back and visit us soon!\n",
      "Take care, Lujain. Come back and visit us soon!\n",
      "Take care, Walid. Come back and visit us soon!\n"
     ]
    }
   ],
   "source": [
    "guests = [\"Faten\", \"Lujain\", \"Walid\"]\n",
    "loop_function(guests) "
   ]
  },
  {
   "cell_type": "markdown",
   "id": "b1a56555-893c-446b-8fea-202365e51f5a",
   "metadata": {},
   "source": [
    "#### (في وظيفة (الفانكشن while مثال -2- ادراج (اللوپ)"
   ]
  },
  {
   "cell_type": "code",
   "execution_count": 269,
   "id": "83f92295-54a7-41aa-a487-18b64b6b459a",
   "metadata": {},
   "outputs": [],
   "source": [
    "def transfer_elements(list_1, list_2):\n",
    "    \"\"\"A simple function to transfer elements from a list to another list\"\"\"\n",
    "    while list_1:\n",
    "        item = list_1.pop()\n",
    "        list_2.append(item)"
   ]
  },
  {
   "cell_type": "code",
   "execution_count": 270,
   "id": "c7c07740-7973-4e30-8f7a-2fdd6811972f",
   "metadata": {},
   "outputs": [
    {
     "name": "stdout",
     "output_type": "stream",
     "text": [
      "['two', 'one', 4, 3, 2, 1]\n"
     ]
    }
   ],
   "source": [
    "numbers = [1, 2, 3, 4, \"one\", \"two\"]\n",
    "new_numbers = []\n",
    "transfer_elements(numbers, new_numbers)\n",
    "print(new_numbers)"
   ]
  },
  {
   "cell_type": "markdown",
   "id": "3932a4e5-5ad4-451c-88ba-854888364667",
   "metadata": {},
   "source": [
    "### *args تعريف (فانكشن) تستقبل عدداً مفتوحاً من (الأرچومنت) n-1.6"
   ]
  },
  {
   "cell_type": "code",
   "execution_count": 271,
   "id": "059febe6-7c36-4d71-9cf1-c1c3ebff9a0e",
   "metadata": {},
   "outputs": [],
   "source": [
    "def participants(*names):\n",
    "    \"\"\"This simple function prints participants names\"\"\"\n",
    "    for name in names:\n",
    "        print(name)"
   ]
  },
  {
   "cell_type": "code",
   "execution_count": 272,
   "id": "8ede5b39-f81a-4942-9337-9c79217c0012",
   "metadata": {},
   "outputs": [
    {
     "name": "stdout",
     "output_type": "stream",
     "text": [
      "Maya\n",
      "Diana\n",
      "Hicham\n",
      "Fadi\n"
     ]
    }
   ],
   "source": [
    "participants(\"Maya\", \"Diana\", \"Hicham\", \"Fadi\")"
   ]
  },
  {
   "cell_type": "markdown",
   "id": "1aa7d607-cd49-4039-a616-37c8db4f4098",
   "metadata": {},
   "source": [
    "### **kwargs تعريف (فانكشن) تستقبل عدداً مفتوحاً من أزواج (الكيوورد ارچومنت) n-1.7"
   ]
  },
  {
   "cell_type": "code",
   "execution_count": 273,
   "id": "6fbc2f8c-61ef-4dca-b735-a10290c58c4b",
   "metadata": {},
   "outputs": [],
   "source": [
    "def demonstrate(**pairs):\n",
    "    \"\"\"A simple demonstrative **kwargs function\"\"\"\n",
    "    print(pairs)"
   ]
  },
  {
   "cell_type": "code",
   "execution_count": 274,
   "id": "a039d587-654c-4e6e-82b2-07d0133442f2",
   "metadata": {},
   "outputs": [
    {
     "name": "stdout",
     "output_type": "stream",
     "text": [
      "{'Rolex_Panda': 16050, 'Patek_Philippe5712': 98500, 'RM_O55': 327000}\n"
     ]
    }
   ],
   "source": [
    "demonstrate(Rolex_Panda = 16050, Patek_Philippe5712 = 98500, RM_O55 = 327000)"
   ]
  },
  {
   "cell_type": "code",
   "execution_count": 275,
   "id": "63ec33cf-129e-43ba-b9d4-b1b8dfc7b74f",
   "metadata": {},
   "outputs": [],
   "source": [
    "def print_pairs(**duo):\n",
    "    \"\"\"A simple demonstrative **kwargs function\"\"\"\n",
    "    for watch, price in duo.items():\n",
    "        print(\"The \" + watch + \" luxury watch is priced at $\" + str(price))"
   ]
  },
  {
   "cell_type": "code",
   "execution_count": 276,
   "id": "926a4eea-cd45-4d0a-820e-fda913648426",
   "metadata": {},
   "outputs": [
    {
     "name": "stdout",
     "output_type": "stream",
     "text": [
      "The Rolex_Panda luxury watch is priced at $16050\n",
      "The Patek_Philippe5712 luxury watch is priced at $98500\n",
      "The RM_O55 luxury watch is priced at $327000\n"
     ]
    }
   ],
   "source": [
    "print_pairs(Rolex_Panda = 16050, Patek_Philippe5712 = 98500, RM_O55 = 327000)"
   ]
  },
  {
   "cell_type": "code",
   "execution_count": 277,
   "id": "65616760-5041-4090-9977-a6a684372a10",
   "metadata": {},
   "outputs": [
    {
     "name": "stdout",
     "output_type": "stream",
     "text": [
      "The Rolex Panda luxury watch is priced at $16050\n",
      "The Patek Philippe 5712 luxury watch is priced at $98500\n",
      "The RM O55 luxury watch is priced at $327000\n"
     ]
    }
   ],
   "source": [
    "watches = {\"Rolex Panda\": 16050, \"Patek Philippe 5712\": 98500, \"RM O55\": 327000}\n",
    "print_pairs(**watches)"
   ]
  },
  {
   "cell_type": "markdown",
   "id": "5d228372-1941-44c7-958c-12dfa41e16c0",
   "metadata": {},
   "source": [
    "## تمرين الفصل السابع"
   ]
  },
  {
   "cell_type": "markdown",
   "id": "c5e00eb1-d73b-4810-90b5-4e6d83a8a8eb",
   "metadata": {},
   "source": [
    "### 1"
   ]
  },
  {
   "cell_type": "code",
   "execution_count": 278,
   "id": "ee4cd7a9-a8dc-45f8-9de0-8ecd4571e68e",
   "metadata": {},
   "outputs": [
    {
     "name": "stdout",
     "output_type": "stream",
     "text": [
      "Ahmad occupation in Lebanon is in the field of Public Relations.\n"
     ]
    }
   ],
   "source": [
    "def nol(name = \"Ahmad\", occupation = \"Public Relations\", location = \"Lebanon\"):\n",
    "    \"\"\"This function prints a sentence about name, occupation, and location\"\"\"\n",
    "    print(name + \" occupation in \" + location + \" is in the field of \" + occupation + \".\")\n",
    "\n",
    "nol()"
   ]
  },
  {
   "cell_type": "markdown",
   "id": "b53c09b6-d426-441f-864e-db701db813dc",
   "metadata": {},
   "source": [
    "### 2"
   ]
  },
  {
   "cell_type": "code",
   "execution_count": 279,
   "id": "320854c8-6691-4acd-8183-39738f78d2c0",
   "metadata": {},
   "outputs": [
    {
     "name": "stdout",
     "output_type": "stream",
     "text": [
      "The blood type of Ahmad is O+.\n"
     ]
    }
   ],
   "source": [
    "def blood_type(name, bloodtype):\n",
    "    \"\"\"This simple function prints a sentence about name, and bloodtype\"\"\"\n",
    "    print(\"The blood type of \" + name + \" is \" + bloodtype + \".\")\n",
    "\n",
    "blood_type(\"Ahmad\", \"O+\")"
   ]
  },
  {
   "cell_type": "markdown",
   "id": "d5e1ebf8-76c0-4590-aa42-af5bd6f9b5d4",
   "metadata": {},
   "source": [
    "### 3"
   ]
  },
  {
   "cell_type": "code",
   "execution_count": 280,
   "id": "437c1870-2349-4f90-a3a6-cefd31d69fcf",
   "metadata": {},
   "outputs": [
    {
     "name": "stdout",
     "output_type": "stream",
     "text": [
      "My name is Ahmad.\n",
      "The name of my friend is Yasser.\n",
      "The name of my friend is Hazar.\n",
      "The name of my friend is Rami.\n"
     ]
    }
   ],
   "source": [
    "names = [\"Ahmad\", \"Yasser\", \"Hazar\", \"Rami\"]\n",
    "def amigos(friends):\n",
    "    \"\"\"A simple looping function\"\"\"\n",
    "    for friend in friends:\n",
    "        if friend == \"Ahmad\":\n",
    "            print(\"My name is \" + friend + \".\")\n",
    "        else:\n",
    "            print(\"The name of my friend is \" + friend + \".\")\n",
    "\n",
    "amigos(names)"
   ]
  },
  {
   "cell_type": "markdown",
   "id": "bcda5de5-611f-45b1-99cb-1786ea1230d0",
   "metadata": {},
   "source": [
    "### 4"
   ]
  },
  {
   "cell_type": "code",
   "execution_count": 281,
   "id": "d87e8d78-f918-415a-b7ae-70f0a7a64aca",
   "metadata": {},
   "outputs": [
    {
     "name": "stdout",
     "output_type": "stream",
     "text": [
      "The iphone is a line of smartphones produced by Apple Inc.\n",
      "The Galaxy is a line of smartphones produced by Samsung Electronics.\n"
     ]
    }
   ],
   "source": [
    "def mob(**pairs):\n",
    "    \"\"\"A simple **kwargs looping function\"\"\"\n",
    "    for phone, mfr in pairs.items():\n",
    "        print(\"The \" + phone +  \" is a line of smartphones produced by \" + mfr + \".\")\n",
    "\n",
    "mob(iphone = \"Apple Inc\", Galaxy = \"Samsung Electronics\")"
   ]
  },
  {
   "cell_type": "markdown",
   "id": "5cd7e517-b27e-475b-a44c-e58fb5e3cf16",
   "metadata": {},
   "source": [
    "### 5"
   ]
  },
  {
   "cell_type": "code",
   "execution_count": 282,
   "id": "5fbeb0e2-d6a8-417d-88fb-e9a8fa1d6dce",
   "metadata": {},
   "outputs": [],
   "source": [
    "a = [1, 2, 3, 4, 5]\n",
    "b = []\n",
    "c = []"
   ]
  },
  {
   "cell_type": "markdown",
   "id": "bdd6d803-8d24-4fe9-a3ab-280c532e41eb",
   "metadata": {},
   "source": [
    "### 5.1"
   ]
  },
  {
   "cell_type": "code",
   "execution_count": 283,
   "id": "0fde21fa-5c78-4e3e-b999-cdf0618b6127",
   "metadata": {},
   "outputs": [],
   "source": [
    "def transfer(list_1, list_2):\n",
    "    \"\"\"A simple function to transfer elements from a list to another list\"\"\"\n",
    "    while list_1:\n",
    "        item = list_1.pop()\n",
    "        list_2.append(item)\n",
    "\n",
    "transfer(a, b)"
   ]
  },
  {
   "cell_type": "markdown",
   "id": "1697f213-bae4-4208-bc2e-3d80ed5bfa82",
   "metadata": {},
   "source": [
    "### 5.2"
   ]
  },
  {
   "cell_type": "code",
   "execution_count": 284,
   "id": "2b097343-a1a0-4724-9f44-38f8a7491547",
   "metadata": {},
   "outputs": [],
   "source": [
    "transfer(b[:], c)"
   ]
  },
  {
   "cell_type": "markdown",
   "id": "d9e9ea72-2d0c-4a81-8190-709b0ca22460",
   "metadata": {},
   "source": [
    "### 5.3"
   ]
  },
  {
   "cell_type": "code",
   "execution_count": 285,
   "id": "1652b156-9020-4e15-a702-8b4d03576311",
   "metadata": {},
   "outputs": [
    {
     "name": "stdout",
     "output_type": "stream",
     "text": [
      "[]\n",
      "[5, 4, 3, 2, 1]\n",
      "[1, 2, 3, 4, 5]\n"
     ]
    }
   ],
   "source": [
    "print(a)\n",
    "print(b)\n",
    "print(c)"
   ]
  },
  {
   "cell_type": "markdown",
   "id": "3e9d23b0-c061-4d3b-a120-dc9828127a0c",
   "metadata": {},
   "source": [
    "# -8- الفصل"
   ]
  },
  {
   "cell_type": "markdown",
   "id": "8e47b126-a692-4470-a67f-e685a1df11a9",
   "metadata": {},
   "source": [
    "## (كود تعريف الكلاس) n-1"
   ]
  },
  {
   "cell_type": "code",
   "execution_count": 286,
   "id": "d20bddc3-2e5f-45c6-b9ef-a53dbed8347a",
   "metadata": {},
   "outputs": [],
   "source": [
    "class Robot():\n",
    "   \"\"\"This class represents a robot that can perform actions\"\"\"\n",
    "   def __init__(self, name, color):\n",
    "      \"\"\"Initialize name and color attributes\"\"\"\n",
    "      self.name = name\n",
    "      self.color = color\n",
    "   def sit(self):\n",
    "      \"\"\"Make a robot sit in response to a command\"\"\"\n",
    "      print(self.name + \" is sitting\")\n",
    "   def walk(self):\n",
    "      \"\"\"Make a robot walk in response to a command\"\"\"\n",
    "      print(self.name + \" is walking\")"
   ]
  },
  {
   "cell_type": "markdown",
   "id": "fe49814b-ed43-4371-bbd6-0492f5059601",
   "metadata": {},
   "source": [
    "##### استخراج (أوبجكت) من خلال (الكلاس)"
   ]
  },
  {
   "cell_type": "code",
   "execution_count": 287,
   "id": "ffd1fd43-f61a-4ff3-94fd-d24d70a1bd22",
   "metadata": {},
   "outputs": [],
   "source": [
    "robot_1 = Robot(\"Eve\", \"white\")"
   ]
  },
  {
   "cell_type": "markdown",
   "id": "691b90f3-86d2-4c75-b4cd-e8a8d2636fed",
   "metadata": {},
   "source": [
    "##### استدعاء واحدة من (الميثود) التي قمنا بتعريفها ضمن (الكلاس)"
   ]
  },
  {
   "cell_type": "code",
   "execution_count": 288,
   "id": "251e3479-964e-4a51-9a54-28b12ea9ab40",
   "metadata": {},
   "outputs": [
    {
     "name": "stdout",
     "output_type": "stream",
     "text": [
      "Eve is sitting\n"
     ]
    }
   ],
   "source": [
    "robot_1.sit()"
   ]
  },
  {
   "cell_type": "markdown",
   "id": "8fc0e5c3-15c6-4320-9ed0-3427e669c855",
   "metadata": {},
   "source": [
    "### (كود الأتربيوت وبعض طرق تعديله) n-1.1"
   ]
  },
  {
   "cell_type": "code",
   "execution_count": 289,
   "id": "98a64e94-986e-4bb2-ac19-5f8033d2405c",
   "metadata": {},
   "outputs": [],
   "source": [
    "class Player():\n",
    "   \"\"\"A basic class to create bots representing football players\"\"\"\n",
    "   def __init__(self, name, number, position):\n",
    "      \"\"\"Initialize bot name, number, & position attributes\"\"\"\n",
    "      self.name = name\n",
    "      self.number = number\n",
    "      self.position = position\n",
    "   def shortdescr(self):\n",
    "      \"\"\"Print a short description about football player bot\"\"\"\n",
    "      print(self.name + \" |No.: \" + self.number + \" |Pos.: \" + self.position)"
   ]
  },
  {
   "cell_type": "code",
   "execution_count": 290,
   "id": "54d04053-9764-4557-b87c-5113c5ad5bd2",
   "metadata": {},
   "outputs": [
    {
     "name": "stdout",
     "output_type": "stream",
     "text": [
      "Ronaldo |No.: 7 |Pos.: Striker\n"
     ]
    }
   ],
   "source": [
    "player_1 = Player(\"Ronaldo\", \"7\", \"Striker\")\n",
    "player_1.shortdescr()"
   ]
  },
  {
   "cell_type": "markdown",
   "id": "c1863902-2f6d-4c1e-8081-d9f11eba8fb0",
   "metadata": {},
   "source": [
    "##### (كود الأتربيوت)"
   ]
  },
  {
   "cell_type": "code",
   "execution_count": 291,
   "id": "8b0c1ce2-d05d-4ad8-9fff-d23825c90dc4",
   "metadata": {},
   "outputs": [
    {
     "name": "stdout",
     "output_type": "stream",
     "text": [
      "Ronaldo\n"
     ]
    }
   ],
   "source": [
    "print(player_1.name)"
   ]
  },
  {
   "cell_type": "markdown",
   "id": "0cda2b46-6abc-47b6-9ba3-48b42fda4e87",
   "metadata": {},
   "source": [
    "#### تعديل (الأتربيوت) مباشرةً بواسطة (الكود) n-1.1.i"
   ]
  },
  {
   "cell_type": "code",
   "execution_count": 292,
   "id": "2c8130d2-7cca-4d3d-84e4-05b9fdb906e6",
   "metadata": {},
   "outputs": [],
   "source": [
    "player_1.name = \"Messi\"\n",
    "player_1.number = \"30\"\n",
    "player_1.position = \"Attacking midfielder\""
   ]
  },
  {
   "cell_type": "code",
   "execution_count": 293,
   "id": "f6c7d1e3-7bf5-4f9e-b644-c4ae213671c3",
   "metadata": {},
   "outputs": [
    {
     "name": "stdout",
     "output_type": "stream",
     "text": [
      "Messi |No.: 30 |Pos.: Attacking midfielder\n"
     ]
    }
   ],
   "source": [
    "player_1.shortdescr()"
   ]
  },
  {
   "cell_type": "markdown",
   "id": "0cf17b33-a5c1-45d6-bc51-04ef8b313150",
   "metadata": {},
   "source": [
    "#### تعديل (الأتربيوت) بواسطة (الميثود) n-1.1.ii"
   ]
  },
  {
   "cell_type": "code",
   "execution_count": 294,
   "id": "31e8ca59-1aa7-45da-b025-00b31b3b0a87",
   "metadata": {},
   "outputs": [],
   "source": [
    "class Player():\n",
    "   \"\"\"A basic class to create bots representing football players\"\"\"\n",
    "   def __init__(self, name, number, position):\n",
    "      \"\"\"Initialize bot name, number, & position attributes\"\"\"\n",
    "      self.name = name\n",
    "      self.number = number\n",
    "      self.position = position\n",
    "   def shortdescr(self):\n",
    "      \"\"\"Print a short description about football player bot\"\"\"\n",
    "      print(self.name + \" |No.: \" + self.number + \" |Pos.: \" + self.position)\n",
    "   def pno(self, number):\n",
    "      \"\"\"Update player number attribute\"\"\"\n",
    "      self.number = number"
   ]
  },
  {
   "cell_type": "code",
   "execution_count": 295,
   "id": "b0adce48-8519-4b8d-95f8-c0dcb38a998e",
   "metadata": {},
   "outputs": [],
   "source": [
    "player_1 = Player(\"Ronaldo\", \"7\", \"Striker\")\n",
    "player_1.name = \"Messi\"\n",
    "player_1.number = \"30\"\n",
    "player_1.position = \"Attacking midfielder\""
   ]
  },
  {
   "cell_type": "code",
   "execution_count": 296,
   "id": "9cb59df5-83b5-44a6-8986-f398e34b1697",
   "metadata": {},
   "outputs": [
    {
     "name": "stdout",
     "output_type": "stream",
     "text": [
      "Messi |No.: 10 |Pos.: Attacking midfielder\n"
     ]
    }
   ],
   "source": [
    "player_1.pno(\"10\")\n",
    "player_1.shortdescr()"
   ]
  },
  {
   "cell_type": "markdown",
   "id": "f355ff6e-68c3-4f4f-a774-0de4a9006464",
   "metadata": {},
   "source": [
    "### تحديد قيمة أساسية (للأتربيوت) n-1.2"
   ]
  },
  {
   "cell_type": "code",
   "execution_count": 297,
   "id": "a6b69ca8-837e-4755-952b-e43fb4f2cf50",
   "metadata": {},
   "outputs": [],
   "source": [
    "class F1():\n",
    "   \"\"\"A basic class to create objects representing F1 cars\"\"\"\n",
    "   def __init__(self, manufacturer, driver, color = \"grey\"):\n",
    "      \"\"\"Initialize F1 car attributes\"\"\"\n",
    "      self.manufacturer = manufacturer\n",
    "      self.driver = driver\n",
    "      self.color = color\n",
    "      self.horsepower = 1000\n",
    "      self.enginesize = 1.6\n",
    "   def describe(self):\n",
    "      \"\"\"Print a short description about F1 car\"\"\"\n",
    "      print(self.driver + \" drives the \" + self.color + \" \" + self.manufacturer + \", which is equipped with a \" + str(self.enginesize) + \" L engine, and has a maximum horsepower of \" + str(self.horsepower))"
   ]
  },
  {
   "cell_type": "code",
   "execution_count": 298,
   "id": "c2ca0de7-0058-49b1-851e-67263f19b188",
   "metadata": {},
   "outputs": [],
   "source": [
    "car_1 = F1(\"McLaren\", \"Hamilton\")"
   ]
  },
  {
   "cell_type": "code",
   "execution_count": 299,
   "id": "b12023b5-dbd4-4ed5-8854-0f6a90a6f0e7",
   "metadata": {},
   "outputs": [
    {
     "name": "stdout",
     "output_type": "stream",
     "text": [
      "Hamilton drives the grey McLaren, which is equipped with a 1.6 L engine, and has a maximum horsepower of 1000\n"
     ]
    }
   ],
   "source": [
    "car_1.describe()"
   ]
  },
  {
   "cell_type": "code",
   "execution_count": 300,
   "id": "b14584bb-77d1-4578-bf41-68843730489b",
   "metadata": {},
   "outputs": [],
   "source": [
    "car_2 = F1(\"Ferrari\", \"Schumacher\", \"red\")"
   ]
  },
  {
   "cell_type": "code",
   "execution_count": 301,
   "id": "3c715c99-3a94-48ff-a991-a1a244af5e85",
   "metadata": {},
   "outputs": [],
   "source": [
    "car_2.horsepower = 865\n",
    "car_2.enginesize = 3.0"
   ]
  },
  {
   "cell_type": "code",
   "execution_count": 302,
   "id": "e9076cc3-575c-44e0-a0ec-0e92c58ae49e",
   "metadata": {},
   "outputs": [
    {
     "name": "stdout",
     "output_type": "stream",
     "text": [
      "Schumacher drives the red Ferrari, which is equipped with a 3.0 L engine, and has a maximum horsepower of 865\n"
     ]
    }
   ],
   "source": [
    "car_2.describe()"
   ]
  },
  {
   "cell_type": "markdown",
   "id": "940d7a53-e1f0-4429-a157-313a7dc52025",
   "metadata": {},
   "source": [
    "### تعريف (كلاس) فرعي انطلاقًا من (كلاس) أساسي آخر n-1.3"
   ]
  },
  {
   "cell_type": "code",
   "execution_count": 303,
   "id": "ee2cc68a-d171-4b33-971d-7976002ae4de",
   "metadata": {},
   "outputs": [],
   "source": [
    "class F1():\n",
    "   \"\"\"A basic class to create objects representing F1 cars\"\"\"\n",
    "   def __init__(self, manufacturer, driver, color = \"grey\"):\n",
    "      \"\"\"Initialize F1 car attributes\"\"\"\n",
    "      self.manufacturer = manufacturer\n",
    "      self.driver = driver\n",
    "      self.color = color\n",
    "      self.horsepower = 1000\n",
    "      self.enginesize = 1.6\n",
    "   def describe(self):\n",
    "      \"\"\"Print a short description about F1 car\"\"\"\n",
    "      print(self.driver + \" drives the \" + self.color + \" \" + self.manufacturer + \", which is equipped with a \" + str(self.enginesize) + \" L engine, and has a maximum horsepower of \" + str(self.horsepower))"
   ]
  },
  {
   "cell_type": "code",
   "execution_count": 304,
   "id": "ce9f9d29-c5f9-411c-83f5-8cdaccf40b90",
   "metadata": {},
   "outputs": [],
   "source": [
    "class Rally(F1):\n",
    "   \"\"\"A subclass to create objects representing rally cars\"\"\"\n",
    "   def __init__(self, manufacturer, driver, color, engine):\n",
    "      \"\"\"Initialize superclass attributes\"\"\"\n",
    "      super().__init__(manufacturer, driver, color)\n",
    "      self.engine = engine\n",
    "   def eng_code(self):\n",
    "      \"\"\"Print rally car engine code\"\"\"\n",
    "      print(self.manufacturer + \" engine code: \" + self.engine)"
   ]
  },
  {
   "cell_type": "code",
   "execution_count": 305,
   "id": "b0c540ca-2290-457b-b847-04d75db9e8dd",
   "metadata": {},
   "outputs": [],
   "source": [
    "rally_car = Rally(\"Mitsubishi\", \"Roger Feghali\", \"red\", \"4G63\")"
   ]
  },
  {
   "cell_type": "code",
   "execution_count": 306,
   "id": "665a5104-880c-46bb-b007-8ba400175d56",
   "metadata": {},
   "outputs": [],
   "source": [
    "rally_car.horsepower = \"550+\"\n",
    "rally_car.enginesize = \"2.0\""
   ]
  },
  {
   "cell_type": "code",
   "execution_count": 307,
   "id": "9072cab6-7d6a-4e2a-ad76-36f1909a5682",
   "metadata": {},
   "outputs": [
    {
     "name": "stdout",
     "output_type": "stream",
     "text": [
      "Roger Feghali drives the red Mitsubishi, which is equipped with a 2.0 L engine, and has a maximum horsepower of 550+\n"
     ]
    }
   ],
   "source": [
    "rally_car.describe()"
   ]
  },
  {
   "cell_type": "code",
   "execution_count": 308,
   "id": "b6ec2ed5-aa3b-4633-864f-81b0a9f577c5",
   "metadata": {},
   "outputs": [
    {
     "name": "stdout",
     "output_type": "stream",
     "text": [
      "Mitsubishi engine code: 4G63\n"
     ]
    }
   ],
   "source": [
    "rally_car.eng_code()"
   ]
  },
  {
   "cell_type": "markdown",
   "id": "1a0cd571-8b31-4087-9e8b-3da8e2f5c22f",
   "metadata": {},
   "source": [
    "## تمرين الفصل الثامن"
   ]
  },
  {
   "cell_type": "code",
   "execution_count": 318,
   "id": "08492e07-55d6-44fb-9ed0-b5ca4d6b36a0",
   "metadata": {},
   "outputs": [],
   "source": [
    "class ACCC():\n",
    "    \"\"\"A basic class to create objects representing football clubs\"\"\"\n",
    "    def __init__(self, team = \"Al-Nassr\", country = \"KSA\", coach = \"Rudi Garcia\", captain = \"Sultan Al-Ghanem\"):\n",
    "        \"\"\"Initialize football club attributes\"\"\"\n",
    "        self.team = team\n",
    "        self.country = country\n",
    "        self.coach = coach\n",
    "        self.captain = captain\n",
    "        self.goals = 0\n",
    "    def describe(self):\n",
    "        \"\"\"Print a short description about the football club\"\"\"\n",
    "        print(\"The elite football club, \" + self.team + \", representing \" + self.country + \", is set to compete in the 'Arab Club Champions Cup', Under the guidance of Coach \" + self.captain + \", and the leadership of Captain \" + self.captain + \".\")\n",
    "    def goals_increment(self, x):\n",
    "        \"\"\"Increment the team goals by x amount\"\"\"\n",
    "        self.goals = self.goals + x\n",
    "    def score(self):\n",
    "        \"\"\"Print the total number of goals scored by the team\"\"\"\n",
    "        print(\"The \" + self.team + \" has scored a total of \" + str(self.goals) + \" goal/s.\")\n"
   ]
  },
  {
   "cell_type": "code",
   "execution_count": 319,
   "id": "1f88978a-1cee-43d4-b344-487e10c67b23",
   "metadata": {},
   "outputs": [
    {
     "name": "stdout",
     "output_type": "stream",
     "text": [
      "The elite football club, Al-Tarajji, representing Tunisia, is set to compete in the 'Arab Club Champions Cup', Under the guidance of Coach Khalil Chamem, and the leadership of Captain Khalil Chamem.\n"
     ]
    }
   ],
   "source": [
    "altarajji = ACCC(\"Al-Tarajji\", \"Tunisia\", \"Nabil Maaloul\", \"Khalil Chamem\")\n",
    "alrajaa = ACCC(\"Al-Rajaa\", \"Morocco\", \"Monzer Al-Kabir\", \"Mohsen Metwalli\")\n",
    "altarajji.describe()"
   ]
  },
  {
   "cell_type": "code",
   "execution_count": 320,
   "id": "3007a321-bade-49ce-9799-eceeb7a1a89c",
   "metadata": {},
   "outputs": [
    {
     "name": "stdout",
     "output_type": "stream",
     "text": [
      "The elite football club, Al-Rajaa, representing Morocco, is set to compete in the 'Arab Club Champions Cup', Under the guidance of Coach Mohsen Metwalli, and the leadership of Captain Mohsen Metwalli.\n"
     ]
    }
   ],
   "source": [
    "alrajaa.describe()"
   ]
  },
  {
   "cell_type": "code",
   "execution_count": 321,
   "id": "7b133ca9-a6d3-434c-aff0-84ad42c7793c",
   "metadata": {},
   "outputs": [
    {
     "name": "stdout",
     "output_type": "stream",
     "text": [
      "The elite football club, Al-Nassr, representing KSA, is set to compete in the 'Arab Club Champions Cup', Under the guidance of Coach Sultan Al-Ghanem, and the leadership of Captain Sultan Al-Ghanem.\n"
     ]
    }
   ],
   "source": [
    "alnassr = ACCC()\n",
    "alnassr.describe()"
   ]
  },
  {
   "cell_type": "code",
   "execution_count": 322,
   "id": "a6627b79-67fc-4c77-ae6c-863b6df40169",
   "metadata": {},
   "outputs": [
    {
     "name": "stdout",
     "output_type": "stream",
     "text": [
      "The Al-Rajaa has scored a total of 1 goal/s.\n"
     ]
    }
   ],
   "source": [
    "alrajaa.goals_increment(1)\n",
    "alrajaa.score()"
   ]
  },
  {
   "cell_type": "code",
   "execution_count": 323,
   "id": "c10d4d0f-d7c3-4ea7-aed4-4b8ebf9dde55",
   "metadata": {},
   "outputs": [],
   "source": [
    "class Player(ACCC):\n",
    "   \"\"\"A subclass to create objects representing football players\"\"\"\n",
    "   def __init__(self, team, country, coach, captain, name, position):\n",
    "      \"\"\"Initialize subclass attributes\"\"\"\n",
    "      super().__init__(team, country, coach, captain)\n",
    "      self.name = name\n",
    "      self.position = position\n",
    "      self.yellow_card = 0\n",
    "      self.red_card = 0\n",
    "   def player(self):\n",
    "      \"\"\"Print a short description about the football player\"\"\"\n",
    "      print(\"As a \" + self.position + \", \" + self.name + \" plays for \" + self.team + \" in the 'Arab Club Champions Cup'.\")\n",
    "   def cards(self):\n",
    "      \"\"\"Print how many times a player has been carded\"\"\"\n",
    "      print(self.name + \" has been yellow-carded \" + str(self.yellow_card) + \" times, and red-carded \" + str(self.red_card) + \" times.\")\n",
    "   def check(self):\n",
    "      \"\"\"Print whether the player can participate in the next match or not\"\"\"\n",
    "      if self.yellow_card < 2 and self.red_card <1:\n",
    "         print(\"Can participate in the next match\")\n",
    "      else:\n",
    "         print(\"Misses next match\")"
   ]
  },
  {
   "cell_type": "code",
   "execution_count": 324,
   "id": "5eda0ac2-59a0-485b-bc2b-3555ce59df5a",
   "metadata": {},
   "outputs": [
    {
     "name": "stdout",
     "output_type": "stream",
     "text": [
      "As a striker, Ronaldo plays for Al-Nassr in the 'Arab Club Champions Cup'.\n"
     ]
    }
   ],
   "source": [
    "ronaldo = Player(\"Al-Nassr\", \"KSA\", \"Rudi Garcia\", \"Sultan Al-Ghanem\", \"Ronaldo\", \"striker\")\n",
    "ronaldo.player()"
   ]
  },
  {
   "cell_type": "code",
   "execution_count": 325,
   "id": "0018b8db-4fba-4850-b847-13a4c25d6bb2",
   "metadata": {},
   "outputs": [
    {
     "name": "stdout",
     "output_type": "stream",
     "text": [
      "Ronaldo has been yellow-carded 0 times, and red-carded 1 times.\n"
     ]
    }
   ],
   "source": [
    "ronaldo.red_card = 1\n",
    "ronaldo.cards()"
   ]
  },
  {
   "cell_type": "code",
   "execution_count": 326,
   "id": "9ead0f81-f7ae-4aa2-a35f-da10adf2b1b2",
   "metadata": {},
   "outputs": [
    {
     "name": "stdout",
     "output_type": "stream",
     "text": [
      "Misses next match\n"
     ]
    }
   ],
   "source": [
    "ronaldo.check()"
   ]
  }
 ],
 "metadata": {
  "kernelspec": {
   "display_name": "Python 3 (ipykernel)",
   "language": "python",
   "name": "python3"
  },
  "language_info": {
   "codemirror_mode": {
    "name": "ipython",
    "version": 3
   },
   "file_extension": ".py",
   "mimetype": "text/x-python",
   "name": "python",
   "nbconvert_exporter": "python",
   "pygments_lexer": "ipython3",
   "version": "3.11.6"
  }
 },
 "nbformat": 4,
 "nbformat_minor": 5
}
